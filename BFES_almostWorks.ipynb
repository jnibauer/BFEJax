{
 "cells": [
  {
   "cell_type": "code",
   "execution_count": 1,
   "id": "535d83e6-962f-4c6b-a0f7-76c5016b3f58",
   "metadata": {},
   "outputs": [],
   "source": [
    "from functools import partial\n",
    "\n",
    "from astropy.constants import G\n",
    "import astropy.coordinates as coord\n",
    "import astropy.units as u\n",
    "import matplotlib as mpl\n",
    "import matplotlib.pyplot as plt\n",
    "%matplotlib inline\n",
    "#import numpy as np\n",
    "\n",
    "# gala\n",
    "import gala.coordinates as gc\n",
    "import gala.dynamics as gd\n",
    "import gala.potential as gp\n",
    "from gala.units import dimensionless, galactic, UnitSystem\n",
    "\n",
    "import jax\n",
    "import jax.numpy as jnp\n",
    "\n",
    "from jax.config import config\n",
    "config.update(\"jax_enable_x64\", True)\n",
    "\n",
    "######import scienceplots\n",
    "import cmasher as cmr\n",
    "plt.style.use('science')\n",
    "import jax.random as random \n",
    "from matplotlib.patches import Ellipse\n",
    "import time\n",
    "\n",
    "usys = UnitSystem(u.kpc, u.Myr, u.Msun, u.radian)\n",
    "\n",
    "from jax_cosmo.scipy.interpolate import InterpolatedUnivariateSpline\n",
    "import numpy as np\n",
    "\n",
    "from jax.scipy.special import sph_harm, gammaln, gamma\n",
    "import equinox as eqx\n",
    "import optax  # https://github.com/deepmind/optax\n",
    "from jax.scipy.stats import gaussian_kde\n",
    "#import run_falcon as run\n",
    "from scipy.special import factorial as factorial_true\n",
    "from scipy.special import gamma as gamma_sp"
   ]
  },
  {
   "cell_type": "code",
   "execution_count": 2,
   "id": "673c90d4-733e-4c5c-a6c3-668bbc82e664",
   "metadata": {},
   "outputs": [],
   "source": [
    "import sympy\n",
    "import sympy2jax\n"
   ]
  },
  {
   "cell_type": "code",
   "execution_count": 3,
   "id": "e11ed063-fb40-478f-9e8b-f49d5bd6473e",
   "metadata": {},
   "outputs": [
    {
     "data": {
      "text/plain": [
       "-1.4471073942559183"
      ]
     },
     "execution_count": 3,
     "metadata": {},
     "output_type": "execute_result"
    }
   ],
   "source": [
    "gamma_sp(-2.3)"
   ]
  },
  {
   "cell_type": "code",
   "execution_count": 4,
   "id": "e2e29a3c-6ab5-4f6c-9907-08279e3ec4cf",
   "metadata": {},
   "outputs": [],
   "source": [
    "class Gegenbauer:\n",
    "    def __init__(self,nmax):\n",
    "        self.nmax = nmax\n",
    "        self.x_sym = sympy.symbols(\"x_sym\")\n",
    "        self.n_sym = sympy.symbols(\"n_sym\")\n",
    "        self.alpha_sym = sympy.symbols(\"alpha_sym\")\n",
    "        self.deriv_arg = (1-self.x_sym**2)**(self.n_sym+self.alpha_sym - 0.5)\n",
    "        #self.func_list = []\n",
    "        self.gen_nth_deriv()\n",
    "\n",
    "    @partial(jax.jit,static_argnums=(0,))\n",
    "    def factorial(self,n):\n",
    "        \"\"\"\n",
    "        factorial helper function.\n",
    "        n MUST be int, not float!\n",
    "        \"\"\"\n",
    "        ###print(n.shape)\n",
    "        n = n[0]\n",
    "        return gamma(n+1.0)  #n! = gamma(n+1)\n",
    "        \n",
    "        ###curr = jnp.array(1)\n",
    "        \n",
    "        ###def body_func(i,curr):\n",
    "        ###    return curr*i\n",
    "        ###return jax.lax.fori_loop(jnp.array(1),n+1,body_func,curr)\n",
    "\n",
    "    def gen_nth_deriv(self):\n",
    "        self.func_list = []\n",
    "        for i in range(self.nmax+1):\n",
    "            fun_sympy = sympy.simplify(sympy.diff(self.deriv_arg,self.x_sym,i))\n",
    "            fun_jax = sympy2jax.SymbolicModule(fun_sympy)  \n",
    "            fun_jax_save = lambda x, alpha, i=i, fun_jax=fun_jax: fun_jax(x_sym=x,alpha_sym=alpha,n_sym=i)\n",
    "            self.func_list.append(fun_jax_save)\n",
    "    \n",
    "    @partial(jax.jit,static_argnums=(0,))\n",
    "    def takefunc(self,n,alpha,x):\n",
    "        n = n[0]\n",
    "        #ops = {'x_sym':x, 'n_sym':n, 'alpha_sym':alpha}\n",
    "        return jax.lax.switch(n,self.func_list,x,alpha)\n",
    "\n",
    "    #@partial(jax.jit,static_argnums=(0,))\n",
    "    def C_n_alpha(self,n,alpha,x):\n",
    "        #n = jnp.array([jax.lax.cond(n[0] > self.nmax,\n",
    "        #                lambda x: jax.lax.stop_gradient(jax.lax.stop_gradient(x))*0,\n",
    "        #                lambda x: x,\n",
    "        #                operand=n[0])])\n",
    "        nth_deriv = self.takefunc(n=n,alpha=alpha,x=x) #self.func_list[n](x=x,alpha=alpha) \n",
    "        prefac_front0 = ((-1.0)**n)/( (2**n)*self.factorial(n) )\n",
    "        prefac_front1 = (gamma(alpha+0.5)*gamma(n+2.0*alpha)) / (gamma(2.0*alpha)*gamma(alpha+n+0.5))\n",
    "        #jnp.exp( gammaln(alpha + 0.5) + gammaln(n + 2.0*alpha) - ( gammaln(2*alpha) + gammaln(alpha + n + 0.5) ) )\n",
    "        prefac_front2 = (1.0-x**2)**(-alpha + 0.5)\n",
    "        return prefac_front0*prefac_front1*prefac_front2*nth_deriv#self.func_list[n](x_sym=x,n_sym=n,alpha_sym=alpha)\n",
    "        \n",
    "\n",
    "    \n",
    "            \n",
    "UltraSph = Gegenbauer(6)      \n",
    "    "
   ]
  },
  {
   "cell_type": "code",
   "execution_count": 5,
   "id": "95c16290-3bd5-4801-b01f-668d3979a8a1",
   "metadata": {},
   "outputs": [
    {
     "data": {
      "text/plain": [
       "Array(11453.52170258, dtype=float64)"
      ]
     },
     "execution_count": 5,
     "metadata": {},
     "output_type": "execute_result"
    }
   ],
   "source": [
    "UltraSph.C_n_alpha(n=jnp.array([5]),alpha=2*0+(3./2),x=jnp.linspace(0.02,.99,10000)).sum()"
   ]
  },
  {
   "cell_type": "code",
   "execution_count": 6,
   "id": "c68545b9-daf9-4be2-bcdb-fad195169f2a",
   "metadata": {},
   "outputs": [
    {
     "data": {
      "text/plain": [
       "11453.521702584716"
      ]
     },
     "execution_count": 6,
     "metadata": {},
     "output_type": "execute_result"
    }
   ],
   "source": [
    "from scipy.special import gegenbauer as gegenbauer_sp\n",
    "gegenbauer_sp(n=5,alpha=2*0 + (3/2))(np.linspace(0.02,.99,10000)).sum()"
   ]
  },
  {
   "cell_type": "code",
   "execution_count": 7,
   "id": "2459b19e-7a66-4d65-b354-e14708d5787f",
   "metadata": {},
   "outputs": [],
   "source": [
    "class BFE:\n",
    "    def __init__(self,nmax,lmax,xyz,mass):\n",
    "        self.nmax = nmax#+1\n",
    "        self.lmax = lmax#+1\n",
    "        self.xyz = xyz\n",
    "        self.mass = mass\n",
    "        self.r, self.theta, self.phi = self.cart2sph(self.xyz)\n",
    "        self.ultra_sph = Gegenbauer(self.nmax) \n",
    "        \n",
    "    @partial(jax.jit,static_argnums=(0,))\n",
    "    def cart2sph(self,xyz):\n",
    "        r = jnp.sqrt(jnp.sum(xyz**2,axis=1))#jnp.sqrt(x**2 + y**2 + z**2)\n",
    "        R = jnp.sqrt(jnp.sum(xyz[:,:2]**2,axis=1))\n",
    "        theta = jnp.arccos(xyz[:,-1] / r) #jnp.arctan2(R, xyz[:,-1])#\n",
    "        phi = jnp.arctan2(xyz[:,1], xyz[:,0])\n",
    "    \n",
    "        # Ensure theta is in [0, pi] and phi is in [0, 2*pi]\n",
    "        ########theta = jnp.where(theta <= jnp.pi, theta, 2*jnp.pi - theta)\n",
    "        phi = jnp.where(phi >= 0, phi, 2*jnp.pi + phi)\n",
    "    \n",
    "        return r, theta, phi\n",
    "        \n",
    "    @partial(jax.jit,static_argnums=(0,))\n",
    "    def factorial(self,n):\n",
    "        \"\"\"\n",
    "        factorial helper function.\n",
    "        n MUST be int, not float!\n",
    "        \"\"\"\n",
    "        n = n[0]\n",
    "        return gamma(n+1.0)  #n! = gamma(n+1)\n",
    "        \n",
    "    \n",
    "    @partial(jax.jit,static_argnums=(0,))\n",
    "    def Knl(self,n,l):\n",
    "        return 0.5*n*(n+4*l+3.) + (l+1)*(2*l+1)\n",
    "\n",
    "    @partial(jax.jit,static_argnums=(0,))###\n",
    "    def rho_nl(self,n,l,r):\n",
    "        psi = (r-1.0)/(r+1.0)\n",
    "        prefac =  (self.Knl(n=n,l=l)/(2*jnp.pi))*( (r**l) / (r*((1+r)**(2*l+3))) )*self.ultra_sph.C_n_alpha(x=psi,n=n,alpha=2*l + (3.0/2))#(self.Knl(n,l)/(2*jnp.pi))*( (r**l) / (r*((1+r)**(2*l+3))) )*self.ultra_sph.C_n_alpha(x=psi,n=n,alpha=2*l + (3/2))\n",
    "        return jnp.sqrt(jnp.pi*4)*prefac\n",
    "    \n",
    "    @partial(jax.jit,static_argnums=(0,))####\n",
    "    def phi_nl(self,n,l,r):\n",
    "        psi = (r-1.0)/(r+1.0)\n",
    "        prefac = -( (r**l) / (1.0*((1.0+r)**(2*l +1 ))) )*self.ultra_sph.C_n_alpha(x=psi,n=n,alpha=2*l + (3.0/2)) #l[0]  # r in denominator disagrees between Lowell 2011 and Garavito-Camargo\n",
    "        return jnp.sqrt(jnp.pi*4)*prefac\n",
    "\n",
    "    @partial(jax.jit,static_argnums=(0,))\n",
    "    def Atilde(self,n,l):\n",
    "        prefac = -(2**(8.0*l + 6))/(4*jnp.pi*self.Knl(n,l))\n",
    "        arg = gamma(2*l + (3./2))\n",
    "        num = self.factorial(n)*(n + 2*l + (3./2))*( ( arg )**2 )\n",
    "        denom = gamma(n + 4.0*l + 3.0)#jnp.exp( gammaln(n + 4*l + 3.0) )\n",
    "        return prefac*(num/denom)\n",
    "\n",
    "    @partial(jax.jit,static_argnums=(0,))\n",
    "    def get_Ylm(self, l,m,theta_,phi_):\n",
    "        \"\"\"\n",
    "        Scipy convention: first arg is m, second is l.  l \\in [0,lmax], m \\in [0,l]\n",
    "        So n ~ l here in scipy and n_max ~ l_max\n",
    "        n_max must be statically set\n",
    "        \"\"\"\n",
    "        #included_prefac = jnp.sqrt( ( (2.0*l + 1.0)/(4.0*jnp.pi) )*( self.factorial(l-m) / self.factorial(l+m) ) )\n",
    "        return jnp.real(sph_harm(m=m, n=l, theta=phi_, phi=theta_,n_max=25))/jnp.cos(m*phi_)#((jax.lax.complex(jnp.cos(m*phi_), jnp.sin(m*phi_)) ) ) )\n",
    "#sph_harm(m=m, n=l, theta=theta, phi=phi,n_max=12)\n",
    "        \n",
    "    @partial(jax.jit,static_argnums=(0,))\n",
    "    def check_m_zero(self,m):\n",
    "        m = m[0]\n",
    "        result = jax.lax.cond(m == 0, lambda _: 1, lambda _: 0, None)\n",
    "        return result\n",
    "                \n",
    "    @partial(jax.jit,static_argnums=(0,))\n",
    "    def Snlm_single(self, n, l, m):\n",
    "        delta_m0 = self.check_m_zero(m)\n",
    "        delta_prefac = (2.0 - delta_m0)\n",
    "        return delta_prefac*self.Atilde(n=n,l=l)*jnp.sum( self.mass*self.phi_nl(n=n,l=l, r=self.r)*self.get_Ylm(l=l,m=m,theta_=self.theta,phi_=self.phi)*jnp.cos(m*self.phi) )\n",
    "\n",
    "    @partial(jax.jit,static_argnums=(0,))\n",
    "    def Tnlm_single(self,n,l,m):\n",
    "        delta_m0 = self.check_m_zero(m)\n",
    "        delta_prefac = (2.0 - delta_m0)\n",
    "        return delta_prefac*self.Atilde(n=n,l=l)*jnp.sum( self.mass*self.phi_nl(n=n,l=l, r=self.r)*self.get_Ylm(l=l,m=m,theta_=self.theta,phi_=self.phi)*jnp.sin(m*self.phi) )\n",
    "\n",
    "    @partial(jax.jit,static_argnums=(0,))\n",
    "    def phi_rho(self, r_eval, theta_eval, phi_eval):\n",
    "        phi_val = 0.0\n",
    "        rho_val = 0.0\n",
    "        for n_ind in range(0,self.nmax+1):\n",
    "            n = jnp.array([n_ind])\n",
    "            for l_ind in range(0,self.lmax+1):\n",
    "                l = jnp.array([l_ind])\n",
    "                rho_nl_val = self.rho_nl(n,l,r_eval)\n",
    "                phi_nl_val = self.phi_nl(n,l,r_eval)\n",
    "                for m_ind in range(0,l_ind+1):\n",
    "                    m = jnp.array([m_ind])\n",
    "                    ylm_val = self.get_Ylm(l=l,m=m,theta_=theta_eval,phi_=phi_eval)\n",
    "                    Snlm_val = self.Snlm_single(n=n,l=l,m=m)\n",
    "                    Tnlm_val = self.Tnlm_single(n=n,l=l,m=m)\n",
    "                    cos_mphi = jnp.cos(m*phi_eval)\n",
    "                    sin_mphi = jnp.sin(m*phi_eval)\n",
    "                    sine_cos_part = Snlm_val*cos_mphi + Tnlm_val*sin_mphi\n",
    "                    \n",
    "                    rho_val += ylm_val*rho_nl_val*( sine_cos_part )\n",
    "                    phi_val += ylm_val*phi_nl_val*( sine_cos_part )\n",
    "        \n",
    "        return jnp.real(phi_val), jnp.real(rho_val)\n",
    "\n",
    "    @partial(jax.jit,static_argnums=(0,))\n",
    "    def potential(self, r_eval, theta_eval, phi_eval):\n",
    "        return self.phi_rho(r_eval,theta_eval,phi_eval)[0][0]\n",
    "\n",
    "    @partial(jax.jit,static_argnums=(0,))\n",
    "    def density(self, r_eval, theta_eval, phi_eval):\n",
    "        return self.phi_rho(r_eval,theta_eval,phi_eval)[1][0]\n",
    "\n",
    "    @partial(jax.jit,static_argnums=(0,))\n",
    "    def potential_cart(self, xyz_eval):\n",
    "        r_eval, theta_eval, phi_eval = self.cart2sph(xyz_eval)\n",
    "        return self.phi_rho(r_eval,theta_eval,phi_eval)[0][0]\n",
    "\n",
    "    @partial(jax.jit,static_argnums=(0,))\n",
    "    def density_cart(self, xyz_eval):\n",
    "        r_eval, theta_eval, phi_eval = self.cart2sph(xyz_eval)\n",
    "        return self.phi_rho(r_eval,theta_eval,phi_eval)[1][0]\n",
    "        \n",
    "        \n",
    "## Example\n",
    "np.random.seed(4030)\n",
    "xyz = jnp.array(np.random.normal(0,3,(1000,3)))\n",
    "nmax = 2\n",
    "lmax = 2#2\n",
    "mass_arr = jnp.ones(len(xyz))#jnp.array(np.random.normal(2000,2001,(len(xyz))))\n",
    "mass_arr = mass_arr/mass_arr.sum()\n",
    "obj = BFE(nmax,lmax,xyz,mass_arr)"
   ]
  },
  {
   "cell_type": "code",
   "execution_count": 8,
   "id": "49c07af8-fa3e-4f3e-9654-741fb2feaa3e",
   "metadata": {},
   "outputs": [
    {
     "data": {
      "text/plain": [
       "Array([-0.00438039], dtype=float64)"
      ]
     },
     "execution_count": 8,
     "metadata": {},
     "output_type": "execute_result"
    }
   ],
   "source": [
    "obj.Snlm_single(n =jnp.array([1]),l=jnp.array([1]),m=jnp.array([1]))"
   ]
  },
  {
   "cell_type": "code",
   "execution_count": 9,
   "id": "8f863587-a72a-420e-a71e-52cc5de5a57d",
   "metadata": {},
   "outputs": [
    {
     "name": "stdout",
     "output_type": "stream",
     "text": [
      "P_2^1(0.9) = -0.3030714380008618\n"
     ]
    }
   ],
   "source": [
    "import ctypes\n",
    "\n",
    "# Load the GSL library\n",
    "gsl = ctypes.CDLL('/usr/local/Cellar/gsl/2.7.1/lib/libgsl.27.dylib')  # Adjust the library name and version as needed\n",
    "# Define the function signature for gsl_sf_legendre_sphPlm\n",
    "gsl_sf_legendre_sphPlm = gsl.gsl_sf_legendre_sphPlm\n",
    "gsl_sf_legendre_sphPlm.argtypes = [ctypes.c_int, ctypes.c_int, ctypes.c_double]\n",
    "gsl_sf_legendre_sphPlm.restype = ctypes.c_double\n",
    "\n",
    "\n",
    "#gsl_sf_gamma = gsl.gsl_sf_gamma\n",
    "#gsl_sf_gamma.argtypes =  [ctypes.c_int]#[ctypes.c_int, ctypes.c_double]\n",
    "#gsl_sf_gamma.restype = ctypes.c_double\n",
    "\n",
    "\n",
    "# Example usage\n",
    "l = 2\n",
    "m = 1\n",
    "x = 0.9\n",
    "result = gsl_sf_legendre_sphPlm(l, m, x)\n",
    "print(f\"P_{l}^{m}({x}) = {result}\")"
   ]
  },
  {
   "cell_type": "code",
   "execution_count": 10,
   "id": "1dca50dd-22ac-47f0-951a-e852479a3b1a",
   "metadata": {},
   "outputs": [
    {
     "ename": "NameError",
     "evalue": "name 'gsl_sf_gamma' is not defined",
     "output_type": "error",
     "traceback": [
      "\u001b[0;31m---------------------------------------------------------------------------\u001b[0m",
      "\u001b[0;31mNameError\u001b[0m                                 Traceback (most recent call last)",
      "Cell \u001b[0;32mIn[10], line 1\u001b[0m\n\u001b[0;32m----> 1\u001b[0m \u001b[43mgsl_sf_gamma\u001b[49m(\u001b[38;5;241m.3\u001b[39m,)\n",
      "\u001b[0;31mNameError\u001b[0m: name 'gsl_sf_gamma' is not defined"
     ]
    }
   ],
   "source": [
    "gsl_sf_gamma(.3,)"
   ]
  },
  {
   "cell_type": "code",
   "execution_count": 11,
   "id": "0b052f1a-6f2b-40f6-becc-4008c856c6b4",
   "metadata": {},
   "outputs": [
    {
     "data": {
      "text/plain": [
       "Array([-0.30307144], dtype=float64)"
      ]
     },
     "execution_count": 11,
     "metadata": {},
     "output_type": "execute_result"
    }
   ],
   "source": [
    "obj.get_Ylm(l=jnp.array([l]),m=jnp.array([m]),theta_=jnp.arccos(x),phi_=.20)"
   ]
  },
  {
   "cell_type": "code",
   "execution_count": 12,
   "id": "7c54c2bd-fbb0-49fe-80b4-4dda257e6669",
   "metadata": {},
   "outputs": [
    {
     "ename": "NameError",
     "evalue": "name 'S' is not defined",
     "output_type": "error",
     "traceback": [
      "\u001b[0;31m---------------------------------------------------------------------------\u001b[0m",
      "\u001b[0;31mNameError\u001b[0m                                 Traceback (most recent call last)",
      "Cell \u001b[0;32mIn[12], line 1\u001b[0m\n\u001b[0;32m----> 1\u001b[0m jnp\u001b[38;5;241m.\u001b[39mabs((obj\u001b[38;5;241m.\u001b[39mSnlm_single(n \u001b[38;5;241m=\u001b[39mjnp\u001b[38;5;241m.\u001b[39marray([\u001b[38;5;241m1\u001b[39m]),l\u001b[38;5;241m=\u001b[39mjnp\u001b[38;5;241m.\u001b[39marray([\u001b[38;5;241m1\u001b[39m]),m\u001b[38;5;241m=\u001b[39mjnp\u001b[38;5;241m.\u001b[39marray([\u001b[38;5;241m1\u001b[39m])) \u001b[38;5;241m-\u001b[39m \u001b[43mS\u001b[49m)\u001b[38;5;241m/\u001b[39mS)\u001b[38;5;241m.\u001b[39mmin()\n",
      "\u001b[0;31mNameError\u001b[0m: name 'S' is not defined"
     ]
    }
   ],
   "source": [
    "jnp.abs((obj.Snlm_single(n =jnp.array([1]),l=jnp.array([1]),m=jnp.array([1])) - S)/S).min()"
   ]
  },
  {
   "cell_type": "code",
   "execution_count": 13,
   "id": "bca910f2-851c-412d-a761-268c66e7f3a5",
   "metadata": {},
   "outputs": [
    {
     "ename": "NameError",
     "evalue": "name 'S' is not defined",
     "output_type": "error",
     "traceback": [
      "\u001b[0;31m---------------------------------------------------------------------------\u001b[0m",
      "\u001b[0;31mNameError\u001b[0m                                 Traceback (most recent call last)",
      "Cell \u001b[0;32mIn[13], line 1\u001b[0m\n\u001b[0;32m----> 1\u001b[0m obj\u001b[38;5;241m.\u001b[39mSnlm_single(n \u001b[38;5;241m=\u001b[39mjnp\u001b[38;5;241m.\u001b[39marray([\u001b[38;5;241m1\u001b[39m]),l\u001b[38;5;241m=\u001b[39mjnp\u001b[38;5;241m.\u001b[39marray([\u001b[38;5;241m1\u001b[39m]),m\u001b[38;5;241m=\u001b[39mjnp\u001b[38;5;241m.\u001b[39marray([\u001b[38;5;241m1\u001b[39m]))\u001b[38;5;241m-\u001b[39m\u001b[43mS\u001b[49m[\u001b[38;5;241m1\u001b[39m,\u001b[38;5;241m1\u001b[39m,\u001b[38;5;241m1\u001b[39m] \n",
      "\u001b[0;31mNameError\u001b[0m: name 'S' is not defined"
     ]
    }
   ],
   "source": [
    "obj.Snlm_single(n =jnp.array([1]),l=jnp.array([1]),m=jnp.array([1]))-S[1,1,1] "
   ]
  },
  {
   "cell_type": "code",
   "execution_count": 26,
   "id": "63d70446-7bfc-48e5-bc72-e152ccff36f4",
   "metadata": {},
   "outputs": [],
   "source": [
    "phi_curr, rho_curr = obj.phi_rho(10.,.9,.2)"
   ]
  },
  {
   "cell_type": "code",
   "execution_count": 27,
   "id": "f664ff50-5298-4c03-8e30-292ce69020ef",
   "metadata": {},
   "outputs": [
    {
     "data": {
      "text/plain": [
       "(Array([-0.11390222], dtype=float64), Array([4.40549139e-05], dtype=float64))"
      ]
     },
     "execution_count": 27,
     "metadata": {},
     "output_type": "execute_result"
    }
   ],
   "source": [
    "phi_curr, rho_curr"
   ]
  },
  {
   "cell_type": "code",
   "execution_count": 30,
   "id": "55682f35-d668-467b-aae7-768942a1cb88",
   "metadata": {},
   "outputs": [],
   "source": [
    "from gala.potential import scf\n",
    "#mass = np.ones(n_samples) / n_samples\n",
    "S,T = scf.compute_coeffs_discrete(np.array(xyz), mass=np.array(mass_arr), nmax=2, lmax=2, \n",
    "                                  skip_odd = False,skip_even=False,skip_m=False,r_s=1.)\n",
    "pot_gala = gp.SCFPotential(m=1.,r_s=1.,Snlm=S,Tnlm=T,units=usys)\n"
   ]
  },
  {
   "cell_type": "code",
   "execution_count": 31,
   "id": "42cb37b7-2b45-4c15-8633-1a8248a64e93",
   "metadata": {},
   "outputs": [
    {
     "data": {
      "text/plain": [
       "Array([-0.11390222], dtype=float64)"
      ]
     },
     "execution_count": 31,
     "metadata": {},
     "output_type": "execute_result"
    }
   ],
   "source": [
    "phi_curr\n"
   ]
  },
  {
   "cell_type": "code",
   "execution_count": 32,
   "id": "a92b0ce9-b1d5-4888-bc11-97f38d455ede",
   "metadata": {},
   "outputs": [
    {
     "data": {
      "text/latex": [
       "$[-4.7009169 \\times 10^{-13}] \\; \\mathrm{\\frac{kpc^{2}}{Myr^{2}}}$"
      ],
      "text/plain": [
       "<Quantity [-4.70091691e-13] kpc2 / Myr2>"
      ]
     },
     "execution_count": 32,
     "metadata": {},
     "output_type": "execute_result"
    }
   ],
   "source": [
    "pot_gala([10.,.9,.2])"
   ]
  },
  {
   "cell_type": "code",
   "execution_count": null,
   "id": "1ca20b69-fd45-4852-804f-ea4d546c39be",
   "metadata": {},
   "outputs": [],
   "source": []
  },
  {
   "cell_type": "code",
   "execution_count": 384,
   "id": "57a3746a-edbd-4b91-9d55-6e3d267a0562",
   "metadata": {},
   "outputs": [
    {
     "data": {
      "text/plain": [
       "1.2387788316431765"
      ]
     },
     "execution_count": 384,
     "metadata": {},
     "output_type": "execute_result"
    }
   ],
   "source": [
    "S.max()"
   ]
  },
  {
   "cell_type": "code",
   "execution_count": 385,
   "id": "627ed47f-547d-40ba-bf2e-76f00cf47981",
   "metadata": {},
   "outputs": [],
   "source": [
    "#obj.density_cart(jnp.array([[1.,2.,3.]]))\n",
    "x_lin = jnp.linspace(-2,2,100)\n",
    "X,Y = jnp.meshgrid(x_lin,x_lin)\n",
    "Z = X*0.0\n",
    "xyz_eval = jnp.vstack([X.flatten(),Y.flatten(),Z.flatten()]).T\n",
    "xyz_eval = xyz_eval.reshape(len(xyz_eval),1,3)\n",
    "test = jax.vmap(obj.density_cart,in_axes=((0,)))(xyz_eval)"
   ]
  },
  {
   "cell_type": "code",
   "execution_count": 386,
   "id": "de8d509f-c034-4d8c-9391-8fd9fe86842a",
   "metadata": {},
   "outputs": [
    {
     "data": {
      "text/plain": [
       "Array([0.00124225, 0.00128323, 0.00132546, ..., 0.00132546, 0.00128323,\n",
       "       0.00124225], dtype=float64)"
      ]
     },
     "execution_count": 386,
     "metadata": {},
     "output_type": "execute_result"
    }
   ],
   "source": [
    "test"
   ]
  },
  {
   "cell_type": "code",
   "execution_count": 387,
   "id": "d7060062-0ac4-4fd0-a741-ea6ba8ad1f2f",
   "metadata": {},
   "outputs": [
    {
     "data": {
      "text/plain": [
       "(10000, 1, 3)"
      ]
     },
     "execution_count": 387,
     "metadata": {},
     "output_type": "execute_result"
    }
   ],
   "source": [
    "xyz_eval.shape"
   ]
  },
  {
   "cell_type": "code",
   "execution_count": 388,
   "id": "b2bd9a19-e320-41e7-9ad0-3783942ee6ac",
   "metadata": {},
   "outputs": [
    {
     "name": "stdout",
     "output_type": "stream",
     "text": [
      "0.3781118392944336\n"
     ]
    }
   ],
   "source": [
    "s = time.time()\n",
    "test = jax.vmap(obj.density_cart,in_axes=((0,)))(xyz_eval)\n",
    "e = time.time()\n",
    "print(e-s)"
   ]
  },
  {
   "cell_type": "code",
   "execution_count": 389,
   "id": "ce5949fd-69a1-41ef-86d4-c152569cdbbe",
   "metadata": {},
   "outputs": [
    {
     "name": "stdout",
     "output_type": "stream",
     "text": [
      "2.3506250381469727\n"
     ]
    }
   ],
   "source": [
    "s = time.time()\n",
    "test = jax.vmap(obj.potential_cart,in_axes=((0,)))(xyz_eval)\n",
    "e = time.time()\n",
    "print(e-s)"
   ]
  },
  {
   "cell_type": "code",
   "execution_count": 390,
   "id": "d297d45b-eec9-424f-a463-c0cb821a2032",
   "metadata": {},
   "outputs": [],
   "source": [
    "den = np.array(test)#.shape"
   ]
  },
  {
   "cell_type": "code",
   "execution_count": 391,
   "id": "eb58318d-8e05-42f9-811c-c900ee042e5a",
   "metadata": {},
   "outputs": [
    {
     "data": {
      "text/plain": [
       "array([-0.32357383, -0.32599418, -0.3284251 , ..., -0.3284251 ,\n",
       "       -0.32599418, -0.32357383])"
      ]
     },
     "execution_count": 391,
     "metadata": {},
     "output_type": "execute_result"
    }
   ],
   "source": [
    "den"
   ]
  },
  {
   "cell_type": "code",
   "execution_count": 392,
   "id": "7beb9f9e-6441-4383-8d16-64cee4823428",
   "metadata": {},
   "outputs": [
    {
     "data": {
      "text/plain": [
       "<matplotlib.collections.QuadMesh at 0x7f9d603de1a0>"
      ]
     },
     "execution_count": 392,
     "metadata": {},
     "output_type": "execute_result"
    },
    {
     "data": {
      "image/png": "[encoded data removed]",
      "text/plain": [
       "<Figure size 350x262.5 with 1 Axes>"
      ]
     },
     "metadata": {},
     "output_type": "display_data"
    }
   ],
   "source": [
    "plt.pcolormesh(X,Y,1*den.reshape(X.shape),vmin=den.min(),vmax=den.max())"
   ]
  },
  {
   "cell_type": "code",
   "execution_count": null,
   "id": "0d03fa15-a248-4b06-bb30-4031f19c0a97",
   "metadata": {},
   "outputs": [],
   "source": []
  },
  {
   "cell_type": "code",
   "execution_count": null,
   "id": "758c1f56-0a82-4a48-93a3-a08a9d90e3b3",
   "metadata": {},
   "outputs": [],
   "source": []
  },
  {
   "cell_type": "code",
   "execution_count": null,
   "id": "ffeb7813-cc97-40f9-867c-dee10a49dd39",
   "metadata": {},
   "outputs": [],
   "source": []
  },
  {
   "cell_type": "code",
   "execution_count": 393,
   "id": "fb9e6496-8a69-47f5-8277-05b99b80732c",
   "metadata": {},
   "outputs": [
    {
     "data": {
      "text/plain": [
       "<matplotlib.collections.QuadMesh at 0x7f9d60a0f1c0>"
      ]
     },
     "execution_count": 393,
     "metadata": {},
     "output_type": "execute_result"
    },
    {
     "data": {
      "image/png": "[encoded data removed]",
      "text/plain": [
       "<Figure size 350x262.5 with 1 Axes>"
      ]
     },
     "metadata": {},
     "output_type": "display_data"
    }
   ],
   "source": [
    "plt.pcolormesh(X,Y,1*pot_gala(xyz_eval[:,0,:].T).reshape(X.shape),rasterized=True,vmin=den.min(),vmax=den.max())\n",
    "#@plt.xlim(-1,1)\n",
    "#plt.ylim(-1,1)"
   ]
  },
  {
   "cell_type": "code",
   "execution_count": 394,
   "id": "54ecb714-9db8-445c-959a-a21c07f730c8",
   "metadata": {},
   "outputs": [
    {
     "data": {
      "text/plain": [
       "0"
      ]
     },
     "execution_count": 394,
     "metadata": {},
     "output_type": "execute_result"
    }
   ],
   "source": [
    "np.isin(den,pot_gala(np.array(xyz_eval[:,0,:]).T)).sum()"
   ]
  },
  {
   "cell_type": "code",
   "execution_count": 395,
   "id": "8919da17-f90b-4246-8d89-265f71bc2cd7",
   "metadata": {},
   "outputs": [],
   "source": [
    "err = (den-pot_gala(np.array(xyz_eval[:,0,:]).T))/pot_gala(np.array(xyz_eval[:,0,:]).T)"
   ]
  },
  {
   "cell_type": "code",
   "execution_count": 396,
   "id": "468f16cf-78fe-4f10-bddd-5bcb624663c9",
   "metadata": {},
   "outputs": [
    {
     "data": {
      "image/png": "[encoded data removed]",
      "text/plain": [
       "<Figure size 350x262.5 with 1 Axes>"
      ]
     },
     "metadata": {},
     "output_type": "display_data"
    }
   ],
   "source": [
    "_=plt.hist(np.array(err)*100,bins=200)"
   ]
  },
  {
   "cell_type": "code",
   "execution_count": 397,
   "id": "5adade1c-26e4-4ec0-ac77-8e7297ca1500",
   "metadata": {},
   "outputs": [
    {
     "data": {
      "text/latex": [
       "$1.8505001 \\times 10^{-13} \\; \\mathrm{}$"
      ],
      "text/plain": [
       "<Quantity 1.85050013e-13>"
      ]
     },
     "execution_count": 397,
     "metadata": {},
     "output_type": "execute_result"
    }
   ],
   "source": [
    "err.max()*100"
   ]
  },
  {
   "cell_type": "code",
   "execution_count": 228,
   "id": "5d860b04-e4a0-4390-8b85-d0ce6204c981",
   "metadata": {},
   "outputs": [
    {
     "data": {
      "text/plain": [
       "Array([0.04947844], dtype=float64)"
      ]
     },
     "execution_count": 228,
     "metadata": {},
     "output_type": "execute_result"
    }
   ],
   "source": [
    "obj.Snlm_single(jnp.array([1]),jnp.array([1]),jnp.array([0]))"
   ]
  },
  {
   "cell_type": "code",
   "execution_count": 229,
   "id": "0a079fbe-eeac-4ce2-b89d-2823367d5993",
   "metadata": {},
   "outputs": [
    {
     "data": {
      "text/plain": [
       "1.2387788316431765"
      ]
     },
     "execution_count": 229,
     "metadata": {},
     "output_type": "execute_result"
    }
   ],
   "source": [
    "S[0,0,0]"
   ]
  },
  {
   "cell_type": "code",
   "execution_count": 230,
   "id": "c1525394-c536-4fdd-98f5-8c480941c860",
   "metadata": {},
   "outputs": [
    {
     "data": {
      "text/plain": [
       "<matplotlib.collections.QuadMesh at 0x7f9d9f245360>"
      ]
     },
     "execution_count": 230,
     "metadata": {},
     "output_type": "execute_result"
    },
    {
     "data": {
      "image/png": "[encoded data removed]",
      "text/plain": [
       "<Figure size 350x262.5 with 1 Axes>"
      ]
     },
     "metadata": {},
     "output_type": "display_data"
    }
   ],
   "source": [
    "plt.pcolormesh(X,Y,1*pot_gala(xyz_eval[:,0,:].T).reshape(X.shape),rasterized=True,vmin=den.min(),vmax=den.max())\n",
    "#@plt.xlim(-1,1)\n",
    "#plt.ylim(-1,1)"
   ]
  },
  {
   "cell_type": "code",
   "execution_count": 306,
   "id": "4577a86a-fd1c-417a-8854-426ff929ba9a",
   "metadata": {},
   "outputs": [
    {
     "data": {
      "text/plain": [
       "Array(0.0003906, dtype=float64)"
      ]
     },
     "execution_count": 306,
     "metadata": {},
     "output_type": "execute_result"
    }
   ],
   "source": [
    "obj.density_cart(jnp.array([[2,1.,3.]]))"
   ]
  },
  {
   "cell_type": "code",
   "execution_count": 294,
   "id": "5c6dab04-bc0f-418f-b9f6-9b08c63d4f53",
   "metadata": {},
   "outputs": [
    {
     "data": {
      "text/latex": [
       "$[7.3332633] \\; \\mathrm{}$"
      ],
      "text/plain": [
       "<Quantity [7.3332633]>"
      ]
     },
     "execution_count": 294,
     "metadata": {},
     "output_type": "execute_result"
    }
   ],
   "source": [
    "pot_gala = gp.SCFPotential(m=1.,r_s=1.,Snlm=S,Tnlm=T)\n",
    "pot_gala.density(np.array([2,1.,3.]))/obj.density_cart(jnp.array([[2.,1.,3.]]))"
   ]
  },
  {
   "cell_type": "code",
   "execution_count": 132,
   "id": "73b53146-f10c-4d5e-9c65-910ded0ef930",
   "metadata": {},
   "outputs": [
    {
     "ename": "TypeError",
     "evalue": "reshape total size must be unchanged, got new_sizes (16, 1, 3) for shape (1600, 1, 3).",
     "output_type": "error",
     "traceback": [
      "\u001b[0;31m---------------------------------------------------------------------------\u001b[0m",
      "\u001b[0;31mTypeError\u001b[0m                                 Traceback (most recent call last)",
      "Cell \u001b[0;32mIn[132], line 1\u001b[0m\n\u001b[0;32m----> 1\u001b[0m \u001b[43mxyz_eval\u001b[49m\u001b[38;5;241;43m.\u001b[39;49m\u001b[43mreshape\u001b[49m\u001b[43m(\u001b[49m\u001b[38;5;241;43m16\u001b[39;49m\u001b[43m,\u001b[49m\u001b[38;5;241;43m1\u001b[39;49m\u001b[43m,\u001b[49m\u001b[38;5;241;43m3\u001b[39;49m\u001b[43m)\u001b[49m\u001b[38;5;241m.\u001b[39mshape\n",
      "File \u001b[0;32m~/opt/anaconda3/envs/sml/lib/python3.10/site-packages/jax/_src/numpy/array_methods.py:143\u001b[0m, in \u001b[0;36m_reshape\u001b[0;34m(a, order, *args)\u001b[0m\n\u001b[1;32m    141\u001b[0m newshape \u001b[38;5;241m=\u001b[39m _compute_newshape(a, args[\u001b[38;5;241m0\u001b[39m] \u001b[38;5;28;01mif\u001b[39;00m \u001b[38;5;28mlen\u001b[39m(args) \u001b[38;5;241m==\u001b[39m \u001b[38;5;241m1\u001b[39m \u001b[38;5;28;01melse\u001b[39;00m args)\n\u001b[1;32m    142\u001b[0m \u001b[38;5;28;01mif\u001b[39;00m order \u001b[38;5;241m==\u001b[39m \u001b[38;5;124m\"\u001b[39m\u001b[38;5;124mC\u001b[39m\u001b[38;5;124m\"\u001b[39m:\n\u001b[0;32m--> 143\u001b[0m   \u001b[38;5;28;01mreturn\u001b[39;00m \u001b[43mlax\u001b[49m\u001b[38;5;241;43m.\u001b[39;49m\u001b[43mreshape\u001b[49m\u001b[43m(\u001b[49m\u001b[43ma\u001b[49m\u001b[43m,\u001b[49m\u001b[43m \u001b[49m\u001b[43mnewshape\u001b[49m\u001b[43m,\u001b[49m\u001b[43m \u001b[49m\u001b[38;5;28;43;01mNone\u001b[39;49;00m\u001b[43m)\u001b[49m\n\u001b[1;32m    144\u001b[0m \u001b[38;5;28;01melif\u001b[39;00m order \u001b[38;5;241m==\u001b[39m \u001b[38;5;124m\"\u001b[39m\u001b[38;5;124mF\u001b[39m\u001b[38;5;124m\"\u001b[39m:\n\u001b[1;32m    145\u001b[0m   dims \u001b[38;5;241m=\u001b[39m \u001b[38;5;28mlist\u001b[39m(\u001b[38;5;28mrange\u001b[39m(a\u001b[38;5;241m.\u001b[39mndim)[::\u001b[38;5;241m-\u001b[39m\u001b[38;5;241m1\u001b[39m])\n",
      "File \u001b[0;32m~/opt/anaconda3/envs/sml/lib/python3.10/site-packages/jax/_src/lax/lax.py:864\u001b[0m, in \u001b[0;36mreshape\u001b[0;34m(operand, new_sizes, dimensions)\u001b[0m\n\u001b[1;32m    861\u001b[0m \u001b[38;5;28;01melse\u001b[39;00m:\n\u001b[1;32m    862\u001b[0m   dyn_shape, static_new_sizes \u001b[38;5;241m=\u001b[39m _extract_tracers_dyn_shape(new_sizes)\n\u001b[0;32m--> 864\u001b[0m   \u001b[38;5;28;01mreturn\u001b[39;00m \u001b[43mreshape_p\u001b[49m\u001b[38;5;241;43m.\u001b[39;49m\u001b[43mbind\u001b[49m\u001b[43m(\u001b[49m\n\u001b[1;32m    865\u001b[0m \u001b[43m    \u001b[49m\u001b[43moperand\u001b[49m\u001b[43m,\u001b[49m\u001b[43m \u001b[49m\u001b[38;5;241;43m*\u001b[39;49m\u001b[43mdyn_shape\u001b[49m\u001b[43m,\u001b[49m\u001b[43m \u001b[49m\u001b[43mnew_sizes\u001b[49m\u001b[38;5;241;43m=\u001b[39;49m\u001b[38;5;28;43mtuple\u001b[39;49m\u001b[43m(\u001b[49m\u001b[43mstatic_new_sizes\u001b[49m\u001b[43m)\u001b[49m\u001b[43m,\u001b[49m\n\u001b[1;32m    866\u001b[0m \u001b[43m    \u001b[49m\u001b[43mdimensions\u001b[49m\u001b[38;5;241;43m=\u001b[39;49m\u001b[38;5;28;43;01mNone\u001b[39;49;00m\u001b[43m \u001b[49m\u001b[38;5;28;43;01mif\u001b[39;49;00m\u001b[43m \u001b[49m\u001b[43mdims\u001b[49m\u001b[43m \u001b[49m\u001b[38;5;129;43;01mis\u001b[39;49;00m\u001b[43m \u001b[49m\u001b[38;5;28;43;01mNone\u001b[39;49;00m\u001b[43m \u001b[49m\u001b[38;5;129;43;01mor\u001b[39;49;00m\u001b[43m \u001b[49m\u001b[43msame_dims\u001b[49m\u001b[43m \u001b[49m\u001b[38;5;28;43;01melse\u001b[39;49;00m\u001b[43m \u001b[49m\u001b[43mdims\u001b[49m\u001b[43m)\u001b[49m\n",
      "File \u001b[0;32m~/opt/anaconda3/envs/sml/lib/python3.10/site-packages/jax/_src/core.py:385\u001b[0m, in \u001b[0;36mPrimitive.bind\u001b[0;34m(self, *args, **params)\u001b[0m\n\u001b[1;32m    382\u001b[0m \u001b[38;5;28;01mdef\u001b[39;00m \u001b[38;5;21mbind\u001b[39m(\u001b[38;5;28mself\u001b[39m, \u001b[38;5;241m*\u001b[39margs, \u001b[38;5;241m*\u001b[39m\u001b[38;5;241m*\u001b[39mparams):\n\u001b[1;32m    383\u001b[0m   \u001b[38;5;28;01massert\u001b[39;00m (\u001b[38;5;129;01mnot\u001b[39;00m config\u001b[38;5;241m.\u001b[39menable_checks\u001b[38;5;241m.\u001b[39mvalue \u001b[38;5;129;01mor\u001b[39;00m\n\u001b[1;32m    384\u001b[0m           \u001b[38;5;28mall\u001b[39m(\u001b[38;5;28misinstance\u001b[39m(arg, Tracer) \u001b[38;5;129;01mor\u001b[39;00m valid_jaxtype(arg) \u001b[38;5;28;01mfor\u001b[39;00m arg \u001b[38;5;129;01min\u001b[39;00m args)), args\n\u001b[0;32m--> 385\u001b[0m   \u001b[38;5;28;01mreturn\u001b[39;00m \u001b[38;5;28;43mself\u001b[39;49m\u001b[38;5;241;43m.\u001b[39;49m\u001b[43mbind_with_trace\u001b[49m\u001b[43m(\u001b[49m\u001b[43mfind_top_trace\u001b[49m\u001b[43m(\u001b[49m\u001b[43margs\u001b[49m\u001b[43m)\u001b[49m\u001b[43m,\u001b[49m\u001b[43m \u001b[49m\u001b[43margs\u001b[49m\u001b[43m,\u001b[49m\u001b[43m \u001b[49m\u001b[43mparams\u001b[49m\u001b[43m)\u001b[49m\n",
      "File \u001b[0;32m~/opt/anaconda3/envs/sml/lib/python3.10/site-packages/jax/_src/core.py:388\u001b[0m, in \u001b[0;36mPrimitive.bind_with_trace\u001b[0;34m(self, trace, args, params)\u001b[0m\n\u001b[1;32m    387\u001b[0m \u001b[38;5;28;01mdef\u001b[39;00m \u001b[38;5;21mbind_with_trace\u001b[39m(\u001b[38;5;28mself\u001b[39m, trace, args, params):\n\u001b[0;32m--> 388\u001b[0m   out \u001b[38;5;241m=\u001b[39m \u001b[43mtrace\u001b[49m\u001b[38;5;241;43m.\u001b[39;49m\u001b[43mprocess_primitive\u001b[49m\u001b[43m(\u001b[49m\u001b[38;5;28;43mself\u001b[39;49m\u001b[43m,\u001b[49m\u001b[43m \u001b[49m\u001b[38;5;28;43mmap\u001b[39;49m\u001b[43m(\u001b[49m\u001b[43mtrace\u001b[49m\u001b[38;5;241;43m.\u001b[39;49m\u001b[43mfull_raise\u001b[49m\u001b[43m,\u001b[49m\u001b[43m \u001b[49m\u001b[43margs\u001b[49m\u001b[43m)\u001b[49m\u001b[43m,\u001b[49m\u001b[43m \u001b[49m\u001b[43mparams\u001b[49m\u001b[43m)\u001b[49m\n\u001b[1;32m    389\u001b[0m   \u001b[38;5;28;01mreturn\u001b[39;00m \u001b[38;5;28mmap\u001b[39m(full_lower, out) \u001b[38;5;28;01mif\u001b[39;00m \u001b[38;5;28mself\u001b[39m\u001b[38;5;241m.\u001b[39mmultiple_results \u001b[38;5;28;01melse\u001b[39;00m full_lower(out)\n",
      "File \u001b[0;32m~/opt/anaconda3/envs/sml/lib/python3.10/site-packages/jax/_src/core.py:868\u001b[0m, in \u001b[0;36mEvalTrace.process_primitive\u001b[0;34m(self, primitive, tracers, params)\u001b[0m\n\u001b[1;32m    867\u001b[0m \u001b[38;5;28;01mdef\u001b[39;00m \u001b[38;5;21mprocess_primitive\u001b[39m(\u001b[38;5;28mself\u001b[39m, primitive, tracers, params):\n\u001b[0;32m--> 868\u001b[0m   \u001b[38;5;28;01mreturn\u001b[39;00m \u001b[43mprimitive\u001b[49m\u001b[38;5;241;43m.\u001b[39;49m\u001b[43mimpl\u001b[49m\u001b[43m(\u001b[49m\u001b[38;5;241;43m*\u001b[39;49m\u001b[43mtracers\u001b[49m\u001b[43m,\u001b[49m\u001b[43m \u001b[49m\u001b[38;5;241;43m*\u001b[39;49m\u001b[38;5;241;43m*\u001b[39;49m\u001b[43mparams\u001b[49m\u001b[43m)\u001b[49m\n",
      "File \u001b[0;32m~/opt/anaconda3/envs/sml/lib/python3.10/site-packages/jax/_src/dispatch.py:128\u001b[0m, in \u001b[0;36mapply_primitive\u001b[0;34m(prim, *args, **params)\u001b[0m\n\u001b[1;32m    126\u001b[0m   in_avals, in_shardings \u001b[38;5;241m=\u001b[39m util\u001b[38;5;241m.\u001b[39munzip2([_arg_spec(a) \u001b[38;5;28;01mfor\u001b[39;00m a \u001b[38;5;129;01min\u001b[39;00m args])\n\u001b[1;32m    127\u001b[0m   in_tree \u001b[38;5;241m=\u001b[39m tree_util\u001b[38;5;241m.\u001b[39mtree_structure(args)\n\u001b[0;32m--> 128\u001b[0m   compiled_fun \u001b[38;5;241m=\u001b[39m \u001b[43mxla_primitive_callable\u001b[49m\u001b[43m(\u001b[49m\n\u001b[1;32m    129\u001b[0m \u001b[43m      \u001b[49m\u001b[43mprim\u001b[49m\u001b[43m,\u001b[49m\u001b[43m \u001b[49m\u001b[43min_avals\u001b[49m\u001b[43m,\u001b[49m\u001b[43m \u001b[49m\u001b[43min_tree\u001b[49m\u001b[43m,\u001b[49m\u001b[43m \u001b[49m\u001b[43mOrigShardings\u001b[49m\u001b[43m(\u001b[49m\u001b[43min_shardings\u001b[49m\u001b[43m)\u001b[49m\u001b[43m,\u001b[49m\u001b[43m \u001b[49m\u001b[38;5;241;43m*\u001b[39;49m\u001b[38;5;241;43m*\u001b[39;49m\u001b[43mparams\u001b[49m\u001b[43m)\u001b[49m\n\u001b[1;32m    130\u001b[0m \u001b[38;5;28;01mexcept\u001b[39;00m pxla\u001b[38;5;241m.\u001b[39mDeviceAssignmentMismatchError \u001b[38;5;28;01mas\u001b[39;00m e:\n\u001b[1;32m    131\u001b[0m   fails, \u001b[38;5;241m=\u001b[39m e\u001b[38;5;241m.\u001b[39margs\n",
      "File \u001b[0;32m~/opt/anaconda3/envs/sml/lib/python3.10/site-packages/jax/_src/util.py:263\u001b[0m, in \u001b[0;36mcache.<locals>.wrap.<locals>.wrapper\u001b[0;34m(*args, **kwargs)\u001b[0m\n\u001b[1;32m    261\u001b[0m   \u001b[38;5;28;01mreturn\u001b[39;00m f(\u001b[38;5;241m*\u001b[39margs, \u001b[38;5;241m*\u001b[39m\u001b[38;5;241m*\u001b[39mkwargs)\n\u001b[1;32m    262\u001b[0m \u001b[38;5;28;01melse\u001b[39;00m:\n\u001b[0;32m--> 263\u001b[0m   \u001b[38;5;28;01mreturn\u001b[39;00m \u001b[43mcached\u001b[49m\u001b[43m(\u001b[49m\u001b[43mconfig\u001b[49m\u001b[38;5;241;43m.\u001b[39;49m\u001b[43mconfig\u001b[49m\u001b[38;5;241;43m.\u001b[39;49m\u001b[43m_trace_context\u001b[49m\u001b[43m(\u001b[49m\u001b[43m)\u001b[49m\u001b[43m,\u001b[49m\u001b[43m \u001b[49m\u001b[38;5;241;43m*\u001b[39;49m\u001b[43margs\u001b[49m\u001b[43m,\u001b[49m\u001b[43m \u001b[49m\u001b[38;5;241;43m*\u001b[39;49m\u001b[38;5;241;43m*\u001b[39;49m\u001b[43mkwargs\u001b[49m\u001b[43m)\u001b[49m\n",
      "File \u001b[0;32m~/opt/anaconda3/envs/sml/lib/python3.10/site-packages/jax/_src/util.py:256\u001b[0m, in \u001b[0;36mcache.<locals>.wrap.<locals>.cached\u001b[0;34m(_, *args, **kwargs)\u001b[0m\n\u001b[1;32m    254\u001b[0m \u001b[38;5;129m@functools\u001b[39m\u001b[38;5;241m.\u001b[39mlru_cache(max_size)\n\u001b[1;32m    255\u001b[0m \u001b[38;5;28;01mdef\u001b[39;00m \u001b[38;5;21mcached\u001b[39m(_, \u001b[38;5;241m*\u001b[39margs, \u001b[38;5;241m*\u001b[39m\u001b[38;5;241m*\u001b[39mkwargs):\n\u001b[0;32m--> 256\u001b[0m   \u001b[38;5;28;01mreturn\u001b[39;00m \u001b[43mf\u001b[49m\u001b[43m(\u001b[49m\u001b[38;5;241;43m*\u001b[39;49m\u001b[43margs\u001b[49m\u001b[43m,\u001b[49m\u001b[43m \u001b[49m\u001b[38;5;241;43m*\u001b[39;49m\u001b[38;5;241;43m*\u001b[39;49m\u001b[43mkwargs\u001b[49m\u001b[43m)\u001b[49m\n",
      "File \u001b[0;32m~/opt/anaconda3/envs/sml/lib/python3.10/site-packages/jax/_src/dispatch.py:157\u001b[0m, in \u001b[0;36mxla_primitive_callable\u001b[0;34m(prim, in_avals, in_tree, orig_in_shardings, **params)\u001b[0m\n\u001b[1;32m    155\u001b[0m wrapped_fun \u001b[38;5;241m=\u001b[39m lu\u001b[38;5;241m.\u001b[39mwrap_init(prim_fun)\n\u001b[1;32m    156\u001b[0m flat_fun, out_tree \u001b[38;5;241m=\u001b[39m api_util\u001b[38;5;241m.\u001b[39mflatten_fun_nokwargs(wrapped_fun, in_tree)\n\u001b[0;32m--> 157\u001b[0m computation \u001b[38;5;241m=\u001b[39m \u001b[43msharded_lowering\u001b[49m\u001b[43m(\u001b[49m\n\u001b[1;32m    158\u001b[0m \u001b[43m    \u001b[49m\u001b[43mflat_fun\u001b[49m\u001b[43m,\u001b[49m\u001b[43m \u001b[49m\u001b[43mprim\u001b[49m\u001b[38;5;241;43m.\u001b[39;49m\u001b[43mname\u001b[49m\u001b[43m,\u001b[49m\u001b[43m \u001b[49m\u001b[43mdonated_invars\u001b[49m\u001b[43m,\u001b[49m\u001b[43m \u001b[49m\u001b[43mkeep_unused\u001b[49m\u001b[38;5;241;43m=\u001b[39;49m\u001b[38;5;28;43;01mFalse\u001b[39;49;00m\u001b[43m,\u001b[49m\n\u001b[1;32m    159\u001b[0m \u001b[43m    \u001b[49m\u001b[43minline\u001b[49m\u001b[38;5;241;43m=\u001b[39;49m\u001b[38;5;28;43;01mTrue\u001b[39;49;00m\u001b[43m,\u001b[49m\u001b[43m \u001b[49m\u001b[43min_avals\u001b[49m\u001b[38;5;241;43m=\u001b[39;49m\u001b[43min_avals\u001b[49m\u001b[43m,\u001b[49m\u001b[43m \u001b[49m\u001b[43min_shardings\u001b[49m\u001b[38;5;241;43m=\u001b[39;49m\u001b[43morig_in_shardings\u001b[49m\u001b[38;5;241;43m.\u001b[39;49m\u001b[43mshardings\u001b[49m\u001b[43m,\u001b[49m\n\u001b[1;32m    160\u001b[0m \u001b[43m    \u001b[49m\u001b[43mlowering_parameters\u001b[49m\u001b[38;5;241;43m=\u001b[39;49m\u001b[43mmlir\u001b[49m\u001b[38;5;241;43m.\u001b[39;49m\u001b[43mLoweringParameters\u001b[49m\u001b[43m(\u001b[49m\u001b[43m)\u001b[49m\u001b[43m)\u001b[49m\n\u001b[1;32m    161\u001b[0m compiled \u001b[38;5;241m=\u001b[39m computation\u001b[38;5;241m.\u001b[39mcompile()\n\u001b[1;32m    162\u001b[0m \u001b[38;5;28;01mif\u001b[39;00m xla_extension_version \u001b[38;5;241m>\u001b[39m\u001b[38;5;241m=\u001b[39m \u001b[38;5;241m192\u001b[39m:\n",
      "File \u001b[0;32m~/opt/anaconda3/envs/sml/lib/python3.10/site-packages/jax/_src/dispatch.py:188\u001b[0m, in \u001b[0;36msharded_lowering\u001b[0;34m(fun, name, donated_invars, keep_unused, inline, in_avals, in_shardings, lowering_parameters)\u001b[0m\n\u001b[1;32m    183\u001b[0m in_shardings_unspec \u001b[38;5;241m=\u001b[39m [UNSPECIFIED \u001b[38;5;28;01mif\u001b[39;00m i \u001b[38;5;129;01mis\u001b[39;00m \u001b[38;5;28;01mNone\u001b[39;00m \u001b[38;5;28;01melse\u001b[39;00m i \u001b[38;5;28;01mfor\u001b[39;00m i \u001b[38;5;129;01min\u001b[39;00m in_shardings]\n\u001b[1;32m    185\u001b[0m \u001b[38;5;66;03m# Pass in a singleton `UNSPECIFIED` for out_shardings because we don't know\u001b[39;00m\n\u001b[1;32m    186\u001b[0m \u001b[38;5;66;03m# the number of output avals at this stage. lower_sharding_computation will\u001b[39;00m\n\u001b[1;32m    187\u001b[0m \u001b[38;5;66;03m# apply it to all out_avals.\u001b[39;00m\n\u001b[0;32m--> 188\u001b[0m \u001b[38;5;28;01mreturn\u001b[39;00m \u001b[43mpxla\u001b[49m\u001b[38;5;241;43m.\u001b[39;49m\u001b[43mlower_sharding_computation\u001b[49m\u001b[43m(\u001b[49m\n\u001b[1;32m    189\u001b[0m \u001b[43m    \u001b[49m\u001b[43mfun\u001b[49m\u001b[43m,\u001b[49m\u001b[43m \u001b[49m\u001b[38;5;124;43m'\u001b[39;49m\u001b[38;5;124;43mjit\u001b[39;49m\u001b[38;5;124;43m'\u001b[39;49m\u001b[43m,\u001b[49m\u001b[43m \u001b[49m\u001b[43mname\u001b[49m\u001b[43m,\u001b[49m\u001b[43m \u001b[49m\u001b[43min_shardings_unspec\u001b[49m\u001b[43m,\u001b[49m\u001b[43m \u001b[49m\u001b[43mUNSPECIFIED\u001b[49m\u001b[43m,\u001b[49m\u001b[43m \u001b[49m\u001b[43mdonated_invars\u001b[49m\u001b[43m,\u001b[49m\n\u001b[1;32m    190\u001b[0m \u001b[43m    \u001b[49m\u001b[43min_avals\u001b[49m\u001b[43m,\u001b[49m\u001b[43m \u001b[49m\u001b[43mkeep_unused\u001b[49m\u001b[38;5;241;43m=\u001b[39;49m\u001b[43mkeep_unused\u001b[49m\u001b[43m,\u001b[49m\u001b[43m \u001b[49m\u001b[43minline\u001b[49m\u001b[38;5;241;43m=\u001b[39;49m\u001b[43minline\u001b[49m\u001b[43m,\u001b[49m\n\u001b[1;32m    191\u001b[0m \u001b[43m    \u001b[49m\u001b[43mdevices_from_context\u001b[49m\u001b[38;5;241;43m=\u001b[39;49m\u001b[38;5;28;43;01mNone\u001b[39;49;00m\u001b[43m,\u001b[49m\n\u001b[1;32m    192\u001b[0m \u001b[43m    \u001b[49m\u001b[43mlowering_parameters\u001b[49m\u001b[38;5;241;43m=\u001b[39;49m\u001b[43mlowering_parameters\u001b[49m\u001b[43m)\u001b[49m\n",
      "File \u001b[0;32m~/opt/anaconda3/envs/sml/lib/python3.10/site-packages/jax/_src/profiler.py:340\u001b[0m, in \u001b[0;36mannotate_function.<locals>.wrapper\u001b[0;34m(*args, **kwargs)\u001b[0m\n\u001b[1;32m    337\u001b[0m \u001b[38;5;129m@wraps\u001b[39m(func)\n\u001b[1;32m    338\u001b[0m \u001b[38;5;28;01mdef\u001b[39;00m \u001b[38;5;21mwrapper\u001b[39m(\u001b[38;5;241m*\u001b[39margs, \u001b[38;5;241m*\u001b[39m\u001b[38;5;241m*\u001b[39mkwargs):\n\u001b[1;32m    339\u001b[0m   \u001b[38;5;28;01mwith\u001b[39;00m TraceAnnotation(name, \u001b[38;5;241m*\u001b[39m\u001b[38;5;241m*\u001b[39mdecorator_kwargs):\n\u001b[0;32m--> 340\u001b[0m     \u001b[38;5;28;01mreturn\u001b[39;00m \u001b[43mfunc\u001b[49m\u001b[43m(\u001b[49m\u001b[38;5;241;43m*\u001b[39;49m\u001b[43margs\u001b[49m\u001b[43m,\u001b[49m\u001b[43m \u001b[49m\u001b[38;5;241;43m*\u001b[39;49m\u001b[38;5;241;43m*\u001b[39;49m\u001b[43mkwargs\u001b[49m\u001b[43m)\u001b[49m\n\u001b[1;32m    341\u001b[0m   \u001b[38;5;28;01mreturn\u001b[39;00m wrapper\n",
      "File \u001b[0;32m~/opt/anaconda3/envs/sml/lib/python3.10/site-packages/jax/_src/interpreters/pxla.py:1971\u001b[0m, in \u001b[0;36mlower_sharding_computation\u001b[0;34m(fun_or_jaxpr, api_name, fun_name, in_shardings, out_shardings, donated_invars, global_in_avals, keep_unused, inline, devices_from_context, lowering_parameters)\u001b[0m\n\u001b[1;32m   1965\u001b[0m \u001b[38;5;66;03m# 1. Trace to jaxpr and preprocess/verify it\u001b[39;00m\n\u001b[1;32m   1966\u001b[0m auto_spmd_lowering \u001b[38;5;241m=\u001b[39m (\n\u001b[1;32m   1967\u001b[0m     check_if_any_auto(in_shardings) \u001b[38;5;28;01mif\u001b[39;00m is_unspecified(out_shardings) \u001b[38;5;28;01melse\u001b[39;00m\n\u001b[1;32m   1968\u001b[0m     check_if_any_auto(it\u001b[38;5;241m.\u001b[39mchain\u001b[38;5;241m.\u001b[39mfrom_iterable([in_shardings, out_shardings])))  \u001b[38;5;66;03m# type: ignore\u001b[39;00m\n\u001b[1;32m   1970\u001b[0m (closed_jaxpr, global_in_avals, global_out_avals, donated_invars,\n\u001b[0;32m-> 1971\u001b[0m  kept_var_idx, name_stack) \u001b[38;5;241m=\u001b[39m \u001b[43m_trace_to_jaxpr_and_dce\u001b[49m\u001b[43m(\u001b[49m\n\u001b[1;32m   1972\u001b[0m \u001b[43m    \u001b[49m\u001b[43mfun_or_jaxpr\u001b[49m\u001b[43m,\u001b[49m\u001b[43m \u001b[49m\u001b[43mglobal_in_avals\u001b[49m\u001b[43m,\u001b[49m\u001b[43m \u001b[49m\u001b[43mapi_name\u001b[49m\u001b[43m,\u001b[49m\u001b[43m \u001b[49m\u001b[43mfun_name\u001b[49m\u001b[43m,\u001b[49m\u001b[43m \u001b[49m\u001b[43mkeep_unused\u001b[49m\u001b[43m,\u001b[49m\n\u001b[1;32m   1973\u001b[0m \u001b[43m    \u001b[49m\u001b[43mdonated_invars\u001b[49m\u001b[43m,\u001b[49m\u001b[43m \u001b[49m\u001b[43mauto_spmd_lowering\u001b[49m\u001b[43m)\u001b[49m\n\u001b[1;32m   1974\u001b[0m jaxpr \u001b[38;5;241m=\u001b[39m closed_jaxpr\u001b[38;5;241m.\u001b[39mjaxpr\n\u001b[1;32m   1975\u001b[0m in_shardings \u001b[38;5;241m=\u001b[39m \u001b[38;5;28mtuple\u001b[39m(s \u001b[38;5;28;01mfor\u001b[39;00m i, s \u001b[38;5;129;01min\u001b[39;00m \u001b[38;5;28menumerate\u001b[39m(in_shardings) \u001b[38;5;28;01mif\u001b[39;00m i \u001b[38;5;129;01min\u001b[39;00m kept_var_idx)\n",
      "File \u001b[0;32m~/opt/anaconda3/envs/sml/lib/python3.10/site-packages/jax/_src/interpreters/pxla.py:1672\u001b[0m, in \u001b[0;36mcache_wrap.<locals>.wrapped\u001b[0;34m(f, *args, **kwargs)\u001b[0m\n\u001b[1;32m   1670\u001b[0m \u001b[38;5;28;01mdef\u001b[39;00m \u001b[38;5;21mwrapped\u001b[39m(f, \u001b[38;5;241m*\u001b[39margs, \u001b[38;5;241m*\u001b[39m\u001b[38;5;241m*\u001b[39mkwargs):\n\u001b[1;32m   1671\u001b[0m   \u001b[38;5;28;01mif\u001b[39;00m \u001b[38;5;28misinstance\u001b[39m(f, lu\u001b[38;5;241m.\u001b[39mWrappedFun):\n\u001b[0;32m-> 1672\u001b[0m     \u001b[38;5;28;01mreturn\u001b[39;00m \u001b[43m_wrapped_with_lu_cache\u001b[49m\u001b[43m(\u001b[49m\u001b[43mf\u001b[49m\u001b[43m,\u001b[49m\u001b[43m \u001b[49m\u001b[38;5;241;43m*\u001b[39;49m\u001b[43margs\u001b[49m\u001b[43m,\u001b[49m\u001b[43m \u001b[49m\u001b[38;5;241;43m*\u001b[39;49m\u001b[38;5;241;43m*\u001b[39;49m\u001b[43mkwargs\u001b[49m\u001b[43m)\u001b[49m\n\u001b[1;32m   1673\u001b[0m   \u001b[38;5;28;01melse\u001b[39;00m:\n\u001b[1;32m   1674\u001b[0m     \u001b[38;5;28;01mreturn\u001b[39;00m _wrapped_with_weakref_lru_cache(f, \u001b[38;5;241m*\u001b[39margs, \u001b[38;5;241m*\u001b[39m\u001b[38;5;241m*\u001b[39mkwargs)\n",
      "File \u001b[0;32m~/opt/anaconda3/envs/sml/lib/python3.10/site-packages/jax/_src/linear_util.py:349\u001b[0m, in \u001b[0;36mcache.<locals>.memoized_fun\u001b[0;34m(fun, *args)\u001b[0m\n\u001b[1;32m    347\u001b[0m   fun\u001b[38;5;241m.\u001b[39mpopulate_stores(stores)\n\u001b[1;32m    348\u001b[0m \u001b[38;5;28;01melse\u001b[39;00m:\n\u001b[0;32m--> 349\u001b[0m   ans \u001b[38;5;241m=\u001b[39m \u001b[43mcall\u001b[49m\u001b[43m(\u001b[49m\u001b[43mfun\u001b[49m\u001b[43m,\u001b[49m\u001b[43m \u001b[49m\u001b[38;5;241;43m*\u001b[39;49m\u001b[43margs\u001b[49m\u001b[43m)\u001b[49m\n\u001b[1;32m    350\u001b[0m   cache[key] \u001b[38;5;241m=\u001b[39m (ans, fun\u001b[38;5;241m.\u001b[39mstores)\n\u001b[1;32m    352\u001b[0m \u001b[38;5;28;01mreturn\u001b[39;00m ans\n",
      "File \u001b[0;32m~/opt/anaconda3/envs/sml/lib/python3.10/site-packages/jax/_src/interpreters/pxla.py:1697\u001b[0m, in \u001b[0;36m_trace_to_jaxpr_and_dce\u001b[0;34m(fun_or_jaxpr, global_in_avals, api_name, fun_name, keep_unused, donated_invars, auto_spmd_lowering)\u001b[0m\n\u001b[1;32m   1693\u001b[0m \u001b[38;5;28;01mif\u001b[39;00m \u001b[38;5;28misinstance\u001b[39m(fun_or_jaxpr, lu\u001b[38;5;241m.\u001b[39mWrappedFun):\n\u001b[1;32m   1694\u001b[0m   \u001b[38;5;28;01mwith\u001b[39;00m dispatch\u001b[38;5;241m.\u001b[39mlog_elapsed_time(\n\u001b[1;32m   1695\u001b[0m       \u001b[38;5;124m\"\u001b[39m\u001b[38;5;124mFinished tracing + transforming \u001b[39m\u001b[38;5;132;01m{fun_name}\u001b[39;00m\u001b[38;5;124m in \u001b[39m\u001b[38;5;132;01m{elapsed_time}\u001b[39;00m\u001b[38;5;124m sec\u001b[39m\u001b[38;5;124m\"\u001b[39m,\n\u001b[1;32m   1696\u001b[0m       fun_name\u001b[38;5;241m=\u001b[39m\u001b[38;5;28mstr\u001b[39m(name_stack), event\u001b[38;5;241m=\u001b[39mdispatch\u001b[38;5;241m.\u001b[39mJAXPR_TRACE_EVENT):\n\u001b[0;32m-> 1697\u001b[0m     jaxpr, global_out_avals, consts \u001b[38;5;241m=\u001b[39m \u001b[43mpe\u001b[49m\u001b[38;5;241;43m.\u001b[39;49m\u001b[43mtrace_to_jaxpr_final\u001b[49m\u001b[43m(\u001b[49m\n\u001b[1;32m   1698\u001b[0m \u001b[43m        \u001b[49m\u001b[43mfun_or_jaxpr\u001b[49m\u001b[43m,\u001b[49m\u001b[43m \u001b[49m\u001b[43mglobal_in_avals\u001b[49m\u001b[43m)\u001b[49m\n\u001b[1;32m   1699\u001b[0m \u001b[38;5;28;01melse\u001b[39;00m:\n\u001b[1;32m   1700\u001b[0m   \u001b[38;5;28;01massert\u001b[39;00m \u001b[38;5;28misinstance\u001b[39m(fun_or_jaxpr, core\u001b[38;5;241m.\u001b[39mClosedJaxpr)\n",
      "File \u001b[0;32m~/opt/anaconda3/envs/sml/lib/python3.10/site-packages/jax/_src/profiler.py:340\u001b[0m, in \u001b[0;36mannotate_function.<locals>.wrapper\u001b[0;34m(*args, **kwargs)\u001b[0m\n\u001b[1;32m    337\u001b[0m \u001b[38;5;129m@wraps\u001b[39m(func)\n\u001b[1;32m    338\u001b[0m \u001b[38;5;28;01mdef\u001b[39;00m \u001b[38;5;21mwrapper\u001b[39m(\u001b[38;5;241m*\u001b[39margs, \u001b[38;5;241m*\u001b[39m\u001b[38;5;241m*\u001b[39mkwargs):\n\u001b[1;32m    339\u001b[0m   \u001b[38;5;28;01mwith\u001b[39;00m TraceAnnotation(name, \u001b[38;5;241m*\u001b[39m\u001b[38;5;241m*\u001b[39mdecorator_kwargs):\n\u001b[0;32m--> 340\u001b[0m     \u001b[38;5;28;01mreturn\u001b[39;00m \u001b[43mfunc\u001b[49m\u001b[43m(\u001b[49m\u001b[38;5;241;43m*\u001b[39;49m\u001b[43margs\u001b[49m\u001b[43m,\u001b[49m\u001b[43m \u001b[49m\u001b[38;5;241;43m*\u001b[39;49m\u001b[38;5;241;43m*\u001b[39;49m\u001b[43mkwargs\u001b[49m\u001b[43m)\u001b[49m\n\u001b[1;32m    341\u001b[0m   \u001b[38;5;28;01mreturn\u001b[39;00m wrapper\n",
      "File \u001b[0;32m~/opt/anaconda3/envs/sml/lib/python3.10/site-packages/jax/_src/interpreters/partial_eval.py:2281\u001b[0m, in \u001b[0;36mtrace_to_jaxpr_final\u001b[0;34m(fun, in_avals, debug_info, keep_inputs)\u001b[0m\n\u001b[1;32m   2279\u001b[0m   main\u001b[38;5;241m.\u001b[39mjaxpr_stack \u001b[38;5;241m=\u001b[39m ()  \u001b[38;5;66;03m# type: ignore\u001b[39;00m\n\u001b[1;32m   2280\u001b[0m   \u001b[38;5;28;01mwith\u001b[39;00m core\u001b[38;5;241m.\u001b[39mnew_sublevel():\n\u001b[0;32m-> 2281\u001b[0m     jaxpr, out_avals, consts \u001b[38;5;241m=\u001b[39m \u001b[43mtrace_to_subjaxpr_dynamic\u001b[49m\u001b[43m(\u001b[49m\n\u001b[1;32m   2282\u001b[0m \u001b[43m      \u001b[49m\u001b[43mfun\u001b[49m\u001b[43m,\u001b[49m\u001b[43m \u001b[49m\u001b[43mmain\u001b[49m\u001b[43m,\u001b[49m\u001b[43m \u001b[49m\u001b[43min_avals\u001b[49m\u001b[43m,\u001b[49m\u001b[43m \u001b[49m\u001b[43mkeep_inputs\u001b[49m\u001b[38;5;241;43m=\u001b[39;49m\u001b[43mkeep_inputs\u001b[49m\u001b[43m,\u001b[49m\u001b[43m \u001b[49m\u001b[43mdebug_info\u001b[49m\u001b[38;5;241;43m=\u001b[39;49m\u001b[43mdebug_info\u001b[49m\u001b[43m)\u001b[49m\n\u001b[1;32m   2283\u001b[0m   \u001b[38;5;28;01mdel\u001b[39;00m fun, main\n\u001b[1;32m   2284\u001b[0m \u001b[38;5;28;01mreturn\u001b[39;00m jaxpr, out_avals, consts\n",
      "File \u001b[0;32m~/opt/anaconda3/envs/sml/lib/python3.10/site-packages/jax/_src/interpreters/partial_eval.py:2225\u001b[0m, in \u001b[0;36mtrace_to_subjaxpr_dynamic\u001b[0;34m(fun, main, in_avals, keep_inputs, debug_info)\u001b[0m\n\u001b[1;32m   2223\u001b[0m in_tracers \u001b[38;5;241m=\u001b[39m _input_type_to_tracers(trace\u001b[38;5;241m.\u001b[39mnew_arg, in_avals)\n\u001b[1;32m   2224\u001b[0m in_tracers_ \u001b[38;5;241m=\u001b[39m [t \u001b[38;5;28;01mfor\u001b[39;00m t, keep \u001b[38;5;129;01min\u001b[39;00m \u001b[38;5;28mzip\u001b[39m(in_tracers, keep_inputs) \u001b[38;5;28;01mif\u001b[39;00m keep]\n\u001b[0;32m-> 2225\u001b[0m ans \u001b[38;5;241m=\u001b[39m \u001b[43mfun\u001b[49m\u001b[38;5;241;43m.\u001b[39;49m\u001b[43mcall_wrapped\u001b[49m\u001b[43m(\u001b[49m\u001b[38;5;241;43m*\u001b[39;49m\u001b[43min_tracers_\u001b[49m\u001b[43m)\u001b[49m\n\u001b[1;32m   2226\u001b[0m out_tracers \u001b[38;5;241m=\u001b[39m \u001b[38;5;28mmap\u001b[39m(trace\u001b[38;5;241m.\u001b[39mfull_raise, ans)\n\u001b[1;32m   2227\u001b[0m jaxpr, consts \u001b[38;5;241m=\u001b[39m frame\u001b[38;5;241m.\u001b[39mto_jaxpr(out_tracers)\n",
      "File \u001b[0;32m~/opt/anaconda3/envs/sml/lib/python3.10/site-packages/jax/_src/linear_util.py:191\u001b[0m, in \u001b[0;36mWrappedFun.call_wrapped\u001b[0;34m(self, *args, **kwargs)\u001b[0m\n\u001b[1;32m    188\u001b[0m gen \u001b[38;5;241m=\u001b[39m gen_static_args \u001b[38;5;241m=\u001b[39m out_store \u001b[38;5;241m=\u001b[39m \u001b[38;5;28;01mNone\u001b[39;00m\n\u001b[1;32m    190\u001b[0m \u001b[38;5;28;01mtry\u001b[39;00m:\n\u001b[0;32m--> 191\u001b[0m   ans \u001b[38;5;241m=\u001b[39m \u001b[38;5;28;43mself\u001b[39;49m\u001b[38;5;241;43m.\u001b[39;49m\u001b[43mf\u001b[49m\u001b[43m(\u001b[49m\u001b[38;5;241;43m*\u001b[39;49m\u001b[43margs\u001b[49m\u001b[43m,\u001b[49m\u001b[43m \u001b[49m\u001b[38;5;241;43m*\u001b[39;49m\u001b[38;5;241;43m*\u001b[39;49m\u001b[38;5;28;43mdict\u001b[39;49m\u001b[43m(\u001b[49m\u001b[38;5;28;43mself\u001b[39;49m\u001b[38;5;241;43m.\u001b[39;49m\u001b[43mparams\u001b[49m\u001b[43m,\u001b[49m\u001b[43m \u001b[49m\u001b[38;5;241;43m*\u001b[39;49m\u001b[38;5;241;43m*\u001b[39;49m\u001b[43mkwargs\u001b[49m\u001b[43m)\u001b[49m\u001b[43m)\u001b[49m\n\u001b[1;32m    192\u001b[0m \u001b[38;5;28;01mexcept\u001b[39;00m:\n\u001b[1;32m    193\u001b[0m   \u001b[38;5;66;03m# Some transformations yield from inside context managers, so we have to\u001b[39;00m\n\u001b[1;32m    194\u001b[0m   \u001b[38;5;66;03m# interrupt them before reraising the exception. Otherwise they will only\u001b[39;00m\n\u001b[1;32m    195\u001b[0m   \u001b[38;5;66;03m# get garbage-collected at some later time, running their cleanup tasks\u001b[39;00m\n\u001b[1;32m    196\u001b[0m   \u001b[38;5;66;03m# only after this exception is handled, which can corrupt the global\u001b[39;00m\n\u001b[1;32m    197\u001b[0m   \u001b[38;5;66;03m# state.\u001b[39;00m\n\u001b[1;32m    198\u001b[0m   \u001b[38;5;28;01mwhile\u001b[39;00m stack:\n",
      "File \u001b[0;32m~/opt/anaconda3/envs/sml/lib/python3.10/site-packages/jax/_src/dispatch.py:149\u001b[0m, in \u001b[0;36mxla_primitive_callable.<locals>.prim_fun\u001b[0;34m(*args)\u001b[0m\n\u001b[1;32m    148\u001b[0m \u001b[38;5;28;01mdef\u001b[39;00m \u001b[38;5;21mprim_fun\u001b[39m(\u001b[38;5;241m*\u001b[39margs):\n\u001b[0;32m--> 149\u001b[0m   out \u001b[38;5;241m=\u001b[39m \u001b[43mprim\u001b[49m\u001b[38;5;241;43m.\u001b[39;49m\u001b[43mbind\u001b[49m\u001b[43m(\u001b[49m\u001b[38;5;241;43m*\u001b[39;49m\u001b[43margs\u001b[49m\u001b[43m,\u001b[49m\u001b[43m \u001b[49m\u001b[38;5;241;43m*\u001b[39;49m\u001b[38;5;241;43m*\u001b[39;49m\u001b[43mparams\u001b[49m\u001b[43m)\u001b[49m\n\u001b[1;32m    150\u001b[0m   \u001b[38;5;28;01mif\u001b[39;00m prim\u001b[38;5;241m.\u001b[39mmultiple_results:\n\u001b[1;32m    151\u001b[0m     \u001b[38;5;28;01mreturn\u001b[39;00m out\n",
      "File \u001b[0;32m~/opt/anaconda3/envs/sml/lib/python3.10/site-packages/jax/_src/core.py:385\u001b[0m, in \u001b[0;36mPrimitive.bind\u001b[0;34m(self, *args, **params)\u001b[0m\n\u001b[1;32m    382\u001b[0m \u001b[38;5;28;01mdef\u001b[39;00m \u001b[38;5;21mbind\u001b[39m(\u001b[38;5;28mself\u001b[39m, \u001b[38;5;241m*\u001b[39margs, \u001b[38;5;241m*\u001b[39m\u001b[38;5;241m*\u001b[39mparams):\n\u001b[1;32m    383\u001b[0m   \u001b[38;5;28;01massert\u001b[39;00m (\u001b[38;5;129;01mnot\u001b[39;00m config\u001b[38;5;241m.\u001b[39menable_checks\u001b[38;5;241m.\u001b[39mvalue \u001b[38;5;129;01mor\u001b[39;00m\n\u001b[1;32m    384\u001b[0m           \u001b[38;5;28mall\u001b[39m(\u001b[38;5;28misinstance\u001b[39m(arg, Tracer) \u001b[38;5;129;01mor\u001b[39;00m valid_jaxtype(arg) \u001b[38;5;28;01mfor\u001b[39;00m arg \u001b[38;5;129;01min\u001b[39;00m args)), args\n\u001b[0;32m--> 385\u001b[0m   \u001b[38;5;28;01mreturn\u001b[39;00m \u001b[38;5;28;43mself\u001b[39;49m\u001b[38;5;241;43m.\u001b[39;49m\u001b[43mbind_with_trace\u001b[49m\u001b[43m(\u001b[49m\u001b[43mfind_top_trace\u001b[49m\u001b[43m(\u001b[49m\u001b[43margs\u001b[49m\u001b[43m)\u001b[49m\u001b[43m,\u001b[49m\u001b[43m \u001b[49m\u001b[43margs\u001b[49m\u001b[43m,\u001b[49m\u001b[43m \u001b[49m\u001b[43mparams\u001b[49m\u001b[43m)\u001b[49m\n",
      "File \u001b[0;32m~/opt/anaconda3/envs/sml/lib/python3.10/site-packages/jax/_src/core.py:388\u001b[0m, in \u001b[0;36mPrimitive.bind_with_trace\u001b[0;34m(self, trace, args, params)\u001b[0m\n\u001b[1;32m    387\u001b[0m \u001b[38;5;28;01mdef\u001b[39;00m \u001b[38;5;21mbind_with_trace\u001b[39m(\u001b[38;5;28mself\u001b[39m, trace, args, params):\n\u001b[0;32m--> 388\u001b[0m   out \u001b[38;5;241m=\u001b[39m \u001b[43mtrace\u001b[49m\u001b[38;5;241;43m.\u001b[39;49m\u001b[43mprocess_primitive\u001b[49m\u001b[43m(\u001b[49m\u001b[38;5;28;43mself\u001b[39;49m\u001b[43m,\u001b[49m\u001b[43m \u001b[49m\u001b[38;5;28;43mmap\u001b[39;49m\u001b[43m(\u001b[49m\u001b[43mtrace\u001b[49m\u001b[38;5;241;43m.\u001b[39;49m\u001b[43mfull_raise\u001b[49m\u001b[43m,\u001b[49m\u001b[43m \u001b[49m\u001b[43margs\u001b[49m\u001b[43m)\u001b[49m\u001b[43m,\u001b[49m\u001b[43m \u001b[49m\u001b[43mparams\u001b[49m\u001b[43m)\u001b[49m\n\u001b[1;32m    389\u001b[0m   \u001b[38;5;28;01mreturn\u001b[39;00m \u001b[38;5;28mmap\u001b[39m(full_lower, out) \u001b[38;5;28;01mif\u001b[39;00m \u001b[38;5;28mself\u001b[39m\u001b[38;5;241m.\u001b[39mmultiple_results \u001b[38;5;28;01melse\u001b[39;00m full_lower(out)\n",
      "File \u001b[0;32m~/opt/anaconda3/envs/sml/lib/python3.10/site-packages/jax/_src/interpreters/partial_eval.py:1896\u001b[0m, in \u001b[0;36mDynamicJaxprTrace.process_primitive\u001b[0;34m(self, primitive, tracers, params)\u001b[0m\n\u001b[1;32m   1894\u001b[0m \u001b[38;5;28;01mdef\u001b[39;00m \u001b[38;5;21mprocess_primitive\u001b[39m(\u001b[38;5;28mself\u001b[39m, primitive, tracers, params):\n\u001b[1;32m   1895\u001b[0m   \u001b[38;5;28;01mif\u001b[39;00m primitive \u001b[38;5;129;01min\u001b[39;00m custom_staging_rules:\n\u001b[0;32m-> 1896\u001b[0m     \u001b[38;5;28;01mreturn\u001b[39;00m \u001b[43mcustom_staging_rules\u001b[49m\u001b[43m[\u001b[49m\u001b[43mprimitive\u001b[49m\u001b[43m]\u001b[49m\u001b[43m(\u001b[49m\u001b[38;5;28;43mself\u001b[39;49m\u001b[43m,\u001b[49m\u001b[43m \u001b[49m\u001b[38;5;241;43m*\u001b[39;49m\u001b[43mtracers\u001b[49m\u001b[43m,\u001b[49m\u001b[43m \u001b[49m\u001b[38;5;241;43m*\u001b[39;49m\u001b[38;5;241;43m*\u001b[39;49m\u001b[43mparams\u001b[49m\u001b[43m)\u001b[49m\n\u001b[1;32m   1897\u001b[0m   \u001b[38;5;28;01mreturn\u001b[39;00m \u001b[38;5;28mself\u001b[39m\u001b[38;5;241m.\u001b[39mdefault_process_primitive(primitive, tracers, params)\n",
      "File \u001b[0;32m~/opt/anaconda3/envs/sml/lib/python3.10/site-packages/jax/_src/lax/lax.py:3432\u001b[0m, in \u001b[0;36m_reshape_staging_rule\u001b[0;34m(trace, x, new_sizes, dimensions, *dyn)\u001b[0m\n\u001b[1;32m   3430\u001b[0m params \u001b[38;5;241m=\u001b[39m \u001b[38;5;28mdict\u001b[39m(new_sizes\u001b[38;5;241m=\u001b[39mnew_sizes, dimensions\u001b[38;5;241m=\u001b[39mdimensions)\n\u001b[1;32m   3431\u001b[0m \u001b[38;5;28;01mif\u001b[39;00m \u001b[38;5;129;01mnot\u001b[39;00m dyn:\n\u001b[0;32m-> 3432\u001b[0m   \u001b[38;5;28;01mreturn\u001b[39;00m \u001b[43mtrace\u001b[49m\u001b[38;5;241;43m.\u001b[39;49m\u001b[43mdefault_process_primitive\u001b[49m\u001b[43m(\u001b[49m\u001b[43mreshape_p\u001b[49m\u001b[43m,\u001b[49m\u001b[43m \u001b[49m\u001b[43m(\u001b[49m\u001b[43mx\u001b[49m\u001b[43m,\u001b[49m\u001b[43m)\u001b[49m\u001b[43m,\u001b[49m\u001b[43m \u001b[49m\u001b[43mparams\u001b[49m\u001b[43m)\u001b[49m\n\u001b[1;32m   3433\u001b[0m av \u001b[38;5;241m=\u001b[39m core\u001b[38;5;241m.\u001b[39mDShapedArray(_merge_dyn_shape(new_sizes, dyn), x\u001b[38;5;241m.\u001b[39mdtype, x\u001b[38;5;241m.\u001b[39mweak_type)\n\u001b[1;32m   3434\u001b[0m \u001b[38;5;28;01mreturn\u001b[39;00m _dyn_shape_staging_rule(trace, reshape_p, av, x, \u001b[38;5;241m*\u001b[39mdyn, \u001b[38;5;241m*\u001b[39m\u001b[38;5;241m*\u001b[39mparams)\n",
      "File \u001b[0;32m~/opt/anaconda3/envs/sml/lib/python3.10/site-packages/jax/_src/interpreters/partial_eval.py:1901\u001b[0m, in \u001b[0;36mDynamicJaxprTrace.default_process_primitive\u001b[0;34m(self, primitive, tracers, params)\u001b[0m\n\u001b[1;32m   1899\u001b[0m \u001b[38;5;28;01mdef\u001b[39;00m \u001b[38;5;21mdefault_process_primitive\u001b[39m(\u001b[38;5;28mself\u001b[39m, primitive, tracers, params):\n\u001b[1;32m   1900\u001b[0m   avals \u001b[38;5;241m=\u001b[39m [t\u001b[38;5;241m.\u001b[39maval \u001b[38;5;28;01mfor\u001b[39;00m t \u001b[38;5;129;01min\u001b[39;00m tracers]\n\u001b[0;32m-> 1901\u001b[0m   out_avals, effects \u001b[38;5;241m=\u001b[39m \u001b[43mprimitive\u001b[49m\u001b[38;5;241;43m.\u001b[39;49m\u001b[43mabstract_eval\u001b[49m\u001b[43m(\u001b[49m\u001b[38;5;241;43m*\u001b[39;49m\u001b[43mavals\u001b[49m\u001b[43m,\u001b[49m\u001b[43m \u001b[49m\u001b[38;5;241;43m*\u001b[39;49m\u001b[38;5;241;43m*\u001b[39;49m\u001b[43mparams\u001b[49m\u001b[43m)\u001b[49m\n\u001b[1;32m   1902\u001b[0m   \u001b[38;5;66;03m# == serve as a \"not xor\" here.\u001b[39;00m\n\u001b[1;32m   1903\u001b[0m   \u001b[38;5;28;01mif\u001b[39;00m \u001b[38;5;129;01mnot\u001b[39;00m (\u001b[38;5;28misinstance\u001b[39m(out_avals, (\u001b[38;5;28mtuple\u001b[39m,\u001b[38;5;28mlist\u001b[39m)) \u001b[38;5;241m==\u001b[39m primitive\u001b[38;5;241m.\u001b[39mmultiple_results):\n",
      "File \u001b[0;32m~/opt/anaconda3/envs/sml/lib/python3.10/site-packages/jax/_src/core.py:421\u001b[0m, in \u001b[0;36m_effect_free_abstract_eval.<locals>.abstract_eval_\u001b[0;34m(*args, **kwargs)\u001b[0m\n\u001b[1;32m    420\u001b[0m \u001b[38;5;28;01mdef\u001b[39;00m \u001b[38;5;21mabstract_eval_\u001b[39m(\u001b[38;5;241m*\u001b[39margs, \u001b[38;5;241m*\u001b[39m\u001b[38;5;241m*\u001b[39mkwargs):\n\u001b[0;32m--> 421\u001b[0m   \u001b[38;5;28;01mreturn\u001b[39;00m \u001b[43mabstract_eval\u001b[49m\u001b[43m(\u001b[49m\u001b[38;5;241;43m*\u001b[39;49m\u001b[43margs\u001b[49m\u001b[43m,\u001b[49m\u001b[43m \u001b[49m\u001b[38;5;241;43m*\u001b[39;49m\u001b[38;5;241;43m*\u001b[39;49m\u001b[43mkwargs\u001b[49m\u001b[43m)\u001b[49m, no_effects\n",
      "File \u001b[0;32m~/opt/anaconda3/envs/sml/lib/python3.10/site-packages/jax/_src/lax/utils.py:60\u001b[0m, in \u001b[0;36mstandard_abstract_eval\u001b[0;34m(prim, shape_rule, dtype_rule, weak_type_rule, named_shape_rule, *avals, **kwargs)\u001b[0m\n\u001b[1;32m     58\u001b[0m   \u001b[38;5;28;01mreturn\u001b[39;00m core\u001b[38;5;241m.\u001b[39mConcreteArray(out\u001b[38;5;241m.\u001b[39mdtype, out, weak_type\u001b[38;5;241m=\u001b[39mweak_type)\n\u001b[1;32m     59\u001b[0m \u001b[38;5;28;01melif\u001b[39;00m least_specialized \u001b[38;5;129;01mis\u001b[39;00m core\u001b[38;5;241m.\u001b[39mShapedArray:\n\u001b[0;32m---> 60\u001b[0m   \u001b[38;5;28;01mreturn\u001b[39;00m core\u001b[38;5;241m.\u001b[39mShapedArray(\u001b[43mshape_rule\u001b[49m\u001b[43m(\u001b[49m\u001b[38;5;241;43m*\u001b[39;49m\u001b[43mavals\u001b[49m\u001b[43m,\u001b[49m\u001b[43m \u001b[49m\u001b[38;5;241;43m*\u001b[39;49m\u001b[38;5;241;43m*\u001b[39;49m\u001b[43mkwargs\u001b[49m\u001b[43m)\u001b[49m,\n\u001b[1;32m     61\u001b[0m                           dtype_rule(\u001b[38;5;241m*\u001b[39mavals, \u001b[38;5;241m*\u001b[39m\u001b[38;5;241m*\u001b[39mkwargs), weak_type\u001b[38;5;241m=\u001b[39mweak_type,\n\u001b[1;32m     62\u001b[0m                           named_shape\u001b[38;5;241m=\u001b[39mnamed_shape_rule(\u001b[38;5;241m*\u001b[39mavals, \u001b[38;5;241m*\u001b[39m\u001b[38;5;241m*\u001b[39mkwargs))\n\u001b[1;32m     63\u001b[0m \u001b[38;5;28;01melif\u001b[39;00m least_specialized \u001b[38;5;129;01mis\u001b[39;00m core\u001b[38;5;241m.\u001b[39mDShapedArray:\n\u001b[1;32m     64\u001b[0m   shape \u001b[38;5;241m=\u001b[39m shape_rule(\u001b[38;5;241m*\u001b[39mavals, \u001b[38;5;241m*\u001b[39m\u001b[38;5;241m*\u001b[39mkwargs)\n",
      "File \u001b[0;32m~/opt/anaconda3/envs/sml/lib/python3.10/site-packages/jax/_src/lax/lax.py:3378\u001b[0m, in \u001b[0;36m_reshape_shape_rule\u001b[0;34m(operand, new_sizes, dimensions)\u001b[0m\n\u001b[1;32m   3375\u001b[0m \u001b[38;5;28;01mif\u001b[39;00m (\u001b[38;5;129;01mnot\u001b[39;00m config\u001b[38;5;241m.\u001b[39mdynamic_shapes\u001b[38;5;241m.\u001b[39mvalue \u001b[38;5;129;01mand\u001b[39;00m\n\u001b[1;32m   3376\u001b[0m     \u001b[38;5;129;01mnot\u001b[39;00m math\u001b[38;5;241m.\u001b[39mprod(np\u001b[38;5;241m.\u001b[39mshape(operand)) \u001b[38;5;241m==\u001b[39m math\u001b[38;5;241m.\u001b[39mprod(new_sizes)):\n\u001b[1;32m   3377\u001b[0m   msg \u001b[38;5;241m=\u001b[39m \u001b[38;5;124m'\u001b[39m\u001b[38;5;124mreshape total size must be unchanged, got new_sizes \u001b[39m\u001b[38;5;132;01m{}\u001b[39;00m\u001b[38;5;124m for shape \u001b[39m\u001b[38;5;132;01m{}\u001b[39;00m\u001b[38;5;124m.\u001b[39m\u001b[38;5;124m'\u001b[39m\n\u001b[0;32m-> 3378\u001b[0m   \u001b[38;5;28;01mraise\u001b[39;00m \u001b[38;5;167;01mTypeError\u001b[39;00m(msg\u001b[38;5;241m.\u001b[39mformat(new_sizes, np\u001b[38;5;241m.\u001b[39mshape(operand)))\n\u001b[1;32m   3379\u001b[0m \u001b[38;5;28;01mif\u001b[39;00m dimensions \u001b[38;5;129;01mis\u001b[39;00m \u001b[38;5;129;01mnot\u001b[39;00m \u001b[38;5;28;01mNone\u001b[39;00m:\n\u001b[1;32m   3380\u001b[0m   \u001b[38;5;28;01mif\u001b[39;00m \u001b[38;5;28mset\u001b[39m(dimensions) \u001b[38;5;241m!=\u001b[39m \u001b[38;5;28mset\u001b[39m(\u001b[38;5;28mrange\u001b[39m(np\u001b[38;5;241m.\u001b[39mndim(operand))):\n",
      "\u001b[0;31mTypeError\u001b[0m: reshape total size must be unchanged, got new_sizes (16, 1, 3) for shape (1600, 1, 3)."
     ]
    }
   ],
   "source": [
    "xyz_eval.reshape(16,1,3).shape"
   ]
  },
  {
   "cell_type": "code",
   "execution_count": null,
   "id": "0f32ba78-271f-4bde-b713-c644da25c2fd",
   "metadata": {},
   "outputs": [],
   "source": []
  },
  {
   "cell_type": "code",
   "execution_count": null,
   "id": "9d44667a-2c34-4033-8fb4-aa7aea7ea229",
   "metadata": {},
   "outputs": [],
   "source": []
  },
  {
   "cell_type": "code",
   "execution_count": null,
   "id": "b574cc6f-0e63-4d04-b18d-450863cf70e8",
   "metadata": {},
   "outputs": [],
   "source": []
  },
  {
   "cell_type": "code",
   "execution_count": null,
   "id": "7a5c44b9-7d13-457a-88cc-af764be67442",
   "metadata": {},
   "outputs": [],
   "source": []
  },
  {
   "cell_type": "code",
   "execution_count": null,
   "id": "07a3c695-7d56-4d35-afbc-6c6e90916706",
   "metadata": {},
   "outputs": [],
   "source": []
  },
  {
   "cell_type": "code",
   "execution_count": 54,
   "id": "043c5483-412f-494a-a73f-8c3e2af3764b",
   "metadata": {},
   "outputs": [],
   "source": [
    "phi_only = lambda r, theta, phi: obj.phi_rho(r, theta, phi)[0][0]\n",
    "rho_only = lambda r, theta, phi: obj.phi_rho(r, theta, phi)[0][0]"
   ]
  },
  {
   "cell_type": "code",
   "execution_count": 62,
   "id": "56c1a48f-6837-45cf-b6be-22ebe879a17a",
   "metadata": {},
   "outputs": [
    {
     "data": {
      "text/plain": [
       "(Array(433.6454669, dtype=float64),\n",
       " Array(0., dtype=float64),\n",
       " Array(458.06604697, dtype=float64, weak_type=True))"
      ]
     },
     "execution_count": 62,
     "metadata": {},
     "output_type": "execute_result"
    }
   ],
   "source": [
    "\n",
    "\n",
    "jax.grad(phi_only,argnums=((0,1,2,)))(10.,.8,.2)"
   ]
  },
  {
   "cell_type": "code",
   "execution_count": 47,
   "id": "95da8291-47b9-4d0a-9501-80a667bafd20",
   "metadata": {},
   "outputs": [
    {
     "ename": "IndexError",
     "evalue": "tuple index out of range",
     "output_type": "error",
     "traceback": [
      "\u001b[0;31m---------------------------------------------------------------------------\u001b[0m",
      "\u001b[0;31mIndexError\u001b[0m                                Traceback (most recent call last)",
      "Cell \u001b[0;32mIn[47], line 1\u001b[0m\n\u001b[0;32m----> 1\u001b[0m \u001b[43mjax\u001b[49m\u001b[38;5;241;43m.\u001b[39;49m\u001b[43mgrad\u001b[49m\u001b[43m(\u001b[49m\u001b[43mphi_only\u001b[49m\u001b[43m)\u001b[49m\u001b[43m(\u001b[49m\u001b[43mjnp\u001b[49m\u001b[38;5;241;43m.\u001b[39;49m\u001b[43marray\u001b[49m\u001b[43m(\u001b[49m\u001b[43m[\u001b[49m\u001b[38;5;241;43m1.\u001b[39;49m\u001b[43m,\u001b[49m\u001b[38;5;241;43m.2\u001b[39;49m\u001b[43m,\u001b[49m\u001b[38;5;241;43m.2\u001b[39;49m\u001b[43m]\u001b[49m\u001b[43m)\u001b[49m\u001b[43m)\u001b[49m\n",
      "    \u001b[0;31m[... skipping hidden 10 frame]\u001b[0m\n",
      "Cell \u001b[0;32mIn[46], line 1\u001b[0m, in \u001b[0;36m<lambda>\u001b[0;34m(r_theta_phi)\u001b[0m\n\u001b[0;32m----> 1\u001b[0m phi_only \u001b[38;5;241m=\u001b[39m \u001b[38;5;28;01mlambda\u001b[39;00m r_theta_phi: \u001b[43mobj\u001b[49m\u001b[38;5;241;43m.\u001b[39;49m\u001b[43mphi_rho\u001b[49m\u001b[43m(\u001b[49m\u001b[43mr_theta_phi\u001b[49m\u001b[43m[\u001b[49m\u001b[38;5;241;43m0\u001b[39;49m\u001b[43m]\u001b[49m\u001b[43m,\u001b[49m\u001b[43mr_theta_phi\u001b[49m\u001b[43m[\u001b[49m\u001b[38;5;241;43m1\u001b[39;49m\u001b[43m]\u001b[49m\u001b[43m,\u001b[49m\u001b[43mr_theta_phi\u001b[49m\u001b[43m[\u001b[49m\u001b[38;5;241;43m2\u001b[39;49m\u001b[43m]\u001b[49m\u001b[43m)\u001b[49m[\u001b[38;5;241m0\u001b[39m][\u001b[38;5;241m0\u001b[39m]\n",
      "    \u001b[0;31m[... skipping hidden 12 frame]\u001b[0m\n",
      "Cell \u001b[0;32mIn[29], line 117\u001b[0m, in \u001b[0;36mBFE.phi_rho\u001b[0;34m(self, r_eval, theta_eval, phi_eval)\u001b[0m\n\u001b[1;32m    115\u001b[0m l \u001b[38;5;241m=\u001b[39m jnp\u001b[38;5;241m.\u001b[39marray([l_])\n\u001b[1;32m    116\u001b[0m m \u001b[38;5;241m=\u001b[39m jnp\u001b[38;5;241m.\u001b[39marray([m_])\n\u001b[0;32m--> 117\u001b[0m ylm_val \u001b[38;5;241m=\u001b[39m \u001b[38;5;28;43mself\u001b[39;49m\u001b[38;5;241;43m.\u001b[39;49m\u001b[43mget_Ylm\u001b[49m\u001b[43m(\u001b[49m\u001b[43ml\u001b[49m\u001b[43m,\u001b[49m\u001b[43mm\u001b[49m\u001b[43m,\u001b[49m\u001b[43mtheta_eval\u001b[49m\u001b[43m,\u001b[49m\u001b[43mphi_eval\u001b[49m\u001b[43m)\u001b[49m\n\u001b[1;32m    118\u001b[0m rho_nl_val \u001b[38;5;241m=\u001b[39m \u001b[38;5;28mself\u001b[39m\u001b[38;5;241m.\u001b[39mrho_nl(n,l,r_eval)\n\u001b[1;32m    119\u001b[0m phi_nl_val \u001b[38;5;241m=\u001b[39m \u001b[38;5;28mself\u001b[39m\u001b[38;5;241m.\u001b[39mphi_nl(n,l,r_eval)\n",
      "    \u001b[0;31m[... skipping hidden 12 frame]\u001b[0m\n",
      "Cell \u001b[0;32mIn[29], line 87\u001b[0m, in \u001b[0;36mBFE.get_Ylm\u001b[0;34m(self, l, m, theta, phi)\u001b[0m\n\u001b[1;32m     80\u001b[0m \u001b[38;5;129m@partial\u001b[39m(jax\u001b[38;5;241m.\u001b[39mjit,static_argnums\u001b[38;5;241m=\u001b[39m(\u001b[38;5;241m0\u001b[39m,))\n\u001b[1;32m     81\u001b[0m \u001b[38;5;28;01mdef\u001b[39;00m \u001b[38;5;21mget_Ylm\u001b[39m(\u001b[38;5;28mself\u001b[39m, l,m,theta,phi):\n\u001b[1;32m     82\u001b[0m \u001b[38;5;250m    \u001b[39m\u001b[38;5;124;03m\"\"\"\u001b[39;00m\n\u001b[1;32m     83\u001b[0m \u001b[38;5;124;03m    Scipy convention: first arg is m, second is l.  l \\in [0,lmax], m \\in [0,l]\u001b[39;00m\n\u001b[1;32m     84\u001b[0m \u001b[38;5;124;03m    So n ~ l here in scipy and n_max ~ l_max\u001b[39;00m\n\u001b[1;32m     85\u001b[0m \u001b[38;5;124;03m    n_max must be statically set\u001b[39;00m\n\u001b[1;32m     86\u001b[0m \u001b[38;5;124;03m    \"\"\"\u001b[39;00m\n\u001b[0;32m---> 87\u001b[0m     \u001b[38;5;28;01mreturn\u001b[39;00m \u001b[43msph_harm\u001b[49m\u001b[43m(\u001b[49m\u001b[43mm\u001b[49m\u001b[38;5;241;43m=\u001b[39;49m\u001b[43mm\u001b[49m\u001b[43m,\u001b[49m\u001b[43m \u001b[49m\u001b[43mn\u001b[49m\u001b[38;5;241;43m=\u001b[39;49m\u001b[43ml\u001b[49m\u001b[43m,\u001b[49m\u001b[43m \u001b[49m\u001b[43mtheta\u001b[49m\u001b[38;5;241;43m=\u001b[39;49m\u001b[43mtheta\u001b[49m\u001b[43m,\u001b[49m\u001b[43m \u001b[49m\u001b[43mphi\u001b[49m\u001b[38;5;241;43m=\u001b[39;49m\u001b[43mphi\u001b[49m\u001b[43m,\u001b[49m\u001b[43mn_max\u001b[49m\u001b[38;5;241;43m=\u001b[39;49m\u001b[38;5;241;43m12\u001b[39;49m\u001b[43m)\u001b[49m\n",
      "File \u001b[0;32m~/opt/anaconda3/envs/sml/lib/python3.10/site-packages/jax/_src/scipy/special.py:1226\u001b[0m, in \u001b[0;36msph_harm\u001b[0;34m(m, n, theta, phi, n_max)\u001b[0m\n\u001b[1;32m   1221\u001b[0m   n_max \u001b[38;5;241m=\u001b[39m np\u001b[38;5;241m.\u001b[39mmax(n)\n\u001b[1;32m   1222\u001b[0m n_max \u001b[38;5;241m=\u001b[39m core\u001b[38;5;241m.\u001b[39mconcrete_or_error(\n\u001b[1;32m   1223\u001b[0m     \u001b[38;5;28mint\u001b[39m, n_max, \u001b[38;5;124m'\u001b[39m\u001b[38;5;124mThe `n_max` argument of `jnp.scipy.special.sph_harm` must \u001b[39m\u001b[38;5;124m'\u001b[39m\n\u001b[1;32m   1224\u001b[0m     \u001b[38;5;124m'\u001b[39m\u001b[38;5;124mbe statically specified to use `sph_harm` within JAX transformations.\u001b[39m\u001b[38;5;124m'\u001b[39m)\n\u001b[0;32m-> 1226\u001b[0m \u001b[38;5;28;01mreturn\u001b[39;00m \u001b[43m_sph_harm\u001b[49m\u001b[43m(\u001b[49m\u001b[43mm\u001b[49m\u001b[43m,\u001b[49m\u001b[43m \u001b[49m\u001b[43mn\u001b[49m\u001b[43m,\u001b[49m\u001b[43m \u001b[49m\u001b[43mtheta\u001b[49m\u001b[43m,\u001b[49m\u001b[43m \u001b[49m\u001b[43mphi\u001b[49m\u001b[43m,\u001b[49m\u001b[43m \u001b[49m\u001b[43mn_max\u001b[49m\u001b[43m)\u001b[49m\n",
      "    \u001b[0;31m[... skipping hidden 12 frame]\u001b[0m\n",
      "File \u001b[0;32m~/opt/anaconda3/envs/sml/lib/python3.10/site-packages/jax/_src/scipy/special.py:1166\u001b[0m, in \u001b[0;36m_sph_harm\u001b[0;34m(m, n, theta, phi, n_max)\u001b[0m\n\u001b[1;32m   1162\u001b[0m \u001b[38;5;250m\u001b[39m\u001b[38;5;124;03m\"\"\"Computes the spherical harmonics.\"\"\"\u001b[39;00m\n\u001b[1;32m   1164\u001b[0m cos_colatitude \u001b[38;5;241m=\u001b[39m jnp\u001b[38;5;241m.\u001b[39mcos(phi)\n\u001b[0;32m-> 1166\u001b[0m legendre \u001b[38;5;241m=\u001b[39m \u001b[43m_gen_associated_legendre\u001b[49m\u001b[43m(\u001b[49m\u001b[43mn_max\u001b[49m\u001b[43m,\u001b[49m\u001b[43m \u001b[49m\u001b[43mcos_colatitude\u001b[49m\u001b[43m,\u001b[49m\u001b[43m \u001b[49m\u001b[38;5;28;43;01mTrue\u001b[39;49;00m\u001b[43m)\u001b[49m\n\u001b[1;32m   1167\u001b[0m legendre_val \u001b[38;5;241m=\u001b[39m legendre\u001b[38;5;241m.\u001b[39mat[\u001b[38;5;28mabs\u001b[39m(m), n, jnp\u001b[38;5;241m.\u001b[39marange(\u001b[38;5;28mlen\u001b[39m(n))]\u001b[38;5;241m.\u001b[39mget(mode\u001b[38;5;241m=\u001b[39m\u001b[38;5;124m\"\u001b[39m\u001b[38;5;124mclip\u001b[39m\u001b[38;5;124m\"\u001b[39m)\n\u001b[1;32m   1169\u001b[0m angle \u001b[38;5;241m=\u001b[39m \u001b[38;5;28mabs\u001b[39m(m) \u001b[38;5;241m*\u001b[39m theta\n",
      "    \u001b[0;31m[... skipping hidden 12 frame]\u001b[0m\n",
      "File \u001b[0;32m~/opt/anaconda3/envs/sml/lib/python3.10/site-packages/jax/_src/scipy/special.py:1004\u001b[0m, in \u001b[0;36m_gen_associated_legendre\u001b[0;34m(l_max, x, is_normalized)\u001b[0m\n\u001b[1;32m    955\u001b[0m \u001b[38;5;129m@partial\u001b[39m(jit, static_argnums\u001b[38;5;241m=\u001b[39m(\u001b[38;5;241m0\u001b[39m, \u001b[38;5;241m2\u001b[39m))\n\u001b[1;32m    956\u001b[0m \u001b[38;5;28;01mdef\u001b[39;00m \u001b[38;5;21m_gen_associated_legendre\u001b[39m(l_max: \u001b[38;5;28mint\u001b[39m,\n\u001b[1;32m    957\u001b[0m                              x: Array,\n\u001b[1;32m    958\u001b[0m                              is_normalized: \u001b[38;5;28mbool\u001b[39m) \u001b[38;5;241m-\u001b[39m\u001b[38;5;241m>\u001b[39m Array:\n\u001b[1;32m    959\u001b[0m \u001b[38;5;250m  \u001b[39m\u001b[38;5;124mr\u001b[39m\u001b[38;5;124;03m\"\"\"Computes associated Legendre functions (ALFs) of the first kind.\u001b[39;00m\n\u001b[1;32m    960\u001b[0m \n\u001b[1;32m    961\u001b[0m \u001b[38;5;124;03m  The ALFs of the first kind are used in spherical harmonics. The spherical\u001b[39;00m\n\u001b[0;32m   (...)\u001b[0m\n\u001b[1;32m   1002\u001b[0m \u001b[38;5;124;03m    evaluation points.\u001b[39;00m\n\u001b[1;32m   1003\u001b[0m \u001b[38;5;124;03m  \"\"\"\u001b[39;00m\n\u001b[0;32m-> 1004\u001b[0m   p \u001b[38;5;241m=\u001b[39m jnp\u001b[38;5;241m.\u001b[39mzeros((l_max \u001b[38;5;241m+\u001b[39m \u001b[38;5;241m1\u001b[39m, l_max \u001b[38;5;241m+\u001b[39m \u001b[38;5;241m1\u001b[39m, \u001b[43mx\u001b[49m\u001b[38;5;241;43m.\u001b[39;49m\u001b[43mshape\u001b[49m\u001b[43m[\u001b[49m\u001b[38;5;241;43m0\u001b[39;49m\u001b[43m]\u001b[49m), dtype\u001b[38;5;241m=\u001b[39mx\u001b[38;5;241m.\u001b[39mdtype)\n\u001b[1;32m   1006\u001b[0m   a_idx \u001b[38;5;241m=\u001b[39m jnp\u001b[38;5;241m.\u001b[39marange(\u001b[38;5;241m1\u001b[39m, l_max \u001b[38;5;241m+\u001b[39m \u001b[38;5;241m1\u001b[39m, dtype\u001b[38;5;241m=\u001b[39mx\u001b[38;5;241m.\u001b[39mdtype)\n\u001b[1;32m   1007\u001b[0m   b_idx \u001b[38;5;241m=\u001b[39m jnp\u001b[38;5;241m.\u001b[39marange(l_max, dtype\u001b[38;5;241m=\u001b[39mx\u001b[38;5;241m.\u001b[39mdtype)\n",
      "\u001b[0;31mIndexError\u001b[0m: tuple index out of range"
     ]
    }
   ],
   "source": [
    "jax.grad(phi_only)(jnp.array([1.,.2,.2]))"
   ]
  },
  {
   "cell_type": "code",
   "execution_count": null,
   "id": "f5754334-dbcc-4b93-a15a-89a4760672ba",
   "metadata": {},
   "outputs": [],
   "source": []
  },
  {
   "cell_type": "code",
   "execution_count": null,
   "id": "226d4851-8694-4fe4-9736-bc9f9964df7a",
   "metadata": {},
   "outputs": [],
   "source": []
  },
  {
   "cell_type": "code",
   "execution_count": null,
   "id": "ea8a3149-3017-4dca-abdf-72b3522745fa",
   "metadata": {},
   "outputs": [],
   "source": []
  },
  {
   "cell_type": "code",
   "execution_count": 59,
   "id": "7718d0db-26d0-40d9-bf6e-fb3732a18cb0",
   "metadata": {},
   "outputs": [
    {
     "data": {
      "text/plain": [
       "(1000,)"
      ]
     },
     "execution_count": 59,
     "metadata": {},
     "output_type": "execute_result"
    }
   ],
   "source": [
    "rho_curr.shape"
   ]
  },
  {
   "cell_type": "code",
   "execution_count": 751,
   "id": "1eebfbc4-86a5-4b00-b701-a36d672b4f8a",
   "metadata": {},
   "outputs": [
    {
     "data": {
      "text/plain": [
       "Array([-0.23809524], dtype=float64)"
      ]
     },
     "execution_count": 751,
     "metadata": {},
     "output_type": "execute_result"
    }
   ],
   "source": [
    "obj.ultraspherical_single_sum_element(3,.5,jnp.array([2]),.3)"
   ]
  },
  {
   "cell_type": "code",
   "execution_count": 730,
   "id": "1e7f46fb-473f-4fb1-8d92-1c2ce01cccd7",
   "metadata": {},
   "outputs": [],
   "source": [
    "@jax.jit\n",
    "def rho(r, theta, phi):\n",
    "    rho0 = 0.0\n",
    "    for n in range(0,nmax):\n",
    "        for l in range(0,lmax):\n",
    "            for m in range(0,l):\n",
    "                \n",
    "                \n",
    "    return a\n",
    "    \n",
    "\n",
    "#g = obj.Snlm_single(n=jnp.array([3]), l=jnp.array([2]), m=jnp.array([0]))\n"
   ]
  },
  {
   "cell_type": "code",
   "execution_count": 735,
   "id": "4c7314d4-4c34-4b7e-bfb9-c20b481f1bee",
   "metadata": {},
   "outputs": [
    {
     "data": {
      "text/plain": [
       "Array(1.96679398e-07, dtype=float64, weak_type=True)"
      ]
     },
     "execution_count": 735,
     "metadata": {},
     "output_type": "execute_result"
    }
   ],
   "source": [
    "jax.grad(test_loop)(200.)"
   ]
  },
  {
   "cell_type": "code",
   "execution_count": null,
   "id": "c659396c-4c92-426b-bec7-e189e7a8e8c6",
   "metadata": {},
   "outputs": [],
   "source": []
  },
  {
   "cell_type": "code",
   "execution_count": null,
   "id": "63a4b954-200f-497c-9a49-686368811758",
   "metadata": {},
   "outputs": [],
   "source": []
  },
  {
   "cell_type": "code",
   "execution_count": null,
   "id": "15f785b8-d599-4bd8-8019-6531a928678b",
   "metadata": {},
   "outputs": [],
   "source": []
  },
  {
   "cell_type": "code",
   "execution_count": null,
   "id": "2f82c59d-234f-4846-97bf-b2d16680e306",
   "metadata": {},
   "outputs": [],
   "source": []
  },
  {
   "cell_type": "code",
   "execution_count": 688,
   "id": "3584d114-df9b-4138-94f2-d2bbf654d4fe",
   "metadata": {},
   "outputs": [
    {
     "data": {
      "text/plain": [
       "Array(3, dtype=int64)"
      ]
     },
     "execution_count": 688,
     "metadata": {},
     "output_type": "execute_result"
    }
   ],
   "source": [
    "gg = jnp.array([3])\n",
    "gg[0]"
   ]
  },
  {
   "cell_type": "code",
   "execution_count": 344,
   "id": "81365249-6a19-48c8-9238-70a0b897cf30",
   "metadata": {},
   "outputs": [],
   "source": [
    "#obj.phi_nl(jnp.array([3]),jnp.array([2]))"
   ]
  },
  {
   "cell_type": "code",
   "execution_count": 706,
   "id": "51dc54b7-4892-43b0-9ff9-d5f1f51d7e22",
   "metadata": {},
   "outputs": [
    {
     "data": {
      "text/plain": [
       "Array([-0.23809524], dtype=float64)"
      ]
     },
     "execution_count": 706,
     "metadata": {},
     "output_type": "execute_result"
    }
   ],
   "source": [
    "obj.ultraspherical_single_sum_element(3,.5,jnp.array([2]),.3)"
   ]
  },
  {
   "cell_type": "code",
   "execution_count": 707,
   "id": "fdb0e84f-c111-4dc8-b230-58f6bb73dd67",
   "metadata": {},
   "outputs": [],
   "source": [
    "#jax.grad(obj.jitted_ulstraspherical_polynomials)(.5,3,.3)"
   ]
  },
  {
   "cell_type": "code",
   "execution_count": 745,
   "id": "8ebc4ba0-39ac-46f2-ad7c-f8e55716dd45",
   "metadata": {},
   "outputs": [
    {
     "ename": "TypeError",
     "evalue": "BFE.phi_nl() missing 1 required positional argument: 'r'",
     "output_type": "error",
     "traceback": [
      "\u001b[0;31m---------------------------------------------------------------------------\u001b[0m",
      "\u001b[0;31mTypeError\u001b[0m                                 Traceback (most recent call last)",
      "Cell \u001b[0;32mIn[745], line 2\u001b[0m\n\u001b[1;32m      1\u001b[0m s \u001b[38;5;241m=\u001b[39m time\u001b[38;5;241m.\u001b[39mtime()\n\u001b[0;32m----> 2\u001b[0m g \u001b[38;5;241m=\u001b[39m \u001b[43mobj\u001b[49m\u001b[38;5;241;43m.\u001b[39;49m\u001b[43mSnlm_single\u001b[49m\u001b[43m(\u001b[49m\u001b[43mjnp\u001b[49m\u001b[38;5;241;43m.\u001b[39;49m\u001b[43marray\u001b[49m\u001b[43m(\u001b[49m\u001b[43m[\u001b[49m\u001b[38;5;241;43m3\u001b[39;49m\u001b[43m]\u001b[49m\u001b[43m)\u001b[49m\u001b[43m,\u001b[49m\u001b[43m \u001b[49m\u001b[43mjnp\u001b[49m\u001b[38;5;241;43m.\u001b[39;49m\u001b[43marray\u001b[49m\u001b[43m(\u001b[49m\u001b[43m[\u001b[49m\u001b[38;5;241;43m2\u001b[39;49m\u001b[43m]\u001b[49m\u001b[43m)\u001b[49m\u001b[43m,\u001b[49m\u001b[43m \u001b[49m\u001b[43mjnp\u001b[49m\u001b[38;5;241;43m.\u001b[39;49m\u001b[43marray\u001b[49m\u001b[43m(\u001b[49m\u001b[43m[\u001b[49m\u001b[38;5;241;43m0\u001b[39;49m\u001b[43m]\u001b[49m\u001b[43m)\u001b[49m\u001b[43m)\u001b[49m\n\u001b[1;32m      3\u001b[0m e \u001b[38;5;241m=\u001b[39m time\u001b[38;5;241m.\u001b[39mtime()\n\u001b[1;32m      4\u001b[0m \u001b[38;5;28mprint\u001b[39m(e\u001b[38;5;241m-\u001b[39ms)\n",
      "    \u001b[0;31m[... skipping hidden 12 frame]\u001b[0m\n",
      "Cell \u001b[0;32mIn[743], line 89\u001b[0m, in \u001b[0;36mBFE.Snlm_single\u001b[0;34m(self, n, l, m)\u001b[0m\n\u001b[1;32m     87\u001b[0m \u001b[38;5;129m@partial\u001b[39m(jax\u001b[38;5;241m.\u001b[39mjit,static_argnums\u001b[38;5;241m=\u001b[39m(\u001b[38;5;241m0\u001b[39m,))\n\u001b[1;32m     88\u001b[0m \u001b[38;5;28;01mdef\u001b[39;00m \u001b[38;5;21mSnlm_single\u001b[39m(\u001b[38;5;28mself\u001b[39m, n, l, m):\n\u001b[0;32m---> 89\u001b[0m     \u001b[38;5;28;01mreturn\u001b[39;00m \u001b[38;5;28mself\u001b[39m\u001b[38;5;241m.\u001b[39mAtilde(n,l)\u001b[38;5;241m*\u001b[39m\u001b[38;5;28mself\u001b[39m\u001b[38;5;241m.\u001b[39mmass\u001b[38;5;241m*\u001b[39m\u001b[38;5;28;43mself\u001b[39;49m\u001b[38;5;241;43m.\u001b[39;49m\u001b[43mphi_nl\u001b[49m\u001b[43m(\u001b[49m\u001b[43mn\u001b[49m\u001b[43m,\u001b[49m\u001b[43ml\u001b[49m\u001b[43m)\u001b[49m\u001b[38;5;241m*\u001b[39m\u001b[38;5;28mself\u001b[39m\u001b[38;5;241m.\u001b[39mget_Ylm(l,m,\u001b[38;5;28mself\u001b[39m\u001b[38;5;241m.\u001b[39mtheta,\u001b[38;5;28mself\u001b[39m\u001b[38;5;241m.\u001b[39mphi)\u001b[38;5;241m*\u001b[39mjnp\u001b[38;5;241m.\u001b[39mcos(m\u001b[38;5;241m*\u001b[39m\u001b[38;5;28mself\u001b[39m\u001b[38;5;241m.\u001b[39mphi)\n",
      "\u001b[0;31mTypeError\u001b[0m: BFE.phi_nl() missing 1 required positional argument: 'r'"
     ]
    }
   ],
   "source": [
    "s = time.time()\n",
    "g = obj.Snlm_single(jnp.array([3]), jnp.array([2]), jnp.array([0]))\n",
    "e = time.time()\n",
    "print(e-s)"
   ]
  },
  {
   "cell_type": "code",
   "execution_count": 690,
   "id": "fe456120-0524-4c81-b901-cba119281143",
   "metadata": {},
   "outputs": [],
   "source": [
    "#obj.Snlm_single(jnp.array([4]), jnp.array([5]), jnp.array([2]))"
   ]
  },
  {
   "cell_type": "code",
   "execution_count": 95,
   "id": "5d939118-956d-4045-a877-822e9bc9ff68",
   "metadata": {},
   "outputs": [
    {
     "data": {
      "text/plain": [
       "Array(2, dtype=int64, weak_type=True)"
      ]
     },
     "execution_count": 95,
     "metadata": {},
     "output_type": "execute_result"
    }
   ],
   "source": [
    "obj.factorial(jnp.array([2]))"
   ]
  },
  {
   "cell_type": "code",
   "execution_count": 10,
   "id": "6c8392ae-c742-440b-9337-6494709501b4",
   "metadata": {},
   "outputs": [
    {
     "ename": "NameError",
     "evalue": "name 'ultraspherical_single_sum_element' is not defined",
     "output_type": "error",
     "traceback": [
      "\u001b[0;31m---------------------------------------------------------------------------\u001b[0m",
      "\u001b[0;31mNameError\u001b[0m                                 Traceback (most recent call last)",
      "Cell \u001b[0;32mIn[10], line 1\u001b[0m\n\u001b[0;32m----> 1\u001b[0m \u001b[43mobj\u001b[49m\u001b[38;5;241;43m.\u001b[39;49m\u001b[43mjitted_ulstraspherical_polynomials\u001b[49m\u001b[43m(\u001b[49m\u001b[43mjnp\u001b[49m\u001b[38;5;241;43m.\u001b[39;49m\u001b[43marray\u001b[49m\u001b[43m(\u001b[49m\u001b[43m[\u001b[49m\u001b[38;5;241;43m.4\u001b[39;49m\u001b[43m]\u001b[49m\u001b[43m)\u001b[49m\u001b[43m,\u001b[49m\u001b[43mjnp\u001b[49m\u001b[38;5;241;43m.\u001b[39;49m\u001b[43marray\u001b[49m\u001b[43m(\u001b[49m\u001b[43m[\u001b[49m\u001b[38;5;241;43m2\u001b[39;49m\u001b[43m]\u001b[49m\u001b[43m)\u001b[49m\u001b[43m,\u001b[49m\u001b[43mjnp\u001b[49m\u001b[38;5;241;43m.\u001b[39;49m\u001b[43marray\u001b[49m\u001b[43m(\u001b[49m\u001b[43m[\u001b[49m\u001b[38;5;241;43m2\u001b[39;49m\u001b[43m]\u001b[49m\u001b[43m)\u001b[49m\u001b[43m)\u001b[49m\n",
      "    \u001b[0;31m[... skipping hidden 12 frame]\u001b[0m\n",
      "Cell \u001b[0;32mIn[7], line 54\u001b[0m, in \u001b[0;36mBFE.jitted_ulstraspherical_polynomials\u001b[0;34m(self, x, n, lamb)\u001b[0m\n\u001b[1;32m     52\u001b[0m     \u001b[38;5;28;01mreturn\u001b[39;00m val\n\u001b[1;32m     53\u001b[0m \u001b[38;5;66;03m######print(jnp.round((n/2) + 1\u001b[39;00m\n\u001b[0;32m---> 54\u001b[0m \u001b[38;5;28;01mreturn\u001b[39;00m \u001b[43mjax\u001b[49m\u001b[38;5;241;43m.\u001b[39;49m\u001b[43mlax\u001b[49m\u001b[38;5;241;43m.\u001b[39;49m\u001b[43mfori_loop\u001b[49m\u001b[43m(\u001b[49m\u001b[43mjnp\u001b[49m\u001b[38;5;241;43m.\u001b[39;49m\u001b[43marray\u001b[49m\u001b[43m(\u001b[49m\u001b[38;5;241;43m0\u001b[39;49m\u001b[43m)\u001b[49m\u001b[38;5;241;43m.\u001b[39;49m\u001b[43mastype\u001b[49m\u001b[43m(\u001b[49m\u001b[38;5;28;43mint\u001b[39;49m\u001b[43m)\u001b[49m\u001b[43m,\u001b[49m\u001b[43mjnp\u001b[49m\u001b[38;5;241;43m.\u001b[39;49m\u001b[43mround\u001b[49m\u001b[43m(\u001b[49m\u001b[43m(\u001b[49m\u001b[43mn\u001b[49m\u001b[38;5;241;43m/\u001b[39;49m\u001b[38;5;241;43m2\u001b[39;49m\u001b[43m)\u001b[49m\u001b[43m \u001b[49m\u001b[38;5;241;43m+\u001b[39;49m\u001b[43m \u001b[49m\u001b[38;5;241;43m1\u001b[39;49m\u001b[43m)\u001b[49m\u001b[38;5;241;43m.\u001b[39;49m\u001b[43mastype\u001b[49m\u001b[43m(\u001b[49m\u001b[38;5;28;43mint\u001b[39;49m\u001b[43m)\u001b[49m\u001b[43m,\u001b[49m\u001b[43mbody_func\u001b[49m\u001b[43m,\u001b[49m\u001b[43m \u001b[49m\u001b[43mjnp\u001b[49m\u001b[38;5;241;43m.\u001b[39;49m\u001b[43marray\u001b[49m\u001b[43m(\u001b[49m\u001b[38;5;241;43m0\u001b[39;49m\u001b[43m)\u001b[49m\u001b[43m)\u001b[49m\n",
      "    \u001b[0;31m[... skipping hidden 12 frame]\u001b[0m\n",
      "Cell \u001b[0;32mIn[7], line 51\u001b[0m, in \u001b[0;36mBFE.jitted_ulstraspherical_polynomials.<locals>.body_func\u001b[0;34m(k_curr, val)\u001b[0m\n\u001b[1;32m     50\u001b[0m \u001b[38;5;28;01mdef\u001b[39;00m \u001b[38;5;21mbody_func\u001b[39m(k_curr,val):\n\u001b[0;32m---> 51\u001b[0m     val \u001b[38;5;241m+\u001b[39m\u001b[38;5;241m=\u001b[39m \u001b[43multraspherical_single_sum_element\u001b[49m(k_curr,x,n,lamb)\n\u001b[1;32m     52\u001b[0m     \u001b[38;5;28;01mreturn\u001b[39;00m val\n",
      "\u001b[0;31mNameError\u001b[0m: name 'ultraspherical_single_sum_element' is not defined"
     ]
    }
   ],
   "source": [
    "obj.jitted_ulstraspherical_polynomials(jnp.array([.4]),jnp.array([2]),jnp.array([2]))"
   ]
  },
  {
   "cell_type": "code",
   "execution_count": 530,
   "id": "80641847-5d5f-47a2-8481-d73e45d2ef52",
   "metadata": {},
   "outputs": [
    {
     "data": {
      "text/plain": [
       "(10, 3)"
      ]
     },
     "execution_count": 533,
     "metadata": {},
     "output_type": "execute_result"
    }
   ],
   "source": [
    "xyz.shape"
   ]
  },
  {
   "cell_type": "code",
   "execution_count": 531,
   "id": "df9f7b95-3df5-488f-b079-c761987aca36",
   "metadata": {},
   "outputs": [
    {
     "ename": "TypeError",
     "evalue": "body_fun output and input must have identical types, got\n('ShapedArray(int64[], weak_type=True)', 'ShapedArray(int64[])', 'DIFFERENT ShapedArray(float64[10]) vs. ShapedArray(float64[])').",
     "output_type": "error",
     "traceback": [
      "\u001b[0;31m---------------------------------------------------------------------------\u001b[0m",
      "\u001b[0;31mTypeError\u001b[0m                                 Traceback (most recent call last)",
      "\u001b[0;32m/var/folders/rq/9c89gb15479bjnxrpnmdf_p40000gn/T/ipykernel_70933/336746505.py\u001b[0m in \u001b[0;36m<module>\u001b[0;34m\u001b[0m\n\u001b[0;32m----> 1\u001b[0;31m \u001b[0mobj\u001b[0m\u001b[0;34m.\u001b[0m\u001b[0mphi_nl\u001b[0m\u001b[0;34m(\u001b[0m\u001b[0mjnp\u001b[0m\u001b[0;34m.\u001b[0m\u001b[0marray\u001b[0m\u001b[0;34m(\u001b[0m\u001b[0;36m2\u001b[0m\u001b[0;34m)\u001b[0m\u001b[0;34m,\u001b[0m\u001b[0mjnp\u001b[0m\u001b[0;34m.\u001b[0m\u001b[0marray\u001b[0m\u001b[0;34m(\u001b[0m\u001b[0;36m1\u001b[0m\u001b[0;34m)\u001b[0m\u001b[0;34m)\u001b[0m\u001b[0;34m\u001b[0m\u001b[0;34m\u001b[0m\u001b[0m\n\u001b[0m",
      "    \u001b[0;31m[... skipping hidden 12 frame]\u001b[0m\n",
      "\u001b[0;32m/var/folders/rq/9c89gb15479bjnxrpnmdf_p40000gn/T/ipykernel_70933/1548073298.py\u001b[0m in \u001b[0;36mphi_nl\u001b[0;34m(self, n, l)\u001b[0m\n\u001b[1;32m     64\u001b[0m     \u001b[0;32mdef\u001b[0m \u001b[0mphi_nl\u001b[0m\u001b[0;34m(\u001b[0m\u001b[0mself\u001b[0m\u001b[0;34m,\u001b[0m\u001b[0mn\u001b[0m\u001b[0;34m,\u001b[0m\u001b[0ml\u001b[0m\u001b[0;34m)\u001b[0m\u001b[0;34m:\u001b[0m\u001b[0;34m\u001b[0m\u001b[0;34m\u001b[0m\u001b[0m\n\u001b[1;32m     65\u001b[0m         \u001b[0mpsi\u001b[0m \u001b[0;34m=\u001b[0m \u001b[0;34m(\u001b[0m\u001b[0mself\u001b[0m\u001b[0;34m.\u001b[0m\u001b[0mr\u001b[0m\u001b[0;34m-\u001b[0m\u001b[0;36m1\u001b[0m\u001b[0;34m)\u001b[0m\u001b[0;34m/\u001b[0m\u001b[0;34m(\u001b[0m\u001b[0mself\u001b[0m\u001b[0;34m.\u001b[0m\u001b[0mr\u001b[0m\u001b[0;34m+\u001b[0m\u001b[0;36m1\u001b[0m\u001b[0;34m)\u001b[0m\u001b[0;34m\u001b[0m\u001b[0;34m\u001b[0m\u001b[0m\n\u001b[0;32m---> 66\u001b[0;31m         \u001b[0mprefac\u001b[0m \u001b[0;34m=\u001b[0m \u001b[0;34m-\u001b[0m\u001b[0;34m(\u001b[0m \u001b[0;34m(\u001b[0m\u001b[0mself\u001b[0m\u001b[0;34m.\u001b[0m\u001b[0mr\u001b[0m\u001b[0;34m**\u001b[0m\u001b[0ml\u001b[0m\u001b[0;34m)\u001b[0m \u001b[0;34m/\u001b[0m \u001b[0;34m(\u001b[0m\u001b[0;36m1\u001b[0m\u001b[0;34m+\u001b[0m\u001b[0mself\u001b[0m\u001b[0;34m.\u001b[0m\u001b[0mr\u001b[0m\u001b[0;34m)\u001b[0m\u001b[0;34m**\u001b[0m\u001b[0;34m(\u001b[0m\u001b[0;36m2\u001b[0m\u001b[0;34m*\u001b[0m\u001b[0ml\u001b[0m \u001b[0;34m+\u001b[0m\u001b[0;36m1\u001b[0m\u001b[0;34m)\u001b[0m\u001b[0;34m)\u001b[0m\u001b[0;34m*\u001b[0m\u001b[0mjitted_ulstraspherical_polynomials\u001b[0m\u001b[0;34m(\u001b[0m\u001b[0mpsi\u001b[0m\u001b[0;34m,\u001b[0m\u001b[0mn\u001b[0m\u001b[0;34m,\u001b[0m\u001b[0;36m2\u001b[0m\u001b[0;34m*\u001b[0m\u001b[0ml\u001b[0m \u001b[0;34m+\u001b[0m \u001b[0;34m(\u001b[0m\u001b[0;36m3\u001b[0m\u001b[0;34m/\u001b[0m\u001b[0;36m2\u001b[0m\u001b[0;34m)\u001b[0m\u001b[0;34m)\u001b[0m\u001b[0;34m\u001b[0m\u001b[0;34m\u001b[0m\u001b[0m\n\u001b[0m\u001b[1;32m     67\u001b[0m         \u001b[0;32mreturn\u001b[0m \u001b[0mjnp\u001b[0m\u001b[0;34m.\u001b[0m\u001b[0msqrt\u001b[0m\u001b[0;34m(\u001b[0m\u001b[0mjnp\u001b[0m\u001b[0;34m.\u001b[0m\u001b[0mpi\u001b[0m\u001b[0;34m*\u001b[0m\u001b[0;36m4\u001b[0m\u001b[0;34m)\u001b[0m\u001b[0;34m*\u001b[0m\u001b[0mprefac\u001b[0m\u001b[0;34m\u001b[0m\u001b[0;34m\u001b[0m\u001b[0m\n\u001b[1;32m     68\u001b[0m \u001b[0;34m\u001b[0m\u001b[0m\n",
      "    \u001b[0;31m[... skipping hidden 12 frame]\u001b[0m\n",
      "\u001b[0;32m/var/folders/rq/9c89gb15479bjnxrpnmdf_p40000gn/T/ipykernel_70933/2302552814.py\u001b[0m in \u001b[0;36mjitted_ulstraspherical_polynomials\u001b[0;34m(x, n, lamb)\u001b[0m\n\u001b[1;32m      7\u001b[0m         \u001b[0mval\u001b[0m \u001b[0;34m+=\u001b[0m \u001b[0multraspherical_single_sum_element\u001b[0m\u001b[0;34m(\u001b[0m\u001b[0mk_curr\u001b[0m\u001b[0;34m,\u001b[0m\u001b[0mx\u001b[0m\u001b[0;34m,\u001b[0m\u001b[0mn\u001b[0m\u001b[0;34m,\u001b[0m\u001b[0mlamb\u001b[0m\u001b[0;34m)\u001b[0m\u001b[0;34m\u001b[0m\u001b[0;34m\u001b[0m\u001b[0m\n\u001b[1;32m      8\u001b[0m         \u001b[0;32mreturn\u001b[0m \u001b[0mval\u001b[0m\u001b[0;34m\u001b[0m\u001b[0;34m\u001b[0m\u001b[0m\n\u001b[0;32m----> 9\u001b[0;31m     \u001b[0;32mreturn\u001b[0m \u001b[0mjax\u001b[0m\u001b[0;34m.\u001b[0m\u001b[0mlax\u001b[0m\u001b[0;34m.\u001b[0m\u001b[0mfori_loop\u001b[0m\u001b[0;34m(\u001b[0m\u001b[0;36m0\u001b[0m\u001b[0;34m,\u001b[0m\u001b[0mjnp\u001b[0m\u001b[0;34m.\u001b[0m\u001b[0mround\u001b[0m\u001b[0;34m(\u001b[0m\u001b[0;34m(\u001b[0m\u001b[0mn\u001b[0m\u001b[0;34m/\u001b[0m\u001b[0;36m2\u001b[0m\u001b[0;34m)\u001b[0m \u001b[0;34m+\u001b[0m \u001b[0;36m1\u001b[0m\u001b[0;34m)\u001b[0m\u001b[0;34m.\u001b[0m\u001b[0mastype\u001b[0m\u001b[0;34m(\u001b[0m\u001b[0mint\u001b[0m\u001b[0;34m)\u001b[0m\u001b[0;34m,\u001b[0m\u001b[0mbody_func\u001b[0m\u001b[0;34m,\u001b[0m \u001b[0;36m0.\u001b[0m\u001b[0;34m)\u001b[0m\u001b[0;34m\u001b[0m\u001b[0;34m\u001b[0m\u001b[0m\n\u001b[0m",
      "    \u001b[0;31m[... skipping hidden 4 frame]\u001b[0m\n",
      "\u001b[0;32m~/opt/anaconda3/envs/MachineLearnGravPotential/lib/python3.8/site-packages/jax/_src/lax/control_flow/common.py\u001b[0m in \u001b[0;36m_check_tree_and_avals\u001b[0;34m(what, tree1, avals1, tree2, avals2)\u001b[0m\n\u001b[1;32m    200\u001b[0m     diff = tree_map(_show_diff, tree_unflatten(tree1, avals1),\n\u001b[1;32m    201\u001b[0m                     tree_unflatten(tree2, avals2))\n\u001b[0;32m--> 202\u001b[0;31m     \u001b[0;32mraise\u001b[0m \u001b[0mTypeError\u001b[0m\u001b[0;34m(\u001b[0m\u001b[0;34mf\"{what} must have identical types, got\\n{diff}.\"\u001b[0m\u001b[0;34m)\u001b[0m\u001b[0;34m\u001b[0m\u001b[0;34m\u001b[0m\u001b[0m\n\u001b[0m\u001b[1;32m    203\u001b[0m \u001b[0;34m\u001b[0m\u001b[0m\n\u001b[1;32m    204\u001b[0m \u001b[0;32mdef\u001b[0m \u001b[0m_check_tree\u001b[0m\u001b[0;34m(\u001b[0m\u001b[0mfunc_name\u001b[0m\u001b[0;34m,\u001b[0m \u001b[0mexpected_name\u001b[0m\u001b[0;34m,\u001b[0m \u001b[0mactual_tree\u001b[0m\u001b[0;34m,\u001b[0m \u001b[0mexpected_tree\u001b[0m\u001b[0;34m,\u001b[0m \u001b[0mhas_aux\u001b[0m\u001b[0;34m=\u001b[0m\u001b[0;32mFalse\u001b[0m\u001b[0;34m)\u001b[0m\u001b[0;34m:\u001b[0m\u001b[0;34m\u001b[0m\u001b[0;34m\u001b[0m\u001b[0m\n",
      "\u001b[0;31mTypeError\u001b[0m: body_fun output and input must have identical types, got\n('ShapedArray(int64[], weak_type=True)', 'ShapedArray(int64[])', 'DIFFERENT ShapedArray(float64[10]) vs. ShapedArray(float64[])')."
     ]
    }
   ],
   "source": [
    "obj.phi_nl(jnp.array(2),jnp.array(1))"
   ]
  },
  {
   "cell_type": "code",
   "execution_count": 511,
   "id": "9760350a-e1e2-4c0c-ad78-4ae8655f6280",
   "metadata": {},
   "outputs": [
    {
     "data": {
      "text/plain": [
       "Array(-0.16666667, dtype=float64)"
      ]
     },
     "execution_count": 511,
     "metadata": {},
     "output_type": "execute_result"
    }
   ],
   "source": [
    "obj.ultraspherical_single_sum_element(jnp.array(3),jnp.array(.5),jnp.array([3]),4)"
   ]
  },
  {
   "cell_type": "code",
   "execution_count": null,
   "id": "fa563068-2926-4cdf-9666-042133d3aaaf",
   "metadata": {},
   "outputs": [],
   "source": [
    "obj.jitted_ulstraspherical_polynomials()"
   ]
  },
  {
   "cell_type": "code",
   "execution_count": 479,
   "id": "af557e00-0fb1-41d9-b725-c4934f8af2da",
   "metadata": {},
   "outputs": [
    {
     "data": {
      "text/plain": [
       "Array([0.20804196], dtype=float64)"
      ]
     },
     "execution_count": 479,
     "metadata": {},
     "output_type": "execute_result"
    }
   ],
   "source": [
    "obj.Atilde(jnp.array([3]),jnp.array([2]))"
   ]
  },
  {
   "cell_type": "code",
   "execution_count": 467,
   "id": "f334d044-8006-4f8c-bd6e-71a980cfa22b",
   "metadata": {},
   "outputs": [
    {
     "data": {
      "text/plain": [
       "Array([-0.38528563-0.2104825j], dtype=complex128)"
      ]
     },
     "execution_count": 467,
     "metadata": {},
     "output_type": "execute_result"
    }
   ],
   "source": [
    "obj.get_Ylm(jnp.array([3]),jnp.array([1]),jnp.array([.5]),.6)"
   ]
  },
  {
   "cell_type": "code",
   "execution_count": 471,
   "id": "5c7bd161-b6fe-4500-aefe-4dd6fae40f6b",
   "metadata": {},
   "outputs": [
    {
     "ename": "TypeError",
     "evalue": "cond_fun must return a boolean scalar, but got output type(s) [ShapedArray(bool[1])].",
     "output_type": "error",
     "traceback": [
      "\u001b[0;31m---------------------------------------------------------------------------\u001b[0m",
      "\u001b[0;31mTypeError\u001b[0m                                 Traceback (most recent call last)",
      "\u001b[0;32m/var/folders/rq/9c89gb15479bjnxrpnmdf_p40000gn/T/ipykernel_70933/1088356453.py\u001b[0m in \u001b[0;36m<module>\u001b[0;34m\u001b[0m\n\u001b[0;32m----> 1\u001b[0;31m \u001b[0mobj\u001b[0m\u001b[0;34m.\u001b[0m\u001b[0mfactorial\u001b[0m\u001b[0;34m(\u001b[0m\u001b[0mjnp\u001b[0m\u001b[0;34m.\u001b[0m\u001b[0marray\u001b[0m\u001b[0;34m(\u001b[0m\u001b[0;34m[\u001b[0m\u001b[0;36m4\u001b[0m\u001b[0;34m]\u001b[0m\u001b[0;34m)\u001b[0m\u001b[0;34m)\u001b[0m\u001b[0;34m\u001b[0m\u001b[0;34m\u001b[0m\u001b[0m\n\u001b[0m",
      "    \u001b[0;31m[... skipping hidden 12 frame]\u001b[0m\n",
      "\u001b[0;32m/var/folders/rq/9c89gb15479bjnxrpnmdf_p40000gn/T/ipykernel_70933/3843072645.py\u001b[0m in \u001b[0;36mfactorial\u001b[0;34m(self, n)\u001b[0m\n\u001b[1;32m     25\u001b[0m         \u001b[0;32mdef\u001b[0m \u001b[0mbody_func\u001b[0m\u001b[0;34m(\u001b[0m\u001b[0mi\u001b[0m\u001b[0;34m,\u001b[0m\u001b[0mcurr\u001b[0m\u001b[0;34m)\u001b[0m\u001b[0;34m:\u001b[0m\u001b[0;34m\u001b[0m\u001b[0;34m\u001b[0m\u001b[0m\n\u001b[1;32m     26\u001b[0m             \u001b[0;32mreturn\u001b[0m \u001b[0mcurr\u001b[0m\u001b[0;34m*\u001b[0m\u001b[0mi\u001b[0m\u001b[0;34m\u001b[0m\u001b[0;34m\u001b[0m\u001b[0m\n\u001b[0;32m---> 27\u001b[0;31m         \u001b[0;32mreturn\u001b[0m \u001b[0mjax\u001b[0m\u001b[0;34m.\u001b[0m\u001b[0mlax\u001b[0m\u001b[0;34m.\u001b[0m\u001b[0mfori_loop\u001b[0m\u001b[0;34m(\u001b[0m\u001b[0;36m1\u001b[0m\u001b[0;34m,\u001b[0m\u001b[0mn\u001b[0m\u001b[0;34m+\u001b[0m\u001b[0;36m1\u001b[0m\u001b[0;34m,\u001b[0m\u001b[0mbody_func\u001b[0m\u001b[0;34m,\u001b[0m\u001b[0mcurr\u001b[0m\u001b[0;34m)\u001b[0m\u001b[0;34m\u001b[0m\u001b[0;34m\u001b[0m\u001b[0m\n\u001b[0m\u001b[1;32m     28\u001b[0m \u001b[0;34m\u001b[0m\u001b[0m\n\u001b[1;32m     29\u001b[0m     \u001b[0;34m@\u001b[0m\u001b[0mpartial\u001b[0m\u001b[0;34m(\u001b[0m\u001b[0mjax\u001b[0m\u001b[0;34m.\u001b[0m\u001b[0mjit\u001b[0m\u001b[0;34m,\u001b[0m\u001b[0mstatic_argnums\u001b[0m\u001b[0;34m=\u001b[0m\u001b[0;34m(\u001b[0m\u001b[0;36m0\u001b[0m\u001b[0;34m,\u001b[0m\u001b[0;34m)\u001b[0m\u001b[0;34m)\u001b[0m\u001b[0;34m\u001b[0m\u001b[0;34m\u001b[0m\u001b[0m\n",
      "    \u001b[0;31m[... skipping hidden 4 frame]\u001b[0m\n",
      "\u001b[0;32m~/opt/anaconda3/envs/MachineLearnGravPotential/lib/python3.8/site-packages/jax/_src/lax/control_flow/loops.py\u001b[0m in \u001b[0;36m_create_jaxpr\u001b[0;34m(init_val)\u001b[0m\n\u001b[1;32m   1140\u001b[0m         or pred_aval.strip_weak_type().strip_named_shape() != ShapedArray((), np.bool_)):\n\u001b[1;32m   1141\u001b[0m       \u001b[0mmsg\u001b[0m \u001b[0;34m=\u001b[0m \u001b[0;34m\"cond_fun must return a boolean scalar, but got output type(s) {}.\"\u001b[0m\u001b[0;34m\u001b[0m\u001b[0;34m\u001b[0m\u001b[0m\n\u001b[0;32m-> 1142\u001b[0;31m       \u001b[0;32mraise\u001b[0m \u001b[0mTypeError\u001b[0m\u001b[0;34m(\u001b[0m\u001b[0mmsg\u001b[0m\u001b[0;34m.\u001b[0m\u001b[0mformat\u001b[0m\u001b[0;34m(\u001b[0m\u001b[0mcond_jaxpr\u001b[0m\u001b[0;34m.\u001b[0m\u001b[0mout_avals\u001b[0m\u001b[0;34m)\u001b[0m\u001b[0;34m)\u001b[0m\u001b[0;34m\u001b[0m\u001b[0;34m\u001b[0m\u001b[0m\n\u001b[0m\u001b[1;32m   1143\u001b[0m     \u001b[0;32mreturn\u001b[0m \u001b[0minit_vals\u001b[0m\u001b[0;34m,\u001b[0m \u001b[0minit_avals\u001b[0m\u001b[0;34m,\u001b[0m \u001b[0mbody_jaxpr\u001b[0m\u001b[0;34m,\u001b[0m \u001b[0min_tree\u001b[0m\u001b[0;34m,\u001b[0m \u001b[0mcond_jaxpr\u001b[0m\u001b[0;34m,\u001b[0m \u001b[0mcond_consts\u001b[0m\u001b[0;34m,\u001b[0m \u001b[0mbody_consts\u001b[0m\u001b[0;34m,\u001b[0m \u001b[0mbody_tree\u001b[0m\u001b[0;34m\u001b[0m\u001b[0;34m\u001b[0m\u001b[0m\n\u001b[1;32m   1144\u001b[0m \u001b[0;34m\u001b[0m\u001b[0m\n",
      "\u001b[0;31mTypeError\u001b[0m: cond_fun must return a boolean scalar, but got output type(s) [ShapedArray(bool[1])]."
     ]
    }
   ],
   "source": [
    "obj.factorial(jnp.array([4]))"
   ]
  },
  {
   "cell_type": "code",
   "execution_count": 488,
   "id": "940f6f83-8fe3-4c7e-be43-c32adffb241a",
   "metadata": {},
   "outputs": [
    {
     "ename": "TypeError",
     "evalue": "cond_fun must return a boolean scalar, but got output type(s) [ShapedArray(bool[1])].",
     "output_type": "error",
     "traceback": [
      "\u001b[0;31m---------------------------------------------------------------------------\u001b[0m",
      "\u001b[0;31mTypeError\u001b[0m                                 Traceback (most recent call last)",
      "\u001b[0;32m/var/folders/rq/9c89gb15479bjnxrpnmdf_p40000gn/T/ipykernel_70933/742789852.py\u001b[0m in \u001b[0;36m<module>\u001b[0;34m\u001b[0m\n\u001b[0;32m----> 1\u001b[0;31m \u001b[0mobj\u001b[0m\u001b[0;34m.\u001b[0m\u001b[0mSnlm_single\u001b[0m\u001b[0;34m(\u001b[0m \u001b[0mjnp\u001b[0m\u001b[0;34m.\u001b[0m\u001b[0marray\u001b[0m\u001b[0;34m(\u001b[0m\u001b[0;34m[\u001b[0m\u001b[0;36m3\u001b[0m\u001b[0;34m]\u001b[0m\u001b[0;34m)\u001b[0m\u001b[0;34m,\u001b[0m\u001b[0mjnp\u001b[0m\u001b[0;34m.\u001b[0m\u001b[0marray\u001b[0m\u001b[0;34m(\u001b[0m\u001b[0;34m[\u001b[0m\u001b[0;36m1\u001b[0m\u001b[0;34m]\u001b[0m\u001b[0;34m)\u001b[0m\u001b[0;34m,\u001b[0m \u001b[0mjnp\u001b[0m\u001b[0;34m.\u001b[0m\u001b[0marray\u001b[0m\u001b[0;34m(\u001b[0m\u001b[0;34m[\u001b[0m\u001b[0;36m2\u001b[0m\u001b[0;34m]\u001b[0m\u001b[0;34m)\u001b[0m\u001b[0;34m)\u001b[0m\u001b[0;34m\u001b[0m\u001b[0;34m\u001b[0m\u001b[0m\n\u001b[0m",
      "    \u001b[0;31m[... skipping hidden 12 frame]\u001b[0m\n",
      "\u001b[0;32m/var/folders/rq/9c89gb15479bjnxrpnmdf_p40000gn/T/ipykernel_70933/3768874559.py\u001b[0m in \u001b[0;36mSnlm_single\u001b[0;34m(self, n, l, m)\u001b[0m\n\u001b[1;32m     86\u001b[0m     \u001b[0;34m@\u001b[0m\u001b[0mpartial\u001b[0m\u001b[0;34m(\u001b[0m\u001b[0mjax\u001b[0m\u001b[0;34m.\u001b[0m\u001b[0mjit\u001b[0m\u001b[0;34m,\u001b[0m\u001b[0mstatic_argnums\u001b[0m\u001b[0;34m=\u001b[0m\u001b[0;34m(\u001b[0m\u001b[0;36m0\u001b[0m\u001b[0;34m,\u001b[0m\u001b[0;34m)\u001b[0m\u001b[0;34m)\u001b[0m\u001b[0;34m\u001b[0m\u001b[0;34m\u001b[0m\u001b[0m\n\u001b[1;32m     87\u001b[0m     \u001b[0;32mdef\u001b[0m \u001b[0mSnlm_single\u001b[0m\u001b[0;34m(\u001b[0m\u001b[0mself\u001b[0m\u001b[0;34m,\u001b[0m \u001b[0mn\u001b[0m\u001b[0;34m,\u001b[0m \u001b[0ml\u001b[0m\u001b[0;34m,\u001b[0m \u001b[0mm\u001b[0m\u001b[0;34m)\u001b[0m\u001b[0;34m:\u001b[0m\u001b[0;34m\u001b[0m\u001b[0;34m\u001b[0m\u001b[0m\n\u001b[0;32m---> 88\u001b[0;31m         \u001b[0;32mreturn\u001b[0m \u001b[0mself\u001b[0m\u001b[0;34m.\u001b[0m\u001b[0mAtilde\u001b[0m\u001b[0;34m(\u001b[0m\u001b[0mn\u001b[0m\u001b[0;34m,\u001b[0m\u001b[0ml\u001b[0m\u001b[0;34m)\u001b[0m\u001b[0;34m*\u001b[0m\u001b[0mself\u001b[0m\u001b[0;34m.\u001b[0m\u001b[0mmass\u001b[0m\u001b[0;34m*\u001b[0m\u001b[0mself\u001b[0m\u001b[0;34m.\u001b[0m\u001b[0mphi_nl\u001b[0m\u001b[0;34m(\u001b[0m\u001b[0mn\u001b[0m\u001b[0;34m,\u001b[0m\u001b[0ml\u001b[0m\u001b[0;34m,\u001b[0m\u001b[0mself\u001b[0m\u001b[0;34m.\u001b[0m\u001b[0mr\u001b[0m\u001b[0;34m)\u001b[0m\u001b[0;34m*\u001b[0m\u001b[0mself\u001b[0m\u001b[0;34m.\u001b[0m\u001b[0mget_Ylm\u001b[0m\u001b[0;34m(\u001b[0m\u001b[0ml\u001b[0m\u001b[0;34m,\u001b[0m\u001b[0mm\u001b[0m\u001b[0;34m,\u001b[0m\u001b[0mself\u001b[0m\u001b[0;34m.\u001b[0m\u001b[0mtheta\u001b[0m\u001b[0;34m,\u001b[0m\u001b[0mself\u001b[0m\u001b[0;34m.\u001b[0m\u001b[0mphi\u001b[0m\u001b[0;34m)\u001b[0m\u001b[0;34m*\u001b[0m\u001b[0mjnp\u001b[0m\u001b[0;34m.\u001b[0m\u001b[0mcos\u001b[0m\u001b[0;34m(\u001b[0m\u001b[0mm\u001b[0m\u001b[0;34m*\u001b[0m\u001b[0mself\u001b[0m\u001b[0;34m.\u001b[0m\u001b[0mphi\u001b[0m\u001b[0;34m)\u001b[0m\u001b[0;34m\u001b[0m\u001b[0;34m\u001b[0m\u001b[0m\n\u001b[0m\u001b[1;32m     89\u001b[0m \u001b[0;34m\u001b[0m\u001b[0m\n\u001b[1;32m     90\u001b[0m     \u001b[0;34m@\u001b[0m\u001b[0mpartial\u001b[0m\u001b[0;34m(\u001b[0m\u001b[0mjax\u001b[0m\u001b[0;34m.\u001b[0m\u001b[0mjit\u001b[0m\u001b[0;34m,\u001b[0m\u001b[0mstatic_argnums\u001b[0m\u001b[0;34m=\u001b[0m\u001b[0;34m(\u001b[0m\u001b[0;36m0\u001b[0m\u001b[0;34m,\u001b[0m\u001b[0;34m)\u001b[0m\u001b[0;34m)\u001b[0m\u001b[0;34m\u001b[0m\u001b[0;34m\u001b[0m\u001b[0m\n",
      "    \u001b[0;31m[... skipping hidden 12 frame]\u001b[0m\n",
      "\u001b[0;32m/var/folders/rq/9c89gb15479bjnxrpnmdf_p40000gn/T/ipykernel_70933/3768874559.py\u001b[0m in \u001b[0;36mphi_nl\u001b[0;34m(self, n, l, r)\u001b[0m\n\u001b[1;32m     64\u001b[0m     \u001b[0;32mdef\u001b[0m \u001b[0mphi_nl\u001b[0m\u001b[0;34m(\u001b[0m\u001b[0mself\u001b[0m\u001b[0;34m,\u001b[0m\u001b[0mn\u001b[0m\u001b[0;34m,\u001b[0m\u001b[0ml\u001b[0m\u001b[0;34m,\u001b[0m\u001b[0mr\u001b[0m\u001b[0;34m)\u001b[0m\u001b[0;34m:\u001b[0m\u001b[0;34m\u001b[0m\u001b[0;34m\u001b[0m\u001b[0m\n\u001b[1;32m     65\u001b[0m         \u001b[0mpsi\u001b[0m \u001b[0;34m=\u001b[0m \u001b[0;34m(\u001b[0m\u001b[0mr\u001b[0m\u001b[0;34m-\u001b[0m\u001b[0;36m1\u001b[0m\u001b[0;34m)\u001b[0m\u001b[0;34m/\u001b[0m\u001b[0;34m(\u001b[0m\u001b[0mr\u001b[0m\u001b[0;34m+\u001b[0m\u001b[0;36m1\u001b[0m\u001b[0;34m)\u001b[0m\u001b[0;34m\u001b[0m\u001b[0;34m\u001b[0m\u001b[0m\n\u001b[0;32m---> 66\u001b[0;31m         \u001b[0mprefac\u001b[0m \u001b[0;34m=\u001b[0m \u001b[0;34m-\u001b[0m\u001b[0;34m(\u001b[0m \u001b[0;34m(\u001b[0m\u001b[0mr\u001b[0m\u001b[0;34m**\u001b[0m\u001b[0ml\u001b[0m\u001b[0;34m)\u001b[0m \u001b[0;34m/\u001b[0m \u001b[0;34m(\u001b[0m\u001b[0;36m1\u001b[0m\u001b[0;34m+\u001b[0m\u001b[0mr\u001b[0m\u001b[0;34m)\u001b[0m\u001b[0;34m**\u001b[0m\u001b[0;34m(\u001b[0m\u001b[0;36m2\u001b[0m\u001b[0;34m*\u001b[0m\u001b[0ml\u001b[0m \u001b[0;34m+\u001b[0m\u001b[0;36m1\u001b[0m\u001b[0;34m)\u001b[0m\u001b[0;34m)\u001b[0m\u001b[0;34m*\u001b[0m\u001b[0mjitted_ulstraspherical_polynomials\u001b[0m\u001b[0;34m(\u001b[0m\u001b[0mpsi\u001b[0m\u001b[0;34m,\u001b[0m\u001b[0mn\u001b[0m\u001b[0;34m,\u001b[0m\u001b[0;36m2\u001b[0m\u001b[0;34m*\u001b[0m\u001b[0ml\u001b[0m \u001b[0;34m+\u001b[0m \u001b[0;34m(\u001b[0m\u001b[0;36m3\u001b[0m\u001b[0;34m/\u001b[0m\u001b[0;36m2\u001b[0m\u001b[0;34m)\u001b[0m\u001b[0;34m)\u001b[0m\u001b[0;34m\u001b[0m\u001b[0;34m\u001b[0m\u001b[0m\n\u001b[0m\u001b[1;32m     67\u001b[0m         \u001b[0;32mreturn\u001b[0m \u001b[0mjnp\u001b[0m\u001b[0;34m.\u001b[0m\u001b[0msqrt\u001b[0m\u001b[0;34m(\u001b[0m\u001b[0mjnp\u001b[0m\u001b[0;34m.\u001b[0m\u001b[0mpi\u001b[0m\u001b[0;34m*\u001b[0m\u001b[0;36m4\u001b[0m\u001b[0;34m)\u001b[0m\u001b[0;34m*\u001b[0m\u001b[0mprefac\u001b[0m\u001b[0;34m\u001b[0m\u001b[0;34m\u001b[0m\u001b[0m\n\u001b[1;32m     68\u001b[0m \u001b[0;34m\u001b[0m\u001b[0m\n",
      "    \u001b[0;31m[... skipping hidden 12 frame]\u001b[0m\n",
      "\u001b[0;32m/var/folders/rq/9c89gb15479bjnxrpnmdf_p40000gn/T/ipykernel_70933/2302552814.py\u001b[0m in \u001b[0;36mjitted_ulstraspherical_polynomials\u001b[0;34m(x, n, lamb)\u001b[0m\n\u001b[1;32m      7\u001b[0m         \u001b[0mval\u001b[0m \u001b[0;34m+=\u001b[0m \u001b[0multraspherical_single_sum_element\u001b[0m\u001b[0;34m(\u001b[0m\u001b[0mk_curr\u001b[0m\u001b[0;34m,\u001b[0m\u001b[0mx\u001b[0m\u001b[0;34m,\u001b[0m\u001b[0mn\u001b[0m\u001b[0;34m,\u001b[0m\u001b[0mlamb\u001b[0m\u001b[0;34m)\u001b[0m\u001b[0;34m\u001b[0m\u001b[0;34m\u001b[0m\u001b[0m\n\u001b[1;32m      8\u001b[0m         \u001b[0;32mreturn\u001b[0m \u001b[0mval\u001b[0m\u001b[0;34m\u001b[0m\u001b[0;34m\u001b[0m\u001b[0m\n\u001b[0;32m----> 9\u001b[0;31m     \u001b[0;32mreturn\u001b[0m \u001b[0mjax\u001b[0m\u001b[0;34m.\u001b[0m\u001b[0mlax\u001b[0m\u001b[0;34m.\u001b[0m\u001b[0mfori_loop\u001b[0m\u001b[0;34m(\u001b[0m\u001b[0;36m0\u001b[0m\u001b[0;34m,\u001b[0m\u001b[0mjnp\u001b[0m\u001b[0;34m.\u001b[0m\u001b[0mround\u001b[0m\u001b[0;34m(\u001b[0m\u001b[0;34m(\u001b[0m\u001b[0mn\u001b[0m\u001b[0;34m/\u001b[0m\u001b[0;36m2\u001b[0m\u001b[0;34m)\u001b[0m \u001b[0;34m+\u001b[0m \u001b[0;36m1\u001b[0m\u001b[0;34m)\u001b[0m\u001b[0;34m.\u001b[0m\u001b[0mastype\u001b[0m\u001b[0;34m(\u001b[0m\u001b[0mint\u001b[0m\u001b[0;34m)\u001b[0m\u001b[0;34m,\u001b[0m\u001b[0mbody_func\u001b[0m\u001b[0;34m,\u001b[0m \u001b[0;36m0.\u001b[0m\u001b[0;34m)\u001b[0m\u001b[0;34m\u001b[0m\u001b[0;34m\u001b[0m\u001b[0m\n\u001b[0m",
      "    \u001b[0;31m[... skipping hidden 12 frame]\u001b[0m\n",
      "\u001b[0;32m/var/folders/rq/9c89gb15479bjnxrpnmdf_p40000gn/T/ipykernel_70933/2302552814.py\u001b[0m in \u001b[0;36mbody_func\u001b[0;34m(k_curr, val)\u001b[0m\n\u001b[1;32m      5\u001b[0m \u001b[0;34m\u001b[0m\u001b[0m\n\u001b[1;32m      6\u001b[0m     \u001b[0;32mdef\u001b[0m \u001b[0mbody_func\u001b[0m\u001b[0;34m(\u001b[0m\u001b[0mk_curr\u001b[0m\u001b[0;34m,\u001b[0m\u001b[0mval\u001b[0m\u001b[0;34m)\u001b[0m\u001b[0;34m:\u001b[0m\u001b[0;34m\u001b[0m\u001b[0;34m\u001b[0m\u001b[0m\n\u001b[0;32m----> 7\u001b[0;31m         \u001b[0mval\u001b[0m \u001b[0;34m+=\u001b[0m \u001b[0multraspherical_single_sum_element\u001b[0m\u001b[0;34m(\u001b[0m\u001b[0mk_curr\u001b[0m\u001b[0;34m,\u001b[0m\u001b[0mx\u001b[0m\u001b[0;34m,\u001b[0m\u001b[0mn\u001b[0m\u001b[0;34m,\u001b[0m\u001b[0mlamb\u001b[0m\u001b[0;34m)\u001b[0m\u001b[0;34m\u001b[0m\u001b[0;34m\u001b[0m\u001b[0m\n\u001b[0m\u001b[1;32m      8\u001b[0m         \u001b[0;32mreturn\u001b[0m \u001b[0mval\u001b[0m\u001b[0;34m\u001b[0m\u001b[0;34m\u001b[0m\u001b[0m\n\u001b[1;32m      9\u001b[0m     \u001b[0;32mreturn\u001b[0m \u001b[0mjax\u001b[0m\u001b[0;34m.\u001b[0m\u001b[0mlax\u001b[0m\u001b[0;34m.\u001b[0m\u001b[0mfori_loop\u001b[0m\u001b[0;34m(\u001b[0m\u001b[0;36m0\u001b[0m\u001b[0;34m,\u001b[0m\u001b[0mjnp\u001b[0m\u001b[0;34m.\u001b[0m\u001b[0mround\u001b[0m\u001b[0;34m(\u001b[0m\u001b[0;34m(\u001b[0m\u001b[0mn\u001b[0m\u001b[0;34m/\u001b[0m\u001b[0;36m2\u001b[0m\u001b[0;34m)\u001b[0m \u001b[0;34m+\u001b[0m \u001b[0;36m1\u001b[0m\u001b[0;34m)\u001b[0m\u001b[0;34m.\u001b[0m\u001b[0mastype\u001b[0m\u001b[0;34m(\u001b[0m\u001b[0mint\u001b[0m\u001b[0;34m)\u001b[0m\u001b[0;34m,\u001b[0m\u001b[0mbody_func\u001b[0m\u001b[0;34m,\u001b[0m \u001b[0;36m0.\u001b[0m\u001b[0;34m)\u001b[0m\u001b[0;34m\u001b[0m\u001b[0;34m\u001b[0m\u001b[0m\n",
      "    \u001b[0;31m[... skipping hidden 12 frame]\u001b[0m\n",
      "\u001b[0;32m/var/folders/rq/9c89gb15479bjnxrpnmdf_p40000gn/T/ipykernel_70933/347525890.py\u001b[0m in \u001b[0;36multraspherical_single_sum_element\u001b[0;34m(k, x, n, lamb)\u001b[0m\n\u001b[1;32m     15\u001b[0m     \u001b[0mhttps\u001b[0m\u001b[0;34m:\u001b[0m\u001b[0;34m//\u001b[0m\u001b[0men\u001b[0m\u001b[0;34m.\u001b[0m\u001b[0mwikipedia\u001b[0m\u001b[0;34m.\u001b[0m\u001b[0morg\u001b[0m\u001b[0;34m/\u001b[0m\u001b[0mwiki\u001b[0m\u001b[0;34m/\u001b[0m\u001b[0mGegenbauer_polynomials\u001b[0m\u001b[0;34m\u001b[0m\u001b[0;34m\u001b[0m\u001b[0m\n\u001b[1;32m     16\u001b[0m     \"\"\"\n\u001b[0;32m---> 17\u001b[0;31m     \u001b[0mprefac\u001b[0m \u001b[0;34m=\u001b[0m \u001b[0;34m(\u001b[0m\u001b[0;34m(\u001b[0m\u001b[0;34m-\u001b[0m\u001b[0;36m1\u001b[0m\u001b[0;34m)\u001b[0m\u001b[0;34m**\u001b[0m\u001b[0mk\u001b[0m\u001b[0;34m)\u001b[0m\u001b[0;34m*\u001b[0m\u001b[0mjnp\u001b[0m\u001b[0;34m.\u001b[0m\u001b[0mexp\u001b[0m\u001b[0;34m(\u001b[0m \u001b[0mgammaln\u001b[0m\u001b[0;34m(\u001b[0m\u001b[0mn\u001b[0m \u001b[0;34m-\u001b[0m \u001b[0mk\u001b[0m \u001b[0;34m+\u001b[0m \u001b[0mlamb\u001b[0m\u001b[0;34m)\u001b[0m \u001b[0;34m-\u001b[0m \u001b[0mgammaln\u001b[0m\u001b[0;34m(\u001b[0m\u001b[0mlamb\u001b[0m\u001b[0;34m)\u001b[0m \u001b[0;34m-\u001b[0m \u001b[0mjnp\u001b[0m\u001b[0;34m.\u001b[0m\u001b[0mlog\u001b[0m\u001b[0;34m(\u001b[0m\u001b[0mfactorial\u001b[0m\u001b[0;34m(\u001b[0m\u001b[0mk\u001b[0m\u001b[0;34m)\u001b[0m\u001b[0;34m)\u001b[0m \u001b[0;34m-\u001b[0m \u001b[0mjnp\u001b[0m\u001b[0;34m.\u001b[0m\u001b[0mlog\u001b[0m\u001b[0;34m(\u001b[0m\u001b[0mfactorial\u001b[0m\u001b[0;34m(\u001b[0m\u001b[0mn\u001b[0m\u001b[0;34m-\u001b[0m\u001b[0;36m2\u001b[0m\u001b[0;34m*\u001b[0m\u001b[0mk\u001b[0m\u001b[0;34m)\u001b[0m\u001b[0;34m)\u001b[0m\u001b[0;34m)\u001b[0m\u001b[0;34m\u001b[0m\u001b[0;34m\u001b[0m\u001b[0m\n\u001b[0m\u001b[1;32m     18\u001b[0m     \u001b[0;32mreturn\u001b[0m \u001b[0mprefac\u001b[0m\u001b[0;34m*\u001b[0m\u001b[0;34m(\u001b[0m\u001b[0;34m(\u001b[0m\u001b[0;36m2\u001b[0m\u001b[0;34m*\u001b[0m\u001b[0mx\u001b[0m\u001b[0;34m)\u001b[0m\u001b[0;34m**\u001b[0m\u001b[0;34m(\u001b[0m\u001b[0mn\u001b[0m\u001b[0;34m-\u001b[0m\u001b[0;36m2\u001b[0m\u001b[0;34m*\u001b[0m\u001b[0mk\u001b[0m\u001b[0;34m)\u001b[0m\u001b[0;34m)\u001b[0m\u001b[0;34m\u001b[0m\u001b[0;34m\u001b[0m\u001b[0m\n\u001b[1;32m     19\u001b[0m \u001b[0;34m@\u001b[0m\u001b[0mjax\u001b[0m\u001b[0;34m.\u001b[0m\u001b[0mjit\u001b[0m\u001b[0;34m\u001b[0m\u001b[0;34m\u001b[0m\u001b[0m\n",
      "    \u001b[0;31m[... skipping hidden 12 frame]\u001b[0m\n",
      "\u001b[0;32m/var/folders/rq/9c89gb15479bjnxrpnmdf_p40000gn/T/ipykernel_70933/3905814452.py\u001b[0m in \u001b[0;36mfactorial\u001b[0;34m(n)\u001b[0m\n\u001b[1;32m      8\u001b[0m     \u001b[0;32mdef\u001b[0m \u001b[0mbody_func\u001b[0m\u001b[0;34m(\u001b[0m\u001b[0mi\u001b[0m\u001b[0;34m,\u001b[0m\u001b[0mcurr\u001b[0m\u001b[0;34m)\u001b[0m\u001b[0;34m:\u001b[0m\u001b[0;34m\u001b[0m\u001b[0;34m\u001b[0m\u001b[0m\n\u001b[1;32m      9\u001b[0m         \u001b[0;32mreturn\u001b[0m \u001b[0mcurr\u001b[0m\u001b[0;34m*\u001b[0m\u001b[0mi\u001b[0m\u001b[0;34m\u001b[0m\u001b[0;34m\u001b[0m\u001b[0m\n\u001b[0;32m---> 10\u001b[0;31m     \u001b[0;32mreturn\u001b[0m \u001b[0mjax\u001b[0m\u001b[0;34m.\u001b[0m\u001b[0mlax\u001b[0m\u001b[0;34m.\u001b[0m\u001b[0mfori_loop\u001b[0m\u001b[0;34m(\u001b[0m\u001b[0;36m1\u001b[0m\u001b[0;34m,\u001b[0m\u001b[0mn\u001b[0m\u001b[0;34m+\u001b[0m\u001b[0;36m1\u001b[0m\u001b[0;34m,\u001b[0m\u001b[0mbody_func\u001b[0m\u001b[0;34m,\u001b[0m\u001b[0mcurr\u001b[0m\u001b[0;34m)\u001b[0m\u001b[0;34m\u001b[0m\u001b[0;34m\u001b[0m\u001b[0m\n\u001b[0m\u001b[1;32m     11\u001b[0m \u001b[0mfactorial\u001b[0m\u001b[0;34m(\u001b[0m\u001b[0;36m11\u001b[0m\u001b[0;34m)\u001b[0m\u001b[0;34m\u001b[0m\u001b[0;34m\u001b[0m\u001b[0m\n",
      "    \u001b[0;31m[... skipping hidden 4 frame]\u001b[0m\n",
      "\u001b[0;32m~/opt/anaconda3/envs/MachineLearnGravPotential/lib/python3.8/site-packages/jax/_src/lax/control_flow/loops.py\u001b[0m in \u001b[0;36m_create_jaxpr\u001b[0;34m(init_val)\u001b[0m\n\u001b[1;32m   1140\u001b[0m         or pred_aval.strip_weak_type().strip_named_shape() != ShapedArray((), np.bool_)):\n\u001b[1;32m   1141\u001b[0m       \u001b[0mmsg\u001b[0m \u001b[0;34m=\u001b[0m \u001b[0;34m\"cond_fun must return a boolean scalar, but got output type(s) {}.\"\u001b[0m\u001b[0;34m\u001b[0m\u001b[0;34m\u001b[0m\u001b[0m\n\u001b[0;32m-> 1142\u001b[0;31m       \u001b[0;32mraise\u001b[0m \u001b[0mTypeError\u001b[0m\u001b[0;34m(\u001b[0m\u001b[0mmsg\u001b[0m\u001b[0;34m.\u001b[0m\u001b[0mformat\u001b[0m\u001b[0;34m(\u001b[0m\u001b[0mcond_jaxpr\u001b[0m\u001b[0;34m.\u001b[0m\u001b[0mout_avals\u001b[0m\u001b[0;34m)\u001b[0m\u001b[0;34m)\u001b[0m\u001b[0;34m\u001b[0m\u001b[0;34m\u001b[0m\u001b[0m\n\u001b[0m\u001b[1;32m   1143\u001b[0m     \u001b[0;32mreturn\u001b[0m \u001b[0minit_vals\u001b[0m\u001b[0;34m,\u001b[0m \u001b[0minit_avals\u001b[0m\u001b[0;34m,\u001b[0m \u001b[0mbody_jaxpr\u001b[0m\u001b[0;34m,\u001b[0m \u001b[0min_tree\u001b[0m\u001b[0;34m,\u001b[0m \u001b[0mcond_jaxpr\u001b[0m\u001b[0;34m,\u001b[0m \u001b[0mcond_consts\u001b[0m\u001b[0;34m,\u001b[0m \u001b[0mbody_consts\u001b[0m\u001b[0;34m,\u001b[0m \u001b[0mbody_tree\u001b[0m\u001b[0;34m\u001b[0m\u001b[0;34m\u001b[0m\u001b[0m\n\u001b[1;32m   1144\u001b[0m \u001b[0;34m\u001b[0m\u001b[0m\n",
      "\u001b[0;31mTypeError\u001b[0m: cond_fun must return a boolean scalar, but got output type(s) [ShapedArray(bool[1])]."
     ]
    }
   ],
   "source": [
    "obj.Snlm_single( jnp.array([3]),jnp.array([1]), jnp.array([2]))"
   ]
  },
  {
   "cell_type": "code",
   "execution_count": 434,
   "id": "ad4519bd-94b0-494c-8203-d0f426865a31",
   "metadata": {},
   "outputs": [
    {
     "data": {
      "text/plain": [
       "Array(40320., dtype=float64, weak_type=True)"
      ]
     },
     "execution_count": 434,
     "metadata": {},
     "output_type": "execute_result"
    }
   ],
   "source": [
    "obj.factorial(jnp.array(8).astype( int ))"
   ]
  },
  {
   "cell_type": "code",
   "execution_count": 401,
   "id": "94612cd3-5aef-4fb3-ba49-017635ab6091",
   "metadata": {},
   "outputs": [
    {
     "data": {
      "text/plain": [
       "Array(-0.1301625, dtype=float64, weak_type=True)"
      ]
     },
     "execution_count": 401,
     "metadata": {},
     "output_type": "execute_result"
    }
   ],
   "source": [
    "jitted_ulstraspherical_polynomials(.5,4,.3)"
   ]
  },
  {
   "cell_type": "code",
   "execution_count": 372,
   "id": "d736242a-1fce-4385-9b01-e453cb85eef5",
   "metadata": {},
   "outputs": [
    {
     "data": {
      "text/plain": [
       "Array(42, dtype=int64, weak_type=True)"
      ]
     },
     "execution_count": 372,
     "metadata": {},
     "output_type": "execute_result"
    }
   ],
   "source": [
    "@jax.jit\n",
    "def loop_it(n):\n",
    "    def body_func(i,val_curr):\n",
    "        val_curr = val_curr**2 + val_curr\n",
    "        return val_curr\n",
    "    #for i in range(jnp.round(n/2)):\n",
    "    #    a = i**2\n",
    "    return jax.lax.fori_loop(0,n,body_func, 1)\n",
    "loop_it(3)"
   ]
  },
  {
   "cell_type": "code",
   "execution_count": 390,
   "id": "ea0c07d1-3a39-435e-8157-b06e799c578a",
   "metadata": {},
   "outputs": [
    {
     "data": {
      "text/plain": [
       "Array(1546290754668463142, dtype=int64, weak_type=True)"
      ]
     },
     "execution_count": 390,
     "metadata": {},
     "output_type": "execute_result"
    }
   ],
   "source": [
    "loop_it(10)"
   ]
  },
  {
   "cell_type": "code",
   "execution_count": 2,
   "id": "b284a02f-09dd-4f35-acc9-8296ba3a7dee",
   "metadata": {},
   "outputs": [
    {
     "data": {
      "text/plain": [
       "Array(39916800., dtype=float64, weak_type=True)"
      ]
     },
     "execution_count": 2,
     "metadata": {},
     "output_type": "execute_result"
    }
   ],
   "source": [
    "@jax.jit\n",
    "def factorial(n):\n",
    "    \"\"\"\n",
    "    factorial helper function.\n",
    "    n MUST be int, not float!\n",
    "    \"\"\"\n",
    "    curr = 1.0\n",
    "    def body_func(i,curr):\n",
    "        return curr*i\n",
    "    return jax.lax.fori_loop(1,n+1,body_func,curr)\n",
    "factorial(11)"
   ]
  },
  {
   "cell_type": "code",
   "execution_count": 3,
   "id": "739aeab1-780b-4b4c-80e8-e4173b74fded",
   "metadata": {},
   "outputs": [
    {
     "data": {
      "text/plain": [
       "120.0"
      ]
     },
     "execution_count": 3,
     "metadata": {},
     "output_type": "execute_result"
    }
   ],
   "source": [
    "factorial_true(5)"
   ]
  },
  {
   "cell_type": "code",
   "execution_count": 75,
   "id": "dfd1bca2-4f07-4521-801c-5fbc650945fe",
   "metadata": {},
   "outputs": [],
   "source": [
    "def nth_derivative(func, n, *args):\n",
    "    for _ in range(n):\n",
    "        func = jax.grad(func)\n",
    "    return func(*args)\n",
    "   "
   ]
  },
  {
   "cell_type": "code",
   "execution_count": 337,
   "id": "07d3edd7-6940-4c76-b1bf-3e2febb2b72c",
   "metadata": {},
   "outputs": [],
   "source": [
    "@jax.jit\n",
    "def ultraspherical_deriv_arg(x,n,lamb):\n",
    "    return (1-x**2)**(n + lamb - 0.5)\n",
    "    \n",
    "\n",
    "def ulstraspherical_polynomials_old(x,n,lamb):\n",
    "    num_fac1 = jnp.exp( gammaln(n+lamb) + gammaln(n+2*lamb) )*((-2.0)**n)*(1-x**2)**(-lamb + 0.5)\n",
    "    n_fac = factorial(n)\n",
    "    denom_fac1 = n_fac*jnp.exp( gammaln(lamb) + gammaln(2*n + 2*lamb) )\n",
    "    nth_deriv_eval = nth_derivative(ultraspherical_deriv_arg, n, x, n, lamb)\n",
    "    return num_fac1*nth_deriv_eval / (denom_fac1)\n",
    "@jax.jit\n",
    "def ultraspherical_single_sum_element(k,x,n,lamb):\n",
    "    \"\"\"\n",
    "    https://en.wikipedia.org/wiki/Gegenbauer_polynomials\n",
    "    \"\"\"\n",
    "    prefac = ((-1)**k)*jnp.exp( gammaln(n - k + lamb) - gammaln(lamb) - jnp.log(factorial(k)) - jnp.log(factorial(n-2*k)))\n",
    "    return prefac*((2*x)**(n-2*k))\n",
    "@jax.jit\n",
    "def jitted_ulstraspherical_polynomials(x,n,lamb,k_arr):\n",
    "    ## ONLY SUPPORTS EVEN N FOR NOW. CAN USE FLOOR FUNCTION IN FUTURE....\n",
    "    # From: https://en.wikipedia.org/wiki/Gegenbauer_polynomials\n",
    "    return jnp.sum( jax.vmap(ultraspherical_single_sum_element, in_axes=((0,None,None,None)))(k_arr,x,n,lamb) )\n",
    "    \n",
    "    \n",
    "@jax.jit\n",
    "def Knl(n,l):\n",
    "    return 0.5*n*(n+4*l+3.) + (l+1)*(2*l+1)\n",
    "\n",
    "@jax.jit\n",
    "def rho_nl(n,l,r, k_arr):\n",
    "    psi = (r-1)/(r+1)\n",
    "    prefac = (Knl(n,l)/(2*jnp.pi))*( (r**l) / (r*((1+r)**(2*l+3))) )*jitted_ulstraspherical_polynomials(psi,n,2*l + (3/2), k_arr)\n",
    "    return jnp.sqrt(jnp.pi*4)*prefac\n",
    "@jax.jit\n",
    "def phi_nl(n,l,r,k_arr):\n",
    "    psi = (r-1)/(r+1)\n",
    "    prefac = -( (r**l) / (1+r)**(2*l +1))*jitted_ulstraspherical_polynomials(psi,n,2*l + (3/2), k_arr)\n",
    "    return jnp.sqrt(jnp.pi*4)*prefac\n",
    "\n",
    "@jax.jit\n",
    "def Atilde(n,l,):\n",
    "    prefac = (2**(8*l+6))/(4*jnp.pi*Knl(n,l))\n",
    "    num = factorial(n)*(n + 2*l + (3/2))*( ( jnp.exp(gammaln(2*l + 3/2)) )**2 )\n",
    "    denom = jnp.exp( gammaln(n + 4*l + 3) )\n",
    "    return prefac*(num/denom)\n",
    "\n",
    "@jax.jit\n",
    "def get_Ylm(l,m,theta,phi,n_max):\n",
    "    \"\"\"\n",
    "    Scipy convention: first arg is m, second is l.  l \\in [0,lmax], m \\in [0,l]\n",
    "    So n ~ l here in scipy and n_max ~ l_max\n",
    "    n_max must be statically set\n",
    "    \"\"\"\n",
    "    return sph_harm(m=m, n=l, theta, phi,n_max=12)\n",
    "\n",
    "@jax.jit \n",
    "def Snlm_single(k,r_k,theta_k,phi_k,m_k,n,l,m):\n",
    "    return Atilde(n,l)*m_k*phi_nl(n,l,r_k,k_arr)*get_Ylm(l,m,theta_k,phi_k)*jnp.cos(m*phi_k)\n",
    "    \n",
    "@jax.jit \n",
    "def Tnlm_single(k,r_k,theta_k,phi_k,m_k,n,l,m):\n",
    "    return Atilde(n,l)*m_k*phi_nl(n,l,r_k,k_arr)*get_Ylm(l,m,theta_k,phi_k)*jnp.sin(m*phi_k)\n",
    "    \n",
    "\n",
    "    "
   ]
  },
  {
   "cell_type": "code",
   "execution_count": null,
   "id": "4e8434bb-1c08-49aa-b284-b2d46114a797",
   "metadata": {},
   "outputs": [],
   "source": [
    "get_Ylm("
   ]
  },
  {
   "cell_type": "code",
   "execution_count": 350,
   "id": "34d67499-1c8f-49af-9ad5-f0f97b520d11",
   "metadata": {},
   "outputs": [
    {
     "data": {
      "text/plain": [
       "Array([0.08505885+0.1324713j], dtype=complex128)"
      ]
     },
     "execution_count": 350,
     "metadata": {},
     "output_type": "execute_result"
    }
   ],
   "source": [
    "sph_harm(m=jnp.array([2]), n=jnp.array([4]), theta=jnp.array([.5]),phi= jnp.array([.3]),n_max=4)"
   ]
  },
  {
   "cell_type": "code",
   "execution_count": 355,
   "id": "94c9fc5b-69c8-4c35-946b-4122d4db9ec6",
   "metadata": {},
   "outputs": [
    {
     "data": {
      "text/plain": [
       "Array([0.08505885+0.1324713j], dtype=complex128)"
      ]
     },
     "execution_count": 355,
     "metadata": {},
     "output_type": "execute_result"
    }
   ],
   "source": [
    "sph_harm(m=jnp.array([2]), n=jnp.array([4]), theta=jnp.array([.5]),phi= jnp.array([.3]),n_max=13)"
   ]
  },
  {
   "cell_type": "code",
   "execution_count": 227,
   "id": "a976ee29-f7a7-4888-b122-23757aff01ea",
   "metadata": {},
   "outputs": [
    {
     "ename": "ConcretizationTypeError",
     "evalue": "Abstract tracer value encountered where concrete value is expected: traced array with shape int64[1].\nThe `n_max` argument of `jnp.scipy.special.sph_harm` must be statically specified to use `sph_harm` within JAX transformations.\nThe error occurred while tracing the function get_Ylm at /var/folders/rq/9c89gb15479bjnxrpnmdf_p40000gn/T/ipykernel_70933/3451440452.py:48 for jit. This concrete value was not available in Python because it depends on the value of the argument l.\n\nSee https://jax.readthedocs.io/en/latest/errors.html#jax.errors.ConcretizationTypeError",
     "output_type": "error",
     "traceback": [
      "\u001b[0;31m---------------------------------------------------------------------------\u001b[0m",
      "\u001b[0;31mConcretizationTypeError\u001b[0m                   Traceback (most recent call last)",
      "\u001b[0;32m/var/folders/rq/9c89gb15479bjnxrpnmdf_p40000gn/T/ipykernel_70933/3531404342.py\u001b[0m in \u001b[0;36m<module>\u001b[0;34m\u001b[0m\n\u001b[0;32m----> 1\u001b[0;31m \u001b[0mget_Ylm\u001b[0m\u001b[0;34m(\u001b[0m\u001b[0;36m2\u001b[0m\u001b[0;34m,\u001b[0m\u001b[0;36m4\u001b[0m\u001b[0;34m,\u001b[0m\u001b[0;36m.5\u001b[0m\u001b[0;34m,\u001b[0m\u001b[0;36m.3\u001b[0m\u001b[0;34m)\u001b[0m\u001b[0;34m\u001b[0m\u001b[0;34m\u001b[0m\u001b[0m\n\u001b[0m",
      "    \u001b[0;31m[... skipping hidden 12 frame]\u001b[0m\n",
      "\u001b[0;32m/var/folders/rq/9c89gb15479bjnxrpnmdf_p40000gn/T/ipykernel_70933/3451440452.py\u001b[0m in \u001b[0;36mget_Ylm\u001b[0;34m(l, m, theta, phi)\u001b[0m\n\u001b[1;32m     48\u001b[0m \u001b[0;34m@\u001b[0m\u001b[0mjax\u001b[0m\u001b[0;34m.\u001b[0m\u001b[0mjit\u001b[0m\u001b[0;34m\u001b[0m\u001b[0;34m\u001b[0m\u001b[0m\n\u001b[1;32m     49\u001b[0m \u001b[0;32mdef\u001b[0m \u001b[0mget_Ylm\u001b[0m\u001b[0;34m(\u001b[0m\u001b[0ml\u001b[0m\u001b[0;34m,\u001b[0m\u001b[0mm\u001b[0m\u001b[0;34m,\u001b[0m\u001b[0mtheta\u001b[0m\u001b[0;34m,\u001b[0m\u001b[0mphi\u001b[0m\u001b[0;34m)\u001b[0m\u001b[0;34m:\u001b[0m\u001b[0;34m\u001b[0m\u001b[0;34m\u001b[0m\u001b[0m\n\u001b[0;32m---> 50\u001b[0;31m     \u001b[0;32mreturn\u001b[0m \u001b[0msph_harm\u001b[0m\u001b[0;34m(\u001b[0m\u001b[0mjnp\u001b[0m\u001b[0;34m.\u001b[0m\u001b[0marray\u001b[0m\u001b[0;34m(\u001b[0m\u001b[0;34m[\u001b[0m\u001b[0mm\u001b[0m\u001b[0;34m]\u001b[0m\u001b[0;34m)\u001b[0m\u001b[0;34m,\u001b[0m \u001b[0mjnp\u001b[0m\u001b[0;34m.\u001b[0m\u001b[0marray\u001b[0m\u001b[0;34m(\u001b[0m\u001b[0;34m[\u001b[0m\u001b[0ml\u001b[0m\u001b[0;34m]\u001b[0m\u001b[0;34m)\u001b[0m\u001b[0;34m,\u001b[0m \u001b[0mjnp\u001b[0m\u001b[0;34m.\u001b[0m\u001b[0marray\u001b[0m\u001b[0;34m(\u001b[0m\u001b[0;34m[\u001b[0m\u001b[0mtheta\u001b[0m\u001b[0;34m]\u001b[0m\u001b[0;34m)\u001b[0m\u001b[0;34m,\u001b[0m \u001b[0mjnp\u001b[0m\u001b[0;34m.\u001b[0m\u001b[0marray\u001b[0m\u001b[0;34m(\u001b[0m\u001b[0;34m[\u001b[0m\u001b[0mphi\u001b[0m\u001b[0;34m]\u001b[0m\u001b[0;34m)\u001b[0m\u001b[0;34m,\u001b[0m \u001b[0mn_max\u001b[0m\u001b[0;34m=\u001b[0m\u001b[0mjnp\u001b[0m\u001b[0;34m.\u001b[0m\u001b[0marray\u001b[0m\u001b[0;34m(\u001b[0m\u001b[0;34m[\u001b[0m\u001b[0ml\u001b[0m\u001b[0;34m]\u001b[0m\u001b[0;34m)\u001b[0m\u001b[0;34m)\u001b[0m\u001b[0;34m\u001b[0m\u001b[0;34m\u001b[0m\u001b[0m\n\u001b[0m\u001b[1;32m     51\u001b[0m \u001b[0;34m\u001b[0m\u001b[0m\n\u001b[1;32m     52\u001b[0m \u001b[0;34m@\u001b[0m\u001b[0mjax\u001b[0m\u001b[0;34m.\u001b[0m\u001b[0mjit\u001b[0m\u001b[0;34m\u001b[0m\u001b[0;34m\u001b[0m\u001b[0m\n",
      "\u001b[0;32m~/opt/anaconda3/envs/MachineLearnGravPotential/lib/python3.8/site-packages/jax/_src/scipy/special.py\u001b[0m in \u001b[0;36msph_harm\u001b[0;34m(m, n, theta, phi, n_max)\u001b[0m\n\u001b[1;32m   1178\u001b[0m   \u001b[0;32mif\u001b[0m \u001b[0mn_max\u001b[0m \u001b[0;32mis\u001b[0m \u001b[0;32mNone\u001b[0m\u001b[0;34m:\u001b[0m\u001b[0;34m\u001b[0m\u001b[0;34m\u001b[0m\u001b[0m\n\u001b[1;32m   1179\u001b[0m     \u001b[0mn_max\u001b[0m \u001b[0;34m=\u001b[0m \u001b[0mnp\u001b[0m\u001b[0;34m.\u001b[0m\u001b[0mmax\u001b[0m\u001b[0;34m(\u001b[0m\u001b[0mn\u001b[0m\u001b[0;34m)\u001b[0m\u001b[0;34m\u001b[0m\u001b[0;34m\u001b[0m\u001b[0m\n\u001b[0;32m-> 1180\u001b[0;31m   n_max = core.concrete_or_error(\n\u001b[0m\u001b[1;32m   1181\u001b[0m       \u001b[0mint\u001b[0m\u001b[0;34m,\u001b[0m \u001b[0mn_max\u001b[0m\u001b[0;34m,\u001b[0m \u001b[0;34m'The `n_max` argument of `jnp.scipy.special.sph_harm` must '\u001b[0m\u001b[0;34m\u001b[0m\u001b[0;34m\u001b[0m\u001b[0m\n\u001b[1;32m   1182\u001b[0m       'be statically specified to use `sph_harm` within JAX transformations.')\n",
      "\u001b[0;32m~/opt/anaconda3/envs/MachineLearnGravPotential/lib/python3.8/site-packages/jax/_src/core.py\u001b[0m in \u001b[0;36mconcrete_or_error\u001b[0;34m(force, val, context)\u001b[0m\n\u001b[1;32m   1379\u001b[0m       \u001b[0;32mreturn\u001b[0m \u001b[0mforce\u001b[0m\u001b[0;34m(\u001b[0m\u001b[0mval\u001b[0m\u001b[0;34m.\u001b[0m\u001b[0maval\u001b[0m\u001b[0;34m.\u001b[0m\u001b[0mval\u001b[0m\u001b[0;34m)\u001b[0m\u001b[0;34m\u001b[0m\u001b[0;34m\u001b[0m\u001b[0m\n\u001b[1;32m   1380\u001b[0m     \u001b[0;32melse\u001b[0m\u001b[0;34m:\u001b[0m\u001b[0;34m\u001b[0m\u001b[0;34m\u001b[0m\u001b[0m\n\u001b[0;32m-> 1381\u001b[0;31m       \u001b[0;32mraise\u001b[0m \u001b[0mConcretizationTypeError\u001b[0m\u001b[0;34m(\u001b[0m\u001b[0mval\u001b[0m\u001b[0;34m,\u001b[0m \u001b[0mcontext\u001b[0m\u001b[0;34m)\u001b[0m\u001b[0;34m\u001b[0m\u001b[0;34m\u001b[0m\u001b[0m\n\u001b[0m\u001b[1;32m   1382\u001b[0m   \u001b[0;32melse\u001b[0m\u001b[0;34m:\u001b[0m\u001b[0;34m\u001b[0m\u001b[0;34m\u001b[0m\u001b[0m\n\u001b[1;32m   1383\u001b[0m     \u001b[0;32mreturn\u001b[0m \u001b[0mforce\u001b[0m\u001b[0;34m(\u001b[0m\u001b[0mval\u001b[0m\u001b[0;34m)\u001b[0m\u001b[0;34m\u001b[0m\u001b[0;34m\u001b[0m\u001b[0m\n",
      "\u001b[0;31mConcretizationTypeError\u001b[0m: Abstract tracer value encountered where concrete value is expected: traced array with shape int64[1].\nThe `n_max` argument of `jnp.scipy.special.sph_harm` must be statically specified to use `sph_harm` within JAX transformations.\nThe error occurred while tracing the function get_Ylm at /var/folders/rq/9c89gb15479bjnxrpnmdf_p40000gn/T/ipykernel_70933/3451440452.py:48 for jit. This concrete value was not available in Python because it depends on the value of the argument l.\n\nSee https://jax.readthedocs.io/en/latest/errors.html#jax.errors.ConcretizationTypeError"
     ]
    }
   ],
   "source": [
    "get_Ylm(2,4,.5,.3)"
   ]
  },
  {
   "cell_type": "code",
   "execution_count": 222,
   "id": "f447f9e5-dfbd-4819-9ad9-e44b396a9c09",
   "metadata": {},
   "outputs": [
    {
     "ename": "ConcretizationTypeError",
     "evalue": "Abstract tracer value encountered where concrete value is expected: traced array with shape int64[1].\nThe `n_max` argument of `jnp.scipy.special.sph_harm` must be statically specified to use `sph_harm` within JAX transformations.\nThe error occurred while tracing the function get_Ylm at /var/folders/rq/9c89gb15479bjnxrpnmdf_p40000gn/T/ipykernel_70933/3451440452.py:48 for jit. This concrete value was not available in Python because it depends on the value of the argument l.\n\nSee https://jax.readthedocs.io/en/latest/errors.html#jax.errors.ConcretizationTypeError",
     "output_type": "error",
     "traceback": [
      "\u001b[0;31m---------------------------------------------------------------------------\u001b[0m",
      "\u001b[0;31mConcretizationTypeError\u001b[0m                   Traceback (most recent call last)",
      "\u001b[0;32m/var/folders/rq/9c89gb15479bjnxrpnmdf_p40000gn/T/ipykernel_70933/3328743882.py\u001b[0m in \u001b[0;36m<module>\u001b[0;34m\u001b[0m\n\u001b[0;32m----> 1\u001b[0;31m \u001b[0mTnlm_single\u001b[0m\u001b[0;34m(\u001b[0m\u001b[0;36m2\u001b[0m\u001b[0;34m,\u001b[0m\u001b[0;36m3.\u001b[0m\u001b[0;34m,\u001b[0m\u001b[0;36m4.\u001b[0m\u001b[0;34m,\u001b[0m\u001b[0;36m5.\u001b[0m\u001b[0;34m,\u001b[0m\u001b[0;36m2.\u001b[0m\u001b[0;34m,\u001b[0m\u001b[0;36m6\u001b[0m\u001b[0;34m,\u001b[0m\u001b[0;36m4\u001b[0m\u001b[0;34m,\u001b[0m\u001b[0;36m2\u001b[0m\u001b[0;34m)\u001b[0m\u001b[0;34m\u001b[0m\u001b[0;34m\u001b[0m\u001b[0m\n\u001b[0m",
      "    \u001b[0;31m[... skipping hidden 12 frame]\u001b[0m\n",
      "\u001b[0;32m/var/folders/rq/9c89gb15479bjnxrpnmdf_p40000gn/T/ipykernel_70933/3451440452.py\u001b[0m in \u001b[0;36mTnlm_single\u001b[0;34m(k, r_k, theta_k, phi_k, m_k, n, l, m)\u001b[0m\n\u001b[1;32m     56\u001b[0m \u001b[0;34m@\u001b[0m\u001b[0mjax\u001b[0m\u001b[0;34m.\u001b[0m\u001b[0mjit\u001b[0m\u001b[0;34m\u001b[0m\u001b[0;34m\u001b[0m\u001b[0m\n\u001b[1;32m     57\u001b[0m \u001b[0;32mdef\u001b[0m \u001b[0mTnlm_single\u001b[0m\u001b[0;34m(\u001b[0m\u001b[0mk\u001b[0m\u001b[0;34m,\u001b[0m\u001b[0mr_k\u001b[0m\u001b[0;34m,\u001b[0m\u001b[0mtheta_k\u001b[0m\u001b[0;34m,\u001b[0m\u001b[0mphi_k\u001b[0m\u001b[0;34m,\u001b[0m\u001b[0mm_k\u001b[0m\u001b[0;34m,\u001b[0m\u001b[0mn\u001b[0m\u001b[0;34m,\u001b[0m\u001b[0ml\u001b[0m\u001b[0;34m,\u001b[0m\u001b[0mm\u001b[0m\u001b[0;34m)\u001b[0m\u001b[0;34m:\u001b[0m\u001b[0;34m\u001b[0m\u001b[0;34m\u001b[0m\u001b[0m\n\u001b[0;32m---> 58\u001b[0;31m     \u001b[0;32mreturn\u001b[0m \u001b[0mAtilde\u001b[0m\u001b[0;34m(\u001b[0m\u001b[0mn\u001b[0m\u001b[0;34m,\u001b[0m\u001b[0ml\u001b[0m\u001b[0;34m)\u001b[0m\u001b[0;34m*\u001b[0m\u001b[0mm_k\u001b[0m\u001b[0;34m*\u001b[0m\u001b[0mphi_nl\u001b[0m\u001b[0;34m(\u001b[0m\u001b[0mn\u001b[0m\u001b[0;34m,\u001b[0m\u001b[0ml\u001b[0m\u001b[0;34m,\u001b[0m\u001b[0mr_k\u001b[0m\u001b[0;34m,\u001b[0m\u001b[0mk_arr\u001b[0m\u001b[0;34m)\u001b[0m\u001b[0;34m*\u001b[0m\u001b[0mget_Ylm\u001b[0m\u001b[0;34m(\u001b[0m\u001b[0ml\u001b[0m\u001b[0;34m,\u001b[0m\u001b[0mm\u001b[0m\u001b[0;34m,\u001b[0m\u001b[0mtheta_k\u001b[0m\u001b[0;34m,\u001b[0m\u001b[0mphi_k\u001b[0m\u001b[0;34m)\u001b[0m\u001b[0;34m*\u001b[0m\u001b[0mjnp\u001b[0m\u001b[0;34m.\u001b[0m\u001b[0msin\u001b[0m\u001b[0;34m(\u001b[0m\u001b[0mm\u001b[0m\u001b[0;34m*\u001b[0m\u001b[0mphi_k\u001b[0m\u001b[0;34m)\u001b[0m\u001b[0;34m\u001b[0m\u001b[0;34m\u001b[0m\u001b[0m\n\u001b[0m\u001b[1;32m     59\u001b[0m \u001b[0;34m\u001b[0m\u001b[0m\n\u001b[1;32m     60\u001b[0m \u001b[0;34m@\u001b[0m\u001b[0mjax\u001b[0m\u001b[0;34m.\u001b[0m\u001b[0mjit\u001b[0m\u001b[0;34m\u001b[0m\u001b[0;34m\u001b[0m\u001b[0m\n",
      "    \u001b[0;31m[... skipping hidden 12 frame]\u001b[0m\n",
      "\u001b[0;32m/var/folders/rq/9c89gb15479bjnxrpnmdf_p40000gn/T/ipykernel_70933/3451440452.py\u001b[0m in \u001b[0;36mget_Ylm\u001b[0;34m(l, m, theta, phi)\u001b[0m\n\u001b[1;32m     48\u001b[0m \u001b[0;34m@\u001b[0m\u001b[0mjax\u001b[0m\u001b[0;34m.\u001b[0m\u001b[0mjit\u001b[0m\u001b[0;34m\u001b[0m\u001b[0;34m\u001b[0m\u001b[0m\n\u001b[1;32m     49\u001b[0m \u001b[0;32mdef\u001b[0m \u001b[0mget_Ylm\u001b[0m\u001b[0;34m(\u001b[0m\u001b[0ml\u001b[0m\u001b[0;34m,\u001b[0m\u001b[0mm\u001b[0m\u001b[0;34m,\u001b[0m\u001b[0mtheta\u001b[0m\u001b[0;34m,\u001b[0m\u001b[0mphi\u001b[0m\u001b[0;34m)\u001b[0m\u001b[0;34m:\u001b[0m\u001b[0;34m\u001b[0m\u001b[0;34m\u001b[0m\u001b[0m\n\u001b[0;32m---> 50\u001b[0;31m     \u001b[0;32mreturn\u001b[0m \u001b[0msph_harm\u001b[0m\u001b[0;34m(\u001b[0m\u001b[0mjnp\u001b[0m\u001b[0;34m.\u001b[0m\u001b[0marray\u001b[0m\u001b[0;34m(\u001b[0m\u001b[0;34m[\u001b[0m\u001b[0mm\u001b[0m\u001b[0;34m]\u001b[0m\u001b[0;34m)\u001b[0m\u001b[0;34m,\u001b[0m \u001b[0mjnp\u001b[0m\u001b[0;34m.\u001b[0m\u001b[0marray\u001b[0m\u001b[0;34m(\u001b[0m\u001b[0;34m[\u001b[0m\u001b[0ml\u001b[0m\u001b[0;34m]\u001b[0m\u001b[0;34m)\u001b[0m\u001b[0;34m,\u001b[0m \u001b[0mjnp\u001b[0m\u001b[0;34m.\u001b[0m\u001b[0marray\u001b[0m\u001b[0;34m(\u001b[0m\u001b[0;34m[\u001b[0m\u001b[0mtheta\u001b[0m\u001b[0;34m]\u001b[0m\u001b[0;34m)\u001b[0m\u001b[0;34m,\u001b[0m \u001b[0mjnp\u001b[0m\u001b[0;34m.\u001b[0m\u001b[0marray\u001b[0m\u001b[0;34m(\u001b[0m\u001b[0;34m[\u001b[0m\u001b[0mphi\u001b[0m\u001b[0;34m]\u001b[0m\u001b[0;34m)\u001b[0m\u001b[0;34m,\u001b[0m \u001b[0mn_max\u001b[0m\u001b[0;34m=\u001b[0m\u001b[0mjnp\u001b[0m\u001b[0;34m.\u001b[0m\u001b[0marray\u001b[0m\u001b[0;34m(\u001b[0m\u001b[0;34m[\u001b[0m\u001b[0ml\u001b[0m\u001b[0;34m]\u001b[0m\u001b[0;34m)\u001b[0m\u001b[0;34m)\u001b[0m\u001b[0;34m\u001b[0m\u001b[0;34m\u001b[0m\u001b[0m\n\u001b[0m\u001b[1;32m     51\u001b[0m \u001b[0;34m\u001b[0m\u001b[0m\n\u001b[1;32m     52\u001b[0m \u001b[0;34m@\u001b[0m\u001b[0mjax\u001b[0m\u001b[0;34m.\u001b[0m\u001b[0mjit\u001b[0m\u001b[0;34m\u001b[0m\u001b[0;34m\u001b[0m\u001b[0m\n",
      "\u001b[0;32m~/opt/anaconda3/envs/MachineLearnGravPotential/lib/python3.8/site-packages/jax/_src/scipy/special.py\u001b[0m in \u001b[0;36msph_harm\u001b[0;34m(m, n, theta, phi, n_max)\u001b[0m\n\u001b[1;32m   1178\u001b[0m   \u001b[0;32mif\u001b[0m \u001b[0mn_max\u001b[0m \u001b[0;32mis\u001b[0m \u001b[0;32mNone\u001b[0m\u001b[0;34m:\u001b[0m\u001b[0;34m\u001b[0m\u001b[0;34m\u001b[0m\u001b[0m\n\u001b[1;32m   1179\u001b[0m     \u001b[0mn_max\u001b[0m \u001b[0;34m=\u001b[0m \u001b[0mnp\u001b[0m\u001b[0;34m.\u001b[0m\u001b[0mmax\u001b[0m\u001b[0;34m(\u001b[0m\u001b[0mn\u001b[0m\u001b[0;34m)\u001b[0m\u001b[0;34m\u001b[0m\u001b[0;34m\u001b[0m\u001b[0m\n\u001b[0;32m-> 1180\u001b[0;31m   n_max = core.concrete_or_error(\n\u001b[0m\u001b[1;32m   1181\u001b[0m       \u001b[0mint\u001b[0m\u001b[0;34m,\u001b[0m \u001b[0mn_max\u001b[0m\u001b[0;34m,\u001b[0m \u001b[0;34m'The `n_max` argument of `jnp.scipy.special.sph_harm` must '\u001b[0m\u001b[0;34m\u001b[0m\u001b[0;34m\u001b[0m\u001b[0m\n\u001b[1;32m   1182\u001b[0m       'be statically specified to use `sph_harm` within JAX transformations.')\n",
      "\u001b[0;32m~/opt/anaconda3/envs/MachineLearnGravPotential/lib/python3.8/site-packages/jax/_src/core.py\u001b[0m in \u001b[0;36mconcrete_or_error\u001b[0;34m(force, val, context)\u001b[0m\n\u001b[1;32m   1379\u001b[0m       \u001b[0;32mreturn\u001b[0m \u001b[0mforce\u001b[0m\u001b[0;34m(\u001b[0m\u001b[0mval\u001b[0m\u001b[0;34m.\u001b[0m\u001b[0maval\u001b[0m\u001b[0;34m.\u001b[0m\u001b[0mval\u001b[0m\u001b[0;34m)\u001b[0m\u001b[0;34m\u001b[0m\u001b[0;34m\u001b[0m\u001b[0m\n\u001b[1;32m   1380\u001b[0m     \u001b[0;32melse\u001b[0m\u001b[0;34m:\u001b[0m\u001b[0;34m\u001b[0m\u001b[0;34m\u001b[0m\u001b[0m\n\u001b[0;32m-> 1381\u001b[0;31m       \u001b[0;32mraise\u001b[0m \u001b[0mConcretizationTypeError\u001b[0m\u001b[0;34m(\u001b[0m\u001b[0mval\u001b[0m\u001b[0;34m,\u001b[0m \u001b[0mcontext\u001b[0m\u001b[0;34m)\u001b[0m\u001b[0;34m\u001b[0m\u001b[0;34m\u001b[0m\u001b[0m\n\u001b[0m\u001b[1;32m   1382\u001b[0m   \u001b[0;32melse\u001b[0m\u001b[0;34m:\u001b[0m\u001b[0;34m\u001b[0m\u001b[0;34m\u001b[0m\u001b[0m\n\u001b[1;32m   1383\u001b[0m     \u001b[0;32mreturn\u001b[0m \u001b[0mforce\u001b[0m\u001b[0;34m(\u001b[0m\u001b[0mval\u001b[0m\u001b[0;34m)\u001b[0m\u001b[0;34m\u001b[0m\u001b[0;34m\u001b[0m\u001b[0m\n",
      "\u001b[0;31mConcretizationTypeError\u001b[0m: Abstract tracer value encountered where concrete value is expected: traced array with shape int64[1].\nThe `n_max` argument of `jnp.scipy.special.sph_harm` must be statically specified to use `sph_harm` within JAX transformations.\nThe error occurred while tracing the function get_Ylm at /var/folders/rq/9c89gb15479bjnxrpnmdf_p40000gn/T/ipykernel_70933/3451440452.py:48 for jit. This concrete value was not available in Python because it depends on the value of the argument l.\n\nSee https://jax.readthedocs.io/en/latest/errors.html#jax.errors.ConcretizationTypeError"
     ]
    }
   ],
   "source": [
    "Tnlm_single(2,3.,4.,5.,2.,6,4,2)"
   ]
  },
  {
   "cell_type": "code",
   "execution_count": 210,
   "id": "fb705f2a-88d6-4b8b-bd29-e837ed5dce28",
   "metadata": {},
   "outputs": [
    {
     "ename": "TracerIntegerConversionError",
     "evalue": "The __index__() method was called on traced array with shape int64[].\nThe error occurred while tracing the function rho at /var/folders/rq/9c89gb15479bjnxrpnmdf_p40000gn/T/ipykernel_70933/4146179100.py:60 for jit. This concrete value was not available in Python because it depends on the value of the argument l_max.\nSee https://jax.readthedocs.io/en/latest/errors.html#jax.errors.TracerIntegerConversionError",
     "output_type": "error",
     "traceback": [
      "\u001b[0;31m---------------------------------------------------------------------------\u001b[0m",
      "\u001b[0;31mTracerIntegerConversionError\u001b[0m              Traceback (most recent call last)",
      "\u001b[0;32m/var/folders/rq/9c89gb15479bjnxrpnmdf_p40000gn/T/ipykernel_70933/1397174455.py\u001b[0m in \u001b[0;36m<module>\u001b[0;34m\u001b[0m\n\u001b[0;32m----> 1\u001b[0;31m \u001b[0mrho\u001b[0m\u001b[0;34m(\u001b[0m\u001b[0;36m2\u001b[0m\u001b[0;34m,\u001b[0m\u001b[0;36m3\u001b[0m\u001b[0;34m,\u001b[0m\u001b[0;36m3\u001b[0m\u001b[0;34m,\u001b[0m \u001b[0;36m3\u001b[0m\u001b[0;34m,\u001b[0m \u001b[0;36m3\u001b[0m\u001b[0;34m,\u001b[0m \u001b[0;36m3\u001b[0m\u001b[0;34m,\u001b[0m \u001b[0;36m3\u001b[0m\u001b[0;34m)\u001b[0m\u001b[0;34m\u001b[0m\u001b[0;34m\u001b[0m\u001b[0m\n\u001b[0m",
      "    \u001b[0;31m[... skipping hidden 12 frame]\u001b[0m\n",
      "\u001b[0;32m/var/folders/rq/9c89gb15479bjnxrpnmdf_p40000gn/T/ipykernel_70933/4146179100.py\u001b[0m in \u001b[0;36mrho\u001b[0;34m(l_max, m_max, n_max, r_arr, theta_arr, phi_arr, mass_arr)\u001b[0m\n\u001b[1;32m     60\u001b[0m \u001b[0;34m@\u001b[0m\u001b[0mjax\u001b[0m\u001b[0;34m.\u001b[0m\u001b[0mjit\u001b[0m\u001b[0;34m\u001b[0m\u001b[0;34m\u001b[0m\u001b[0m\n\u001b[1;32m     61\u001b[0m \u001b[0;32mdef\u001b[0m \u001b[0mrho\u001b[0m\u001b[0;34m(\u001b[0m\u001b[0ml_max\u001b[0m\u001b[0;34m,\u001b[0m\u001b[0mm_max\u001b[0m\u001b[0;34m,\u001b[0m\u001b[0mn_max\u001b[0m\u001b[0;34m,\u001b[0m \u001b[0mr_arr\u001b[0m\u001b[0;34m,\u001b[0m \u001b[0mtheta_arr\u001b[0m\u001b[0;34m,\u001b[0m \u001b[0mphi_arr\u001b[0m\u001b[0;34m,\u001b[0m \u001b[0mmass_arr\u001b[0m\u001b[0;34m)\u001b[0m\u001b[0;34m:\u001b[0m\u001b[0;34m\u001b[0m\u001b[0;34m\u001b[0m\u001b[0m\n\u001b[0;32m---> 62\u001b[0;31m     \u001b[0;32mfor\u001b[0m \u001b[0ml\u001b[0m \u001b[0;32min\u001b[0m \u001b[0mrange\u001b[0m\u001b[0;34m(\u001b[0m\u001b[0;36m0\u001b[0m\u001b[0;34m,\u001b[0m\u001b[0ml_max\u001b[0m\u001b[0;34m)\u001b[0m\u001b[0;34m:\u001b[0m\u001b[0;34m\u001b[0m\u001b[0;34m\u001b[0m\u001b[0m\n\u001b[0m\u001b[1;32m     63\u001b[0m         \u001b[0;32mfor\u001b[0m \u001b[0mm\u001b[0m \u001b[0;32min\u001b[0m \u001b[0mrange\u001b[0m\u001b[0;34m(\u001b[0m\u001b[0;36m0\u001b[0m\u001b[0;34m,\u001b[0m\u001b[0ml\u001b[0m\u001b[0;34m)\u001b[0m\u001b[0;34m:\u001b[0m\u001b[0;34m\u001b[0m\u001b[0;34m\u001b[0m\u001b[0m\n\u001b[1;32m     64\u001b[0m             \u001b[0ma\u001b[0m \u001b[0;34m=\u001b[0m \u001b[0;36m2.\u001b[0m\u001b[0;34m\u001b[0m\u001b[0;34m\u001b[0m\u001b[0m\n",
      "\u001b[0;32m~/opt/anaconda3/envs/MachineLearnGravPotential/lib/python3.8/site-packages/jax/_src/core.py\u001b[0m in \u001b[0;36m__index__\u001b[0;34m(self)\u001b[0m\n\u001b[1;32m    611\u001b[0m \u001b[0;34m\u001b[0m\u001b[0m\n\u001b[1;32m    612\u001b[0m   \u001b[0;32mdef\u001b[0m \u001b[0m__index__\u001b[0m\u001b[0;34m(\u001b[0m\u001b[0mself\u001b[0m\u001b[0;34m)\u001b[0m\u001b[0;34m:\u001b[0m\u001b[0;34m\u001b[0m\u001b[0;34m\u001b[0m\u001b[0m\n\u001b[0;32m--> 613\u001b[0;31m     \u001b[0;32mraise\u001b[0m \u001b[0mTracerIntegerConversionError\u001b[0m\u001b[0;34m(\u001b[0m\u001b[0mself\u001b[0m\u001b[0;34m)\u001b[0m\u001b[0;34m\u001b[0m\u001b[0;34m\u001b[0m\u001b[0m\n\u001b[0m\u001b[1;32m    614\u001b[0m \u001b[0;34m\u001b[0m\u001b[0m\n\u001b[1;32m    615\u001b[0m   \u001b[0;32mdef\u001b[0m \u001b[0mtolist\u001b[0m\u001b[0;34m(\u001b[0m\u001b[0mself\u001b[0m\u001b[0;34m)\u001b[0m\u001b[0;34m:\u001b[0m\u001b[0;34m\u001b[0m\u001b[0;34m\u001b[0m\u001b[0m\n",
      "\u001b[0;31mTracerIntegerConversionError\u001b[0m: The __index__() method was called on traced array with shape int64[].\nThe error occurred while tracing the function rho at /var/folders/rq/9c89gb15479bjnxrpnmdf_p40000gn/T/ipykernel_70933/4146179100.py:60 for jit. This concrete value was not available in Python because it depends on the value of the argument l_max.\nSee https://jax.readthedocs.io/en/latest/errors.html#jax.errors.TracerIntegerConversionError"
     ]
    }
   ],
   "source": [
    "rho(2,3,3, 3, 3, 3, 3)"
   ]
  },
  {
   "cell_type": "code",
   "execution_count": 208,
   "id": "932b54b7-e4b5-4022-a6e5-7d1a50d51a8b",
   "metadata": {},
   "outputs": [
    {
     "data": {
      "text/plain": [
       "Array(44.5877193, dtype=float64, weak_type=True)"
      ]
     },
     "execution_count": 208,
     "metadata": {},
     "output_type": "execute_result"
    }
   ],
   "source": [
    "Atilde(2,4)"
   ]
  },
  {
   "cell_type": "code",
   "execution_count": 198,
   "id": "daf0cc2c-bca5-4ef0-92f3-448a2fd07647",
   "metadata": {},
   "outputs": [
    {
     "data": {
      "text/plain": [
       "Array([0.0740273-0.16175261j], dtype=complex128)"
      ]
     },
     "execution_count": 198,
     "metadata": {},
     "output_type": "execute_result"
    }
   ],
   "source": [
    "sph_harm(jnp.array([1]),jnp.array([3]),jnp.array([2.]),jnp.array([3.]),n_max=n)"
   ]
  },
  {
   "cell_type": "code",
   "execution_count": 183,
   "id": "6dd75d68-508a-40db-9746-475872a8b1e8",
   "metadata": {},
   "outputs": [
    {
     "data": {
      "text/plain": [
       "Array(0.84747972, dtype=float64)"
      ]
     },
     "execution_count": 183,
     "metadata": {},
     "output_type": "execute_result"
    }
   ],
   "source": [
    "phi_nl(n,4,3.,k_arr)"
   ]
  },
  {
   "cell_type": "code",
   "execution_count": 167,
   "id": "d480ce3b-50f3-4ecf-ae25-5a96695871fe",
   "metadata": {},
   "outputs": [
    {
     "data": {
      "text/plain": [
       "Array(1., dtype=float64, weak_type=True)"
      ]
     },
     "execution_count": 167,
     "metadata": {},
     "output_type": "execute_result"
    }
   ],
   "source": [
    "jnp.floor(1.5)"
   ]
  },
  {
   "cell_type": "code",
   "execution_count": 168,
   "id": "6335a577-c899-4fcb-a38c-be08609b3655",
   "metadata": {},
   "outputs": [],
   "source": [
    "n = 6"
   ]
  },
  {
   "cell_type": "code",
   "execution_count": 356,
   "id": "ecd8de40-31e1-4aaf-8ee8-6b19b6b713e9",
   "metadata": {},
   "outputs": [
    {
     "data": {
      "text/plain": [
       "Array(-0.06204499, dtype=float64)"
      ]
     },
     "execution_count": 356,
     "metadata": {},
     "output_type": "execute_result"
    }
   ],
   "source": [
    "k_arr = jnp.arange(0,n/2+1,1).astype(int)\n",
    "jitted_ulstraspherical_polynomials(0.2,n,.4,k_arr)"
   ]
  },
  {
   "cell_type": "code",
   "execution_count": 172,
   "id": "a177a83f-71b0-48e7-b58a-0d45c53f516c",
   "metadata": {},
   "outputs": [
    {
     "data": {
      "text/plain": [
       "-0.06204499230720001"
      ]
     },
     "execution_count": 172,
     "metadata": {},
     "output_type": "execute_result"
    }
   ],
   "source": [
    "from scipy.special import gegenbauer\n",
    "gegenbauer(n,.4)(0.2)"
   ]
  },
  {
   "cell_type": "code",
   "execution_count": 101,
   "id": "e03735c6-8fc4-4b66-8f6a-f14e804f93f8",
   "metadata": {},
   "outputs": [
    {
     "data": {
      "text/plain": [
       "0.08859622176705648"
      ]
     },
     "execution_count": 101,
     "metadata": {},
     "output_type": "execute_result"
    }
   ],
   "source": [
    "gegenbauer(30,.4)(0.3)"
   ]
  },
  {
   "cell_type": "code",
   "execution_count": 73,
   "id": "b2610665-fb24-43a9-8034-b719a4f1b2f1",
   "metadata": {},
   "outputs": [],
   "source": [
    "result = nth_derivative(ultraspherical_deriv_arg, n, .3, 2, 3)\n"
   ]
  },
  {
   "cell_type": "code",
   "execution_count": 5,
   "id": "4ee78f1b-1b34-4a3f-b00a-37e29db32de9",
   "metadata": {},
   "outputs": [
    {
     "ename": "TypeError",
     "evalue": "Cannot interpret value of type <class 'jaxlib.xla_extension.PjitFunction'> as an abstract array; it does not have a dtype attribute",
     "output_type": "error",
     "traceback": [
      "\u001b[0;31m---------------------------------------------------------------------------\u001b[0m",
      "\u001b[0;31mKeyError\u001b[0m                                  Traceback (most recent call last)",
      "\u001b[0;32m~/opt/anaconda3/envs/MachineLearnGravPotential/lib/python3.8/site-packages/jax/_src/api_util.py\u001b[0m in \u001b[0;36mshaped_abstractify\u001b[0;34m(x)\u001b[0m\n\u001b[1;32m    562\u001b[0m   \u001b[0;32mtry\u001b[0m\u001b[0;34m:\u001b[0m\u001b[0;34m\u001b[0m\u001b[0;34m\u001b[0m\u001b[0m\n\u001b[0;32m--> 563\u001b[0;31m     \u001b[0;32mreturn\u001b[0m \u001b[0m_shaped_abstractify_handlers\u001b[0m\u001b[0;34m[\u001b[0m\u001b[0mtype\u001b[0m\u001b[0;34m(\u001b[0m\u001b[0mx\u001b[0m\u001b[0;34m)\u001b[0m\u001b[0;34m]\u001b[0m\u001b[0;34m(\u001b[0m\u001b[0mx\u001b[0m\u001b[0;34m)\u001b[0m\u001b[0;34m\u001b[0m\u001b[0;34m\u001b[0m\u001b[0m\n\u001b[0m\u001b[1;32m    564\u001b[0m   \u001b[0;32mexcept\u001b[0m \u001b[0mKeyError\u001b[0m\u001b[0;34m:\u001b[0m\u001b[0;34m\u001b[0m\u001b[0;34m\u001b[0m\u001b[0m\n",
      "\u001b[0;31mKeyError\u001b[0m: <class 'jaxlib.xla_extension.PjitFunction'>",
      "\nDuring handling of the above exception, another exception occurred:\n",
      "\u001b[0;31mTypeError\u001b[0m                                 Traceback (most recent call last)",
      "\u001b[0;32m/var/folders/rq/9c89gb15479bjnxrpnmdf_p40000gn/T/ipykernel_70933/1559789543.py\u001b[0m in \u001b[0;36m<module>\u001b[0;34m\u001b[0m\n\u001b[0;32m----> 1\u001b[0;31m \u001b[0mnth_deriv\u001b[0m\u001b[0;34m(\u001b[0m\u001b[0multraspherical_deriv_arg\u001b[0m\u001b[0;34m,\u001b[0m\u001b[0;36m.5\u001b[0m\u001b[0;34m,\u001b[0m\u001b[0;36m2\u001b[0m\u001b[0;34m,\u001b[0m\u001b[0;36m4\u001b[0m\u001b[0;34m)\u001b[0m\u001b[0;34m\u001b[0m\u001b[0;34m\u001b[0m\u001b[0m\n\u001b[0m",
      "    \u001b[0;31m[... skipping hidden 6 frame]\u001b[0m\n",
      "\u001b[0;32m~/opt/anaconda3/envs/MachineLearnGravPotential/lib/python3.8/site-packages/jax/_src/api_util.py\u001b[0m in \u001b[0;36m_shaped_abstractify_slow\u001b[0;34m(x)\u001b[0m\n\u001b[1;32m    552\u001b[0m     \u001b[0mdtype\u001b[0m \u001b[0;34m=\u001b[0m \u001b[0mdtypes\u001b[0m\u001b[0;34m.\u001b[0m\u001b[0mcanonicalize_dtype\u001b[0m\u001b[0;34m(\u001b[0m\u001b[0mx\u001b[0m\u001b[0;34m.\u001b[0m\u001b[0mdtype\u001b[0m\u001b[0;34m,\u001b[0m \u001b[0mallow_opaque_dtype\u001b[0m\u001b[0;34m=\u001b[0m\u001b[0;32mTrue\u001b[0m\u001b[0;34m)\u001b[0m\u001b[0;34m\u001b[0m\u001b[0;34m\u001b[0m\u001b[0m\n\u001b[1;32m    553\u001b[0m   \u001b[0;32melse\u001b[0m\u001b[0;34m:\u001b[0m\u001b[0;34m\u001b[0m\u001b[0;34m\u001b[0m\u001b[0m\n\u001b[0;32m--> 554\u001b[0;31m     raise TypeError(\n\u001b[0m\u001b[1;32m    555\u001b[0m         \u001b[0;34mf\"Cannot interpret value of type {type(x)} as an abstract array; it \"\u001b[0m\u001b[0;34m\u001b[0m\u001b[0;34m\u001b[0m\u001b[0m\n\u001b[1;32m    556\u001b[0m         \"does not have a dtype attribute\")\n",
      "\u001b[0;31mTypeError\u001b[0m: Cannot interpret value of type <class 'jaxlib.xla_extension.PjitFunction'> as an abstract array; it does not have a dtype attribute"
     ]
    }
   ],
   "source": [
    "nth_deriv(ultraspherical_deriv_arg,.5,2,4)"
   ]
  },
  {
   "cell_type": "code",
   "execution_count": 35,
   "id": "f987a520-068f-4abf-a475-0d907dde7905",
   "metadata": {},
   "outputs": [
    {
     "data": {
      "text/plain": [
       "Array(37.40750474, dtype=float64, weak_type=True)"
      ]
     },
     "execution_count": 35,
     "metadata": {},
     "output_type": "execute_result"
    }
   ],
   "source": [
    "jax.grad(jax.grad(jax.grad(ultraspherical_deriv_arg)))(.3,2,3)"
   ]
  },
  {
   "cell_type": "code",
   "execution_count": 63,
   "id": "893ba6d6-ebf2-40c7-8e35-73549095cd5e",
   "metadata": {},
   "outputs": [],
   "source": [
    "def nth_derivative(func, n, *args):\n",
    "    for _ in range(n):\n",
    "        func = jax.grad(func)\n",
    "    return func(*args)\n",
    "\n",
    "n = 8\n",
    "########result = nth_derivative(ultraspherical_deriv_arg, n, .3, 2, 3)\n"
   ]
  },
  {
   "cell_type": "code",
   "execution_count": 67,
   "id": "2c56f06d-fed7-4ac7-907a-54962716c47a",
   "metadata": {},
   "outputs": [],
   "source": [
    "result = nth_derivative(ultraspherical_deriv_arg, n, .3, 2, 3)\n"
   ]
  },
  {
   "cell_type": "code",
   "execution_count": 44,
   "id": "42c14630-a50f-4eb7-b8c3-ee08b9558362",
   "metadata": {},
   "outputs": [
    {
     "data": {
      "text/plain": [
       "Array(-989.51966603, dtype=float64, weak_type=True)"
      ]
     },
     "execution_count": 44,
     "metadata": {},
     "output_type": "execute_result"
    }
   ],
   "source": [
    "jax.grad(jax.grad(jax.grad(jax.grad(jax.grad(ultraspherical_deriv_arg)))))(.3, 2, 3)"
   ]
  },
  {
   "cell_type": "code",
   "execution_count": null,
   "id": "9418b0c0-0c97-4234-a8a1-99e364c628fc",
   "metadata": {},
   "outputs": [],
   "source": []
  },
  {
   "cell_type": "code",
   "execution_count": null,
   "id": "f71a4d93-c3d1-470a-bd4e-968b0ea38a94",
   "metadata": {},
   "outputs": [],
   "source": []
  },
  {
   "cell_type": "code",
   "execution_count": 28,
   "id": "048c4d3d-b73d-4875-a2e8-8c5b659c1d4f",
   "metadata": {},
   "outputs": [],
   "source": [
    "@jax.jit\n",
    "def test_loop(n):\n",
    "    g = ultraspherical_deriv_arg\n",
    "    def body_func(i,g):\n",
    "        g = jax.grad(g)\n",
    "        return g(3)\n",
    "    deriv = jax.lax.fori_loop(0,n,body_func,g)\n",
    "    return deriv\n"
   ]
  },
  {
   "cell_type": "code",
   "execution_count": 29,
   "id": "ca1e019a-98b7-4e80-b8c2-47b0042260d9",
   "metadata": {},
   "outputs": [
    {
     "ename": "TypeError",
     "evalue": "Value <PjitFunction of <function ultraspherical_deriv_arg at 0x7fe088236ca0>> with type <class 'jaxlib.xla_extension.PjitFunction'> is not a valid JAX type",
     "output_type": "error",
     "traceback": [
      "\u001b[0;31m---------------------------------------------------------------------------\u001b[0m",
      "\u001b[0;31mTypeError\u001b[0m                                 Traceback (most recent call last)",
      "\u001b[0;32m/var/folders/rq/9c89gb15479bjnxrpnmdf_p40000gn/T/ipykernel_70933/2555294515.py\u001b[0m in \u001b[0;36m<module>\u001b[0;34m\u001b[0m\n\u001b[0;32m----> 1\u001b[0;31m \u001b[0mtest_loop\u001b[0m\u001b[0;34m(\u001b[0m\u001b[0;36m2\u001b[0m\u001b[0;34m)\u001b[0m\u001b[0;34m\u001b[0m\u001b[0;34m\u001b[0m\u001b[0m\n\u001b[0m",
      "    \u001b[0;31m[... skipping hidden 12 frame]\u001b[0m\n",
      "\u001b[0;32m/var/folders/rq/9c89gb15479bjnxrpnmdf_p40000gn/T/ipykernel_70933/2645751871.py\u001b[0m in \u001b[0;36mtest_loop\u001b[0;34m(n)\u001b[0m\n\u001b[1;32m      5\u001b[0m         \u001b[0mg\u001b[0m \u001b[0;34m=\u001b[0m \u001b[0mjax\u001b[0m\u001b[0;34m.\u001b[0m\u001b[0mgrad\u001b[0m\u001b[0;34m(\u001b[0m\u001b[0mg\u001b[0m\u001b[0;34m)\u001b[0m\u001b[0;34m\u001b[0m\u001b[0;34m\u001b[0m\u001b[0m\n\u001b[1;32m      6\u001b[0m         \u001b[0;32mreturn\u001b[0m \u001b[0mg\u001b[0m\u001b[0;34m(\u001b[0m\u001b[0;36m3\u001b[0m\u001b[0;34m)\u001b[0m\u001b[0;34m\u001b[0m\u001b[0;34m\u001b[0m\u001b[0m\n\u001b[0;32m----> 7\u001b[0;31m     \u001b[0mderiv\u001b[0m \u001b[0;34m=\u001b[0m \u001b[0mjax\u001b[0m\u001b[0;34m.\u001b[0m\u001b[0mlax\u001b[0m\u001b[0;34m.\u001b[0m\u001b[0mfori_loop\u001b[0m\u001b[0;34m(\u001b[0m\u001b[0;36m0\u001b[0m\u001b[0;34m,\u001b[0m\u001b[0mn\u001b[0m\u001b[0;34m,\u001b[0m\u001b[0mbody_func\u001b[0m\u001b[0;34m,\u001b[0m\u001b[0mg\u001b[0m\u001b[0;34m)\u001b[0m\u001b[0;34m\u001b[0m\u001b[0;34m\u001b[0m\u001b[0m\n\u001b[0m\u001b[1;32m      8\u001b[0m     \u001b[0;32mreturn\u001b[0m \u001b[0mderiv\u001b[0m\u001b[0;34m\u001b[0m\u001b[0;34m\u001b[0m\u001b[0m\n",
      "    \u001b[0;31m[... skipping hidden 7 frame]\u001b[0m\n",
      "\u001b[0;32m~/opt/anaconda3/envs/MachineLearnGravPotential/lib/python3.8/site-packages/jax/_src/core.py\u001b[0m in \u001b[0;36mconcrete_aval\u001b[0;34m(x)\u001b[0m\n\u001b[1;32m   1349\u001b[0m   \u001b[0;32mif\u001b[0m \u001b[0mhasattr\u001b[0m\u001b[0;34m(\u001b[0m\u001b[0mx\u001b[0m\u001b[0;34m,\u001b[0m \u001b[0;34m'__jax_array__'\u001b[0m\u001b[0;34m)\u001b[0m\u001b[0;34m:\u001b[0m\u001b[0;34m\u001b[0m\u001b[0;34m\u001b[0m\u001b[0m\n\u001b[1;32m   1350\u001b[0m     \u001b[0;32mreturn\u001b[0m \u001b[0mconcrete_aval\u001b[0m\u001b[0;34m(\u001b[0m\u001b[0mx\u001b[0m\u001b[0;34m.\u001b[0m\u001b[0m__jax_array__\u001b[0m\u001b[0;34m(\u001b[0m\u001b[0;34m)\u001b[0m\u001b[0;34m)\u001b[0m\u001b[0;34m\u001b[0m\u001b[0;34m\u001b[0m\u001b[0m\n\u001b[0;32m-> 1351\u001b[0;31m   raise TypeError(f\"Value {repr(x)} with type {type(x)} is not a valid JAX \"\n\u001b[0m\u001b[1;32m   1352\u001b[0m                    \"type\")\n\u001b[1;32m   1353\u001b[0m \u001b[0;34m\u001b[0m\u001b[0m\n",
      "\u001b[0;31mTypeError\u001b[0m: Value <PjitFunction of <function ultraspherical_deriv_arg at 0x7fe088236ca0>> with type <class 'jaxlib.xla_extension.PjitFunction'> is not a valid JAX type"
     ]
    }
   ],
   "source": [
    "test_loop(2)"
   ]
  },
  {
   "cell_type": "code",
   "execution_count": null,
   "id": "7c010609-7233-4e68-9370-84488fb82e58",
   "metadata": {},
   "outputs": [],
   "source": [
    "factorial(10.)"
   ]
  },
  {
   "cell_type": "code",
   "execution_count": 73,
   "id": "e0ee11ce-bb97-43dc-8e93-cde5bae27fcb",
   "metadata": {},
   "outputs": [
    {
     "data": {
      "text/plain": [
       "Array(0.20551189, dtype=float64, weak_type=True)"
      ]
     },
     "execution_count": 73,
     "metadata": {},
     "output_type": "execute_result"
    }
   ],
   "source": [
    "ultraspherical_deriv_arg(.5,2.,4.)"
   ]
  },
  {
   "cell_type": "code",
   "execution_count": null,
   "id": "be658d47-d670-4e5b-bcff-fd860aa7866f",
   "metadata": {},
   "outputs": [],
   "source": []
  }
 ],
 "metadata": {
  "kernelspec": {
   "display_name": "Python 3 (ipykernel)",
   "language": "python",
   "name": "python3"
  },
  "language_info": {
   "codemirror_mode": {
    "name": "ipython",
    "version": 3
   },
   "file_extension": ".py",
   "mimetype": "text/x-python",
   "name": "python",
   "nbconvert_exporter": "python",
   "pygments_lexer": "ipython3",
   "version": "3.10.12"
  }
 },
 "nbformat": 4,
 "nbformat_minor": 5
}
